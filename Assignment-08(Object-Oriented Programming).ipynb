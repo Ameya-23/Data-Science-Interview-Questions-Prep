{
 "cells": [
  {
   "cell_type": "markdown",
   "id": "3a90adfe",
   "metadata": {},
   "source": [
    "# 1.What Is Object-Oriented Programming?"
   ]
  },
  {
   "cell_type": "markdown",
   "id": "e09e9030",
   "metadata": {},
   "source": [
    "- In Python, object-oriented Programming (OOPs) is a programming paradigm that uses objects and classes in programming. It aims to implement real-world entities like inheritance, polymorphisms, encapsulation, etc. in the programming. The main concept of OOPs is to bind the data and the functions that work on that together as a single unit so that no other part of the code can access this data."
   ]
  },
  {
   "cell_type": "raw",
   "id": "1d611c95",
   "metadata": {},
   "source": [
    "OOPs Based on Two Things :\n",
    "    1) class:\n",
    "        Blueprint of an object that defines variables and methods (Function)\n",
    "        or Class is collection of objects\n",
    "    2) Object:\n",
    "        > Real world enitities  (House, Mobile,Bird etc)\n",
    "        >> Instance of class\n",
    "        >> Everything in python is object e.g str,list,int,tuple etc"
   ]
  },
  {
   "cell_type": "markdown",
   "id": "bf756f9a",
   "metadata": {},
   "source": [
    "# 2. Difference between Procedural programming and OOPs?"
   ]
  },
  {
   "cell_type": "code",
   "execution_count": null,
   "id": "6fbceb62",
   "metadata": {},
   "outputs": [],
   "source": [
    "          Procedural Oriented Programming                                Object-Oriented Programming\n",
    "    \n",
    "1. In procedural programming, the program is                    1.In procedural programming, the program is divided into \n",
    "  divided into small parts called functions.                      small parts called functions.\n",
    "    \n",
    "2. Procedural programming follows a top-down approach.          2. Object-oriented programming follows a bottom-up approach.\n",
    "\n",
    "3. There is no access specifier in procedural programming.      3. Object-oriented programming has access specifiers like \n",
    "                                                                   private,public, protected, etc.\n",
    "\n",
    "4. Adding new data and functions is not easy.                   4. Adding new data and function is easy.\n",
    "\n",
    "5. Procedural programming does not have any proper way          5. Object-oriented programming provides data hiding so it \n",
    "   of hiding data so it is less secure.                            is more secure.\n",
    "    \n",
    "6. In procedural programming, overloading is not possible.      6. Overloading is possible in object-oriented programming.\n",
    "\n",
    "7. Code reusability absent in procedural programming             7. Code reusability present in object-oriented programming."
   ]
  },
  {
   "cell_type": "markdown",
   "id": "4a6b8b9a",
   "metadata": {},
   "source": [
    "# 3. What are the fundamental principles/features of Object-Oriented Programming?"
   ]
  },
  {
   "cell_type": "markdown",
   "id": "dd5fc2d2",
   "metadata": {},
   "source": [
    "### Major principles/features of object-oriented programming system are given below.\n",
    "\n",
    "\n",
    "\n"
   ]
  },
  {
   "cell_type": "markdown",
   "id": "9c0c3e5c",
   "metadata": {},
   "source": [
    "- 1)Class, 2)Object, 3)Method, 4)Inheritance, 5)Polymorphism, 6)Data Abstraction, 7)Encapsulation, 8) Method Overriding,\n",
    "  9) Method Overloading, 10) Objects, 11) Classes, 12) Constructors and Destructors"
   ]
  },
  {
   "cell_type": "code",
   "execution_count": null,
   "id": "1b048ae7",
   "metadata": {},
   "outputs": [],
   "source": [
    "1. Class\n",
    "\n",
    "The class can be defined as a collection of objects. \n",
    "It is a logical entity that has some specific attributes and methods. \n",
    "For example: if you have an employee class, then it should contain an attribute and method, \n",
    "    i.e. an email id, name, age, salary, etc.\n",
    "********************************************************************************************************************  \n",
    "2. Object\n",
    "\n",
    "The object is an entity that has state and behavior. \n",
    "It may be any real-world object like the mouse, keyboard, chair, table, pen, etc.\n",
    "Everything in Python is an object, and almost everything has attributes and methods. \n",
    "All functions have a built-in attribute __doc__, which returns the docstring defined in the function source code.\n",
    "********************************************************************************************************************\n",
    "3. Method\n",
    "\n",
    "The method is a function that is associated with an object. \n",
    "In Python, a method is not unique to class instances. Any object type can have methods.\n",
    "********************************************************************************************************************\n",
    "4. Inheritance\n",
    "\n",
    "Inheritance is the most important aspect of object-oriented programming, which simulates the real-world concept of \n",
    "inheritance. It specifies that the child object acquires all the properties and behaviors of the parent object.\n",
    "By using inheritance, we can create a class which uses all the properties and behavior of another class. \n",
    "The new class is known as a derived class or child class, and the one whose properties are acquired is known as \n",
    " a base class or parent class.\n",
    "\n",
    "It provides the re-usability of the code.\n",
    "********************************************************************************************************************\n",
    "5. Polymorphism\n",
    "\n",
    "Polymorphism contains two words \"poly\" and \"morphs\". Poly means many, and morph means shape. \n",
    "By polymorphism, we understand that one task can be performed in different ways. \n",
    "For example - you have a class animal, and all animals speak. \n",
    "But they speak differently. Here, the \"speak\" behavior is polymorphic in a sense and depends on the animal. \n",
    "So, the abstract \"animal\" concept does not actually \"speak\", but specific animals (like dogs and cats) have a \n",
    "concrete implementation of the action \"speak\"\n",
    "********************************************************************************************************************\n",
    "6. Encapsulation\n",
    "\n",
    "Encapsulation is also an essential aspect of object-oriented programming. \n",
    "It is used to restrict access to methods and variables. \n",
    "In encapsulation, code and data are wrapped together within a single unit from being modified by accident\n",
    "********************************************************************************************************************\n",
    "7. Data Abstraction\n",
    "\n",
    "Data abstraction and encapsulation both are often used as synonyms. \n",
    "Both are nearly synonyms because data abstraction is achieved through encapsulation.\n",
    "\n",
    "Abstraction is used to hide internal details and show only functionalities. \n",
    "Abstracting something means to give names to things so that the name captures the core of what a function or \n",
    "a whole program does."
   ]
  },
  {
   "cell_type": "code",
   "execution_count": null,
   "id": "e6dd7a27",
   "metadata": {},
   "outputs": [],
   "source": [
    "8. Method Overriding\n",
    "\n",
    "Method overriding is an ability of any object-oriented programming language that allows a subclass or child class \n",
    "to provide a specific implementation of a method that is already provided by one of its super-classes or parent classes. \n",
    "When a method in a subclass has the same name, same parameters or signature and same return type(or sub-type) as a method \n",
    "in its super-class, then the method in the subclass is said to override the method in the super-class.\n",
    "********************************************************************************************************************\n",
    "9. Method Overloading\n",
    "Two or more methods have the same name but different numbers of parameters or different types of parameters, or both. \n",
    "These methods are called overloaded methods and this is called method overloading. \n",
    "********************************************************************************************************************\n",
    "10. Objects\n",
    "\n",
    "The object is an entity that has a state and behavior associated with it. \n",
    "It may be any real-world object like a mouse, keyboard, chair, table, pen, etc. Integers, strings, floating-point numbers,\n",
    "even arrays, and dictionaries, are all objects.\n",
    "********************************************************************************************************************\n",
    "11. Classes \n",
    "\n",
    "A class is a collection of objects. A class contains the blueprints or the prototype from which the objects are \n",
    "being created. \n",
    "It is a logical entity that contains some attributes and methods. \n",
    "********************************************************************************************************************\n",
    "12. Constructors \n",
    "\n",
    "Constructors are generally used for instantiating an object. The task of constructors is to initialize(assign values) \n",
    "to the data members of the class when an object of the class is created. In Python the __init__() method is called the \n",
    "constructor and is always called when an object is created.\n",
    "\n",
    "Syntax of constructor declaration : \n",
    "\n",
    "def __init__(self):\n",
    "    # body of the constructor\n",
    "    \n",
    "Types of constructors : \n",
    "\n",
    "Default constructor: \n",
    "    The default constructor is a simple constructor which doesn’t accept any arguments. \n",
    "    Its definition has only one argument which is a reference to the instance being constructed.\n",
    "    \n",
    "     # default constructor\n",
    "    def __init__(self):\n",
    "    \n",
    "Parameterized constructor: \n",
    "    constructor with parameters is known as parameterized constructor. \n",
    "    The parameterized constructor takes its first argument as a reference to the instance being constructed known as self \n",
    "    and the rest of the arguments are provided by the programmer.\n",
    "    \n",
    "    # parameterized constructor\n",
    "    def __init__(self, f, s):\n",
    "********************************************************************************************************************        \n",
    "13. Destructors :\n",
    "    Destructors are called when an object gets destroyed. In Python, destructors are not needed as much as\n",
    "    Python has a garbage collector that handles memory management automatically. \n",
    "    \n",
    "The __del__() method is a known as a destructor method in Python. \n",
    "It is called when all references to the object have been deleted i.e when an object is garbage collected. \n",
    "\n",
    "Syntax:\n",
    "def __del__(self):\n",
    "  # body of destructor\n",
    "\n",
    "Note : A reference to objects is also deleted when the object goes out of reference or when the program ends.  "
   ]
  },
  {
   "cell_type": "markdown",
   "id": "a50e000c",
   "metadata": {},
   "source": [
    "# 4. What is an object?\n"
   ]
  },
  {
   "cell_type": "raw",
   "id": "1aa103c5",
   "metadata": {},
   "source": [
    "An Object is an instance of a Class. A class is like a blueprint while an instance is a copy of the class with actual values. \n",
    "Python is object-oriented programming language that stresses on objects i.e. it mainly emphasizes functions. \n",
    "Objects are basically an encapsulation of data variables and methods acting on that data into a single entity.\n",
    "e.g. obj = Class_name()"
   ]
  },
  {
   "cell_type": "markdown",
   "id": "8cb7b954",
   "metadata": {},
   "source": [
    "# 5. What is a class?"
   ]
  },
  {
   "cell_type": "raw",
   "id": "747f6551",
   "metadata": {},
   "source": [
    "Blueprint of an object that defines variables and methods (Function) or Class is collection of objects\n",
    "A class is a user-defined blueprint or prototype from which objects are created. \n",
    "Classes provide a means of bundling data and functionality together. \n",
    "Creating a new class creates a new type of object, allowing new instances of that type to be made. \n",
    "Each class instance can have attributes attached to it for maintaining its state. \n",
    "Class instances can also have methods (defined by their class) for modifying their state."
   ]
  },
  {
   "cell_type": "markdown",
   "id": "9906eeb8",
   "metadata": {},
   "source": [
    "# 6. What is the difference between a class and an object?"
   ]
  },
  {
   "cell_type": "raw",
   "id": "4186f1e7",
   "metadata": {},
   "source": [
    "                Class                                                             Object\n",
    "    \n",
    "1. Class is used as a template for declaring and                    1. Class is used as a template for declaring and \n",
    "  creating the objects.                                                creating the objects. \n",
    "    \n",
    "2. When a class is created, no memory is allocated.                 2. Objects are allocated memory space whenever they \n",
    "                                                                       are created.\n",
    "3. The class has to be declared first and only once.                3. An object is created many times as per requirement.\n",
    "\n",
    "4. A class can not be manipulated as they are not                   4. Objects can be manipulated.\n",
    "   available in the memory.\n",
    "    \n",
    "5. A class is a logical entity.                                     5. An object is a physical entity.\n",
    "\n",
    "6. A class is used to bind data as well as methods                  6. Objects are like a variable of the class.\n",
    "   together as a single unit.         "
   ]
  },
  {
   "cell_type": "markdown",
   "id": "aff790ce",
   "metadata": {},
   "source": [
    "# 7. Can you call the base class method without creating an instance?"
   ]
  },
  {
   "cell_type": "code",
   "execution_count": 30,
   "id": "9e6c2931",
   "metadata": {},
   "outputs": [],
   "source": [
    "Yes, we can call the base class method without creating an instance.\n",
    "We can inherit the parent method by using super() keyword and also by its Parent class name.\n",
    "Example:\n",
    "    super().Method_Name(a,b) # Inheriting base class method by using super keyword\n",
    "    M1.Method_Name(self,a,b) # Inheriting base class method by using parent classname\n",
    "\n",
    "class M1():                \n",
    "    def __init__(self,a,b):\n",
    "        self.a = a \n",
    "        self.b = b\n",
    "        print(\"We are in init method\")\n",
    "    def get_add(self):\n",
    "        add = self.a + self.b\n",
    "        print(f\"Addition of two number is {add}\")\n",
    "        \n",
    "class M2(M1):\n",
    "    def get_sub(self,c,d):\n",
    "        self.c = c \n",
    "        self.d = d\n",
    "        sub = self.c - self.d\n",
    "        print(f\"Substraction of two number is {sub}\")\n",
    "        ###############Base class Method\n",
    "        super().__init__(9,9)\n",
    "#         M1.__init__(self,a,b)"
   ]
  },
  {
   "cell_type": "code",
   "execution_count": 31,
   "id": "8a8587c1",
   "metadata": {},
   "outputs": [
    {
     "name": "stdout",
     "output_type": "stream",
     "text": [
      "We are in init method\n"
     ]
    }
   ],
   "source": [
    "obj = M2(30,10)"
   ]
  },
  {
   "cell_type": "code",
   "execution_count": 32,
   "id": "4505434f",
   "metadata": {},
   "outputs": [
    {
     "name": "stdout",
     "output_type": "stream",
     "text": [
      "Addition of two number is 40\n"
     ]
    }
   ],
   "source": [
    "obj.get_add()"
   ]
  },
  {
   "cell_type": "code",
   "execution_count": 33,
   "id": "5e6b9492",
   "metadata": {},
   "outputs": [
    {
     "name": "stdout",
     "output_type": "stream",
     "text": [
      "Substraction of two number is 24\n",
      "We are in init method\n"
     ]
    }
   ],
   "source": [
    "obj.get_sub(30,6)"
   ]
  },
  {
   "cell_type": "markdown",
   "id": "5d5e8554",
   "metadata": {},
   "source": [
    "# 8.What is inheritance?\n"
   ]
  },
  {
   "cell_type": "raw",
   "id": "0936fdd0",
   "metadata": {},
   "source": [
    "Inheritance allows us to define a class that inherits all the methods and properties from another class.\n",
    "It is a mechanism that allows you to create a hierarchy of classes that share a set of properties and methods by deriving a class from another class. \n",
    "Inheritance is the capability of one class to derive or inherit the properties from another class. \n",
    "\n",
    "Parent class is the class being inherited from, also called Base/Parent/Super class.\n",
    "\n",
    "Child class is the class that inherits from another class, also called Child/Derived/Sub class.\n",
    "\n",
    "It represents real-world relationships well.\n",
    "It provides the reusability of a code. We don’t have to write the same code again and again. Also, it allows us to add more features to a class without modifying it.\n",
    "It is transitive in nature, which means that if class B inherits from another class A, then all the subclasses of B would automatically inherit from class A.\n",
    "Inheritance offers a simple, understandable model structure. \n",
    "Less development and maintenance expenses result from an inheritance. "
   ]
  },
  {
   "cell_type": "markdown",
   "id": "42497153",
   "metadata": {},
   "source": [
    "# 9. What are the different types of inheritance?\n"
   ]
  },
  {
   "cell_type": "code",
   "execution_count": null,
   "id": "a3e4c65a",
   "metadata": {},
   "outputs": [],
   "source": [
    "Different types of Inheritance:\n",
    "    \n",
    "1. Single inheritance: \n",
    "    When a child class inherits from only one parent class, it is called single inheritance. \n",
    "    Syntax : \n",
    "         class Parentclass(): # Base class/ Super class /Parent class\n",
    "    \n",
    "         class Childclass(Parentclass): # Derived class/ Sub class/child class\n",
    "****************************************************************************************************************            \n",
    "2. Multiple inheritances: \n",
    "    When a child class inherits from multiple parent classes, it is called multiple inheritances.\n",
    "    \n",
    "    Syntax :\n",
    "        class Father(): # Parent\n",
    "            pass\n",
    "        class Mother(): # Parent\n",
    "            pass\n",
    "        class Child(Father,Mother):  # we can call multiple classess in child class\n",
    "            pass\n",
    "        obj = Child()\n",
    "******************************************************************************************************************   \n",
    "3. Multilevel inheritance: \n",
    "    When we have a child and grandchild relationship.  \n",
    "    If we want to use class -1 properties in class -2 and class -2 properties in class -3 and so on\n",
    "    Syntax :\n",
    "        class GrandFather():\n",
    "            pass\n",
    "        class Father(GrandFather):\n",
    "            pass\n",
    "        class Child(Father):\n",
    "            pass\n",
    "        obj = Child() # we can access all properties of father and grandfather \n",
    "******************************************************************************************************************        \n",
    "4. Hierarchical inheritance:\n",
    "    More than one derived class are created from a single base.\n",
    "    Syntax:\n",
    "        class Parent(): # Parent/base/super class\n",
    "            pass\n",
    "        class Child1(Parent): # Child1 /Derived class/sub class\n",
    "            pass\n",
    "        class Child2(Parent):\n",
    "            pass\n",
    "        obj1 = Child1()\n",
    "        obj2 = Child2()\n",
    "    \n",
    "    \n",
    "******************************************************************************************************************    \n",
    "5. Hybrid inheritance: \n",
    "    This form combines more than one form of inheritance. Basically, it is a blend of more than one type of inheritance.\n",
    "    Syntax:\n",
    "        class Parent(): # Parent/base/super class\n",
    "            pass\n",
    "        class Child1(Parent): # Child1 /Derived class/sub class\n",
    "            pass\n",
    "        class Child2(Parent):\n",
    "            pass\n",
    "        class GranddChildClass(Child1,Child2):\n",
    "            pass"
   ]
  },
  {
   "cell_type": "markdown",
   "id": "a7c4b268",
   "metadata": {},
   "source": [
    "# 10.What is the difference between multiple and multilevel inheritances?"
   ]
  },
  {
   "cell_type": "code",
   "execution_count": null,
   "id": "af798cff",
   "metadata": {},
   "outputs": [],
   "source": [
    "               Multiple Inheritance                                         Multilevel Inheritance\n",
    "    \n",
    "1. Multiple Inheritance is an Inheritance type where       1. Multilevel Inheritance is an Inheritance type that inherits  \n",
    "   a class inherits from more than one base class.            from a derived class,making that derived class a base class   \n",
    "                                                              for a new class.\n",
    "2. Multiple Inheritance is not widely used because         2. Multilevel Inheritance is widely used.\n",
    "   it makes the system more complex.\n",
    "    \n",
    "3. Multiple Inheritance has two class levels namely,       3. Multilevel Inheritance has three class levels namely, \n",
    "   base class and derived class.                              base class, intermediate class and derived class."
   ]
  },
  {
   "cell_type": "markdown",
   "id": "24ed1d88",
   "metadata": {},
   "source": [
    "# 11. What are the limitations of inheritance?"
   ]
  },
  {
   "cell_type": "code",
   "execution_count": null,
   "id": "407aaabf",
   "metadata": {},
   "outputs": [],
   "source": [
    "Decreases the Execution Speed: \n",
    "    loading multiple classes because they are interdependent\n",
    "    \n",
    "Tightly Coupled Classes: \n",
    "    This means that even though parent classes can be executed independently,child classes cannot be executed without \n",
    "    defining their parent classes."
   ]
  },
  {
   "cell_type": "markdown",
   "id": "66585b01",
   "metadata": {},
   "source": [
    "# 12.What are the superclass and subclass?"
   ]
  },
  {
   "cell_type": "code",
   "execution_count": null,
   "id": "21c6dbff",
   "metadata": {},
   "outputs": [],
   "source": [
    "1. Superclass:\n",
    "    The class whose properties gets inherited by another class is known as superclass or parent class\n",
    "    \n",
    "2. Subclass:\n",
    "    1)The class which inherits the properties of another class is known as the subclass. \n",
    "    2)A subclass inherits all data and behavior of parent class. \n",
    "    3)But we can also add more information and behavior to the subclass and also override its behavior."
   ]
  },
  {
   "cell_type": "markdown",
   "id": "70599696",
   "metadata": {},
   "source": [
    "# 13.What is the super keyword?"
   ]
  },
  {
   "cell_type": "code",
   "execution_count": null,
   "id": "825a1804",
   "metadata": {},
   "outputs": [],
   "source": [
    "The super() function is used to give access to methods and properties of a parent or sibling class.\n",
    "\n",
    "The super() function returns an object that represents the parent class.\n",
    "\n",
    "Syntax:\n",
    "    super()"
   ]
  },
  {
   "cell_type": "markdown",
   "id": "9ee65528",
   "metadata": {},
   "source": [
    "# 14.What is encapsulation?"
   ]
  },
  {
   "cell_type": "code",
   "execution_count": null,
   "id": "fc1caa14",
   "metadata": {},
   "outputs": [],
   "source": [
    "Used to restrict the access of variables and methods from outside the class\n",
    "Protecting the data from modification or to prevent accidental damages\n",
    "\n",
    "Encapsulation is one of the fundamental concepts in object-oriented programming (OOP). \n",
    "It describes the idea of wrapping data and the methods that work on data within one unit. \n",
    "This puts restrictions on accessing variables and methods directly and can prevent the accidental modification of data. \n",
    "To prevent accidental change, an object’s variable can only be changed by an object’s method. \n",
    "Those types of variables are known as private variables.\n",
    "\n",
    "E.g.\n",
    "__class_var = 5555 # Private Class Variable/Private variable\n",
    "self.__state = state # Private Instance variable\n",
    "def __get_Output(self): #  Private method"
   ]
  },
  {
   "cell_type": "markdown",
   "id": "f514ca54",
   "metadata": {},
   "source": [
    "# 15. What is the name mangling and how does it work?"
   ]
  },
  {
   "cell_type": "code",
   "execution_count": null,
   "id": "d8583969",
   "metadata": {},
   "outputs": [],
   "source": [
    "1. In name mangling process any identifier with two leading underscore and one trailing underscore is textually replaced \n",
    "   with _classname__identifier where classname is the name of the current class.\n",
    "2. It means that any identifier of the form __geek (at least two leading underscores or at most one trailing underscore) \n",
    "   is replaced with _classname__geek, where classname is the current class name with leading underscore(s) stripped.\n",
    "3. To access/ Modify private variables and methods from outside of the class.\n",
    "\n",
    "Synatx:\n",
    "obj._ClassName__Indentifier\n",
    "\n",
    "obj._Test__Class_var\n",
    "obj._Test__state\n",
    "obj._Test__get_Output()"
   ]
  },
  {
   "cell_type": "code",
   "execution_count": null,
   "id": "33fd26a8",
   "metadata": {},
   "outputs": [],
   "source": [
    "class Student():\n",
    "    def __init__(self, name):\n",
    "        self.__name = name\n",
    "\n",
    "    def displayName(self):\n",
    "        print(self.__name)\n",
    "\n",
    "s1 = Student(\"Santhosh\")\n",
    "s1.displayName()\n",
    "\n",
    "# Raises an error\n",
    "print(s1.__name)\n",
    "\n",
    "In the above example, the class variable __name is not accessible outside the class. \n",
    "It can be accessed only within the class. Any modification of the class variable can be done only inside the class."
   ]
  },
  {
   "cell_type": "code",
   "execution_count": 3,
   "id": "960b8e91",
   "metadata": {},
   "outputs": [
    {
     "name": "stdout",
     "output_type": "stream",
     "text": [
      "Employee name Virat\n",
      "Company name TCS\n",
      "Location name UK\n",
      "Employee ID is Wipro12\n"
     ]
    }
   ],
   "source": [
    "#  Accessing Name Mangled variables\n",
    "\n",
    "# The name mangling process helps to access the class variables from outside the class. \n",
    "# The class variables can be accessed by adding _classname to it. \n",
    "# The name mangling is closest to private not exactly private.\n",
    "\n",
    "class Employeedetails():\n",
    "    __companyName = \"Wipro\" # Private class variable\n",
    "    location      = \"UK\"  # Class var /Public var\n",
    "    def __init__(self,name,emp_id):\n",
    "        self.__name = name  # Private instance varaibel\n",
    "        self.emp_id = emp_id  # Insta Var\n",
    "    def __get_EmpId(self): # Private method\n",
    "        print(f\"Employee ID is {self.emp_id}\")\n",
    "    def get_EmpDetails(self):\n",
    "        print(f\"Employee name {self.__name}\")\n",
    "        print(f\"Company name {self.__companyName}\")\n",
    "        print(f\"Location name {self.location}\")\n",
    "        self.__get_EmpId()\n",
    "obj = Employeedetails(\"Virat\",\"Wipro12\")\n",
    "# obj.get_EmpDetails()\n",
    "obj._Employeedetails__companyName = \"TCS\" # Using Name Mangling >> For updation/Modification\n",
    "obj.get_EmpDetails()"
   ]
  },
  {
   "cell_type": "markdown",
   "id": "7cd32358",
   "metadata": {},
   "source": [
    "# 16. What is the difference between public and private access modifiers?\n"
   ]
  },
  {
   "cell_type": "raw",
   "id": "91f9a75e",
   "metadata": {},
   "source": [
    "Access modifiers are used for the restrictions of access any other class has on the particular class and its variables \n",
    " and methods. \n",
    "In other words, access modifiers decide whether other classes can use the variables or functions of a specific class or not. \n",
    "The arrangement of private and protected access variables or methods ensures the principle of data encapsulation. \n",
    "\n",
    "\n",
    "In Python, there are three types of access modifiers.\n",
    "\n",
    "Public Access Modifier\n",
    "Protected Access Modifier\n",
    "Private Access Modifier"
   ]
  },
  {
   "cell_type": "code",
   "execution_count": null,
   "id": "35565c54",
   "metadata": {},
   "outputs": [],
   "source": [
    "Public Access Modifier:\n",
    "    \n",
    "In public, all the functions, variables, methods can be used publicly. \n",
    "Meaning, every other class can access them easily without any restriction. \n",
    "Public members are generally methods declared in a class that is accessible from outside the class. \n",
    "Any ordinary class is, by default, a public class. \n",
    "So, all the classes we had made till now in the previous tutorials were all public by default.\n",
    "\n",
    "E.g.\n",
    "class employee:\n",
    "      def __init__(self, name, age):\n",
    "            self.name=name\n",
    "            self.age=age"
   ]
  },
  {
   "cell_type": "code",
   "execution_count": null,
   "id": "4be9e233",
   "metadata": {},
   "outputs": [],
   "source": [
    "Private Access Modifier:\n",
    "    \n",
    "In the case of private access modifiers, the variables and functions can only be accessed within the class. \n",
    "The private restriction level is the highest for any class. \n",
    "To declare the data members as private, we use a double underscore “_­_” sign before the data members of the class. \n",
    "Here is a suggestion not to try to access private variables from outside the class because it will result \n",
    "in an AttributeError. \n",
    "\n",
    "E.g.\n",
    "class employee:\n",
    "      def __init__(self, name, age):\n",
    "            self.__name=name # private attribute \n",
    "            self.__age=age # private attribute"
   ]
  },
  {
   "cell_type": "code",
   "execution_count": null,
   "id": "46ac134e",
   "metadata": {},
   "outputs": [],
   "source": [
    "Protected Access Modifier:\n",
    "    \n",
    "In the case of a protected class, its members and functions can only be accessed by the classes derived from it, \n",
    "i.e., its child class or classes. \n",
    "No other environment is permitted to access it. \n",
    "To declare the data members as protected, we use a single underscore “_” sign before the data members of the class.\n",
    "\n",
    "E.g.\n",
    "class employee:\n",
    "      def __init__(self, name, age):\n",
    "            self._name=name # protected attribute \n",
    "            self._age=age # protected attribute"
   ]
  },
  {
   "cell_type": "markdown",
   "id": "05b0d9e9",
   "metadata": {},
   "source": [
    "# 17.Is Python 100 percent object-oriented?"
   ]
  },
  {
   "cell_type": "code",
   "execution_count": null,
   "id": "2aed1366",
   "metadata": {},
   "outputs": [],
   "source": [
    "Python supports all the concept of “object oriented programming” but it is not fully object oriented because – \n",
    "The code in Python can also be written without creating classes."
   ]
  },
  {
   "cell_type": "markdown",
   "id": "2c039e93",
   "metadata": {},
   "source": [
    "# 18. What is data abstraction?"
   ]
  },
  {
   "cell_type": "code",
   "execution_count": null,
   "id": "272f801b",
   "metadata": {},
   "outputs": [],
   "source": [
    "1.Abstraction refers to hiding unnecessary details to focus on the whole product instead of parts of the project separately. \n",
    "2.It is a mechanism that represents the important features without including implementation details. \n",
    "3.Abstraction helps us in partitioning the program into many independent concepts so we may hide the irrelevant \n",
    "information in the code. \n",
    "4.It offers the greatest flexibility when using abstract data-type objects in different situations.\n",
    "\n",
    "Data Abstraction:\n",
    "    \n",
    "1.Data Abstraction in Python is the process of hiding the real implementation of an application from the user \n",
    "and emphasizing only on usage of it.\n",
    "\n",
    "2.Basically, Abstraction focuses on hiding the internal implementations of a process or method from the user. \n",
    "In this way, the user knows what he is doing but not how the work is being done.\n",
    "\n",
    "Why We Need Abstraction:\n",
    "    \n",
    "     Through the process of abstraction in Python, a programmer can hide all the irrelevant data of an application to \n",
    "reduce complexity and increase efficiency. \n",
    "\n",
    "Syntax:\n",
    "     from abc import ABC,abstractmethod\n",
    "          Class ClassName(ABC):\n",
    "\n",
    "Example of Abstraction:\n",
    "    \n",
    "Let us take the example of a car. It has an engine, tires, windows, steering wheel, etc. \n",
    "All these things combine to form a car, which is an abstraction, and all the different parts are its layers of abstraction. \n",
    "Now an engine is composed of various parts such as camshaft, valves, oil pan, etc. \n",
    "These flayers the engine is an abstraction. In simple words, abstraction can be achieved by hiding the background details \n",
    "and showing only the necessary ones. \n",
    "In programming, abstraction can not be achieved without Encapsulation."
   ]
  },
  {
   "cell_type": "markdown",
   "id": "cca8ec0c",
   "metadata": {},
   "source": [
    "# 19. How to achieve data abstraction?"
   ]
  },
  {
   "cell_type": "code",
   "execution_count": null,
   "id": "a69e19a3",
   "metadata": {},
   "outputs": [],
   "source": [
    "In Python abstraction can be achieved using abstract class and it’s methods. \n",
    "\n",
    "Abstract Class in Python:\n",
    "\n",
    "1. A class containing one or more abstract methods is called an abstract class.\n",
    "2. As a property, abstract classes can have any number of abstract methods coexisting with any number of other methods. \n",
    "3. Abstract methods do not contain any implementation. Instead, all the implementations can be defined in the methods \n",
    "   of sub-classes that inherit the abstract class. \n",
    "4. We have already discussed the syntax of abstract class above, let’s understand this by taking examples.\n",
    "\n",
    "Syntax:\n",
    "*********Abstract class*********\n",
    "from abc import ABC, abstractmethod\n",
    "class Parent(ABC): # ABSTRACT CLASS\n",
    "    pass\n",
    "class Child(Parent):\n",
    "    pass\n",
    "\n",
    "An abstract class can have both a normal method and an abstract method\n",
    "An abstract class cannot be instantiated, ( we cannot create objects for the abstract class)."
   ]
  },
  {
   "cell_type": "markdown",
   "id": "78249d90",
   "metadata": {},
   "source": [
    "# 20.What is an abstract class?"
   ]
  },
  {
   "cell_type": "raw",
   "id": "43e0ac86",
   "metadata": {},
   "source": [
    "An abstract class can be considered as a blueprint for other classes. \n",
    "It allows you to create a set of methods that must be created within any child classes built from the abstract class. \n",
    "A class which contains one or more abstract methods is called an abstract class. \n",
    "An abstract method is a method that has a declaration but does not have an implementation. \n",
    "While we are designing large functional units we use an abstract class. \n",
    "When we want to provide a common interface for different implementations of a component, we use an abstract class."
   ]
  },
  {
   "cell_type": "markdown",
   "id": "25608b89",
   "metadata": {},
   "source": [
    "# 21.Can you create an object of an abstract class?\n"
   ]
  },
  {
   "cell_type": "code",
   "execution_count": null,
   "id": "6ca6f92a",
   "metadata": {},
   "outputs": [],
   "source": [
    "We cannot create objects of an abstract class. An abstract class can only act as a blueprint for creating subclasses.\n",
    "\n",
    "An abstract method is a method that has a declaration but no implementation. \n",
    "A Python class with at least one abstract method is called an abstract class.\n",
    "To create an abstract class in Python, use the abc module.\n",
    "\n",
    "For example:\n",
    "from abc import ABC, abstractmethod\n",
    "class Pet(ABC):\n",
    "    @abstractmethod\n",
    "    def makesound(self):\n",
    "        pass\n",
    "    \n",
    "The idea of an abstract class is that when you inherit it, the child class should define all the abstract methods \n",
    "present in the parent class."
   ]
  },
  {
   "cell_type": "markdown",
   "id": "f2f329ef",
   "metadata": {},
   "source": [
    "# 22.Differentiate between data abstraction and encapsulation"
   ]
  },
  {
   "cell_type": "code",
   "execution_count": null,
   "id": "2e01dc8a",
   "metadata": {},
   "outputs": [],
   "source": [
    "                  Abstraction                                                  Encapsulation\n",
    "\n",
    "1.Abstraction is used to solve the problem and issues          1.Encapsulation is used to solve the problem and issue that \n",
    "  that arise at the design stage.                                arise at the implementation stage.\n",
    "\n",
    "2.Abstraction focuses on what the object does instead          2.Encapsulation focuses on hiding the code and data into a \n",
    "  of how the details are implemented.                            single unit to secure the data from the outside world.\n",
    "\n",
    "3.Abstraction can be implemented by using Interface            3.Encapsulation can be implemented using Access Modifiers \n",
    "  and Abstract Class.                                            (Public, Protected, and Private.)\n",
    "\n",
    "4.Its application is during the design level.                  4. Its application is during the Implementation level."
   ]
  },
  {
   "cell_type": "markdown",
   "id": "d0704275",
   "metadata": {},
   "source": [
    "# 23.What is polymorphism?"
   ]
  },
  {
   "cell_type": "code",
   "execution_count": null,
   "id": "bcf2c40d",
   "metadata": {},
   "outputs": [],
   "source": [
    "The word polymorphism means having many forms. \n",
    "In programming, polymorphism means the same function name being used for different types. \n",
    "The key difference is the data types and number of arguments used in function.\n",
    "\n",
    "Polymorphism > Multiple forms\n",
    "Methods with identical names\n",
    "\n",
    "Syntax:\n",
    "    class Circle():\n",
    "        def get_area(self):\n",
    "        \n",
    "    class Square():\n",
    "        def get_area(self):\n",
    "\n",
    "    class Rectangle():\n",
    "        def get_area(self):"
   ]
  },
  {
   "cell_type": "markdown",
   "id": "1232268e",
   "metadata": {},
   "source": [
    "# 24.What is the overloading method?"
   ]
  },
  {
   "cell_type": "code",
   "execution_count": null,
   "id": "ca28fceb",
   "metadata": {},
   "outputs": [],
   "source": [
    "Method Overloading:\n",
    "\n",
    "Two or more methods have the same name but different numbers of parameters or different types of parameters, or both. \n",
    "These methods are called overloaded methods and this is called method overloading. \n",
    "\n",
    "1. In the method overloading, methods or functions must have the same name and different signatures.\n",
    "2. Method overloading is a example of compile time polymorphism.\n",
    "3. In the method overloading, inheritance may or may not be required.\n",
    "4. Method overloading is performed between methods within the class.\n",
    "5. It is used in order to add more to the behavior of methods.\n",
    "6. In method overloading, there is no need of more than one class."
   ]
  },
  {
   "cell_type": "markdown",
   "id": "1a7e6c0f",
   "metadata": {},
   "source": [
    "# 25.What are the limitations of OOPs?"
   ]
  },
  {
   "cell_type": "code",
   "execution_count": null,
   "id": "af1063a1",
   "metadata": {},
   "outputs": [],
   "source": [
    "1.The size of the programs created using this approach may become larger than the programs written \n",
    "  using procedure-oriented programming approach.\n",
    "2.Software developed using this approach requires a substantial amount of pre-work and planning.\n",
    "3.OOPs code is difficult to understand if you do not have the corresponding class documentation.\n",
    "4.In certain scenarios, these programs can consume a large amount of memory."
   ]
  }
 ],
 "metadata": {
  "kernelspec": {
   "display_name": "Python 3 (ipykernel)",
   "language": "python",
   "name": "python3"
  },
  "language_info": {
   "codemirror_mode": {
    "name": "ipython",
    "version": 3
   },
   "file_extension": ".py",
   "mimetype": "text/x-python",
   "name": "python",
   "nbconvert_exporter": "python",
   "pygments_lexer": "ipython3",
   "version": "3.11.0"
  }
 },
 "nbformat": 4,
 "nbformat_minor": 5
}
