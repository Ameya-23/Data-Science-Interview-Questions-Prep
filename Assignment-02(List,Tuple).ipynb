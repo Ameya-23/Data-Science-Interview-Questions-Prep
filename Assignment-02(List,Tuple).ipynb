{
 "cells": [
  {
   "cell_type": "markdown",
   "id": "d7a547ed",
   "metadata": {},
   "source": [
    "# 1.What is a List?"
   ]
  },
  {
   "cell_type": "markdown",
   "id": "1a3440ed",
   "metadata": {},
   "source": [
    "- List is a data type in python enclosed with square brackets []."
   ]
  },
  {
   "cell_type": "markdown",
   "id": "8816fab8",
   "metadata": {},
   "source": [
    "- Python lists are containers used to store a list of values of any data type. In simple words, we can say that a list is a collection of elements from any data type. \n",
    "E.g.\n",
    "    lst = [2,3.3,4+2j,\"Hello\",[2,3,4,5],(1,2,3,4),{5,6},{\"Name\":\"Virat\"}]                                       "
   ]
  },
  {
   "cell_type": "markdown",
   "id": "3ab9189f",
   "metadata": {},
   "source": [
    "- Def >> It is collection of items \n",
    "It is used to store sequence of various data types.\n",
    "we can add any datatype in list i.e Hetrogeneous data types\n",
    "Data type:\n",
    "    int ,float,complex,bool,list,tuple,dict,set etc"
   ]
  },
  {
   "cell_type": "markdown",
   "id": "b6802af4",
   "metadata": {},
   "source": [
    "### Properties"
   ]
  },
  {
   "cell_type": "raw",
   "id": "f0b472e6",
   "metadata": {},
   "source": [
    "1. Mutable >> Changable (add,delete,update)\n",
    "2. It is ordered data type  (Slicing,indexing)\n",
    "3. Duplicates are allowed\n",
    "4. Lists are enclosed by []\n",
    "5. List items are comma seperated"
   ]
  },
  {
   "cell_type": "markdown",
   "id": "9b0a39a4",
   "metadata": {},
   "source": [
    "# 2.What is Tuple?"
   ]
  },
  {
   "cell_type": "markdown",
   "id": "2a76c728",
   "metadata": {},
   "source": [
    "- A tuple is an immutable data type in Python. A tuple in python is a collection of elements enclosed in () (parentheses). Tuple, once defined, can’t be changed, i.e., its elements or values can’t be altered or manipulated. E.g. a = (1,)"
   ]
  },
  {
   "cell_type": "markdown",
   "id": "2e874551",
   "metadata": {},
   "source": [
    "# Properties"
   ]
  },
  {
   "cell_type": "raw",
   "id": "815d2ea7",
   "metadata": {},
   "source": [
    "1.Immutable (Unchangable)\n",
    "2.Ordered\n",
    "3.Allow duplicates\n",
    "4.Comma separted\n",
    "5.Enclosed ()\n",
    "6.Fixed length\n",
    "7.Less functional\n",
    "8.Tuple is faster than list\n",
    "9.It require less memory\n",
    "10. we can add multiple data types\n",
    "   e.g int,float,str,complex,list,tuple,dict,series,set etc"
   ]
  },
  {
   "cell_type": "markdown",
   "id": "b3eb4748",
   "metadata": {},
   "source": [
    "# 3. What is the difference between List and Tuple?"
   ]
  },
  {
   "cell_type": "raw",
   "id": "0927594d",
   "metadata": {},
   "source": [
    "S.No         List                                                     Tuple\n",
    "\n",
    "1  Lists are mutable.                                          1 Tuples are immutable.\n",
    "\n",
    "2  Iteration in lists is time consuming.                       2 Iteration in tuples is faster\n",
    "\n",
    "3  Lists are better for insertion and deletion operations      3 Tuples are appropriate for accessing the elements\n",
    "\n",
    "4  Lists consume more memory                                   4 Tuples consume lesser memory\n",
    "\n",
    "5  Lists have several built-in methods                         5 Tuples have comparatively lesser built-in methods.\n",
    "\n",
    "6  Lists are more prone to unexpected errors                   6 Tuples operations are safe and chances of error are very less\n",
    "\n",
    "7  Creating a list is slower because two memory blocks         7 Creating a tuple is faster than creating a list.\n",
    "    need to be accessed."
   ]
  },
  {
   "cell_type": "markdown",
   "id": "12279404",
   "metadata": {},
   "source": [
    "# 4. Python Program to find the largest element in the list"
   ]
  },
  {
   "cell_type": "code",
   "execution_count": 2,
   "id": "0753c0c5",
   "metadata": {},
   "outputs": [
    {
     "data": {
      "text/plain": [
       "24"
      ]
     },
     "execution_count": 2,
     "metadata": {},
     "output_type": "execute_result"
    }
   ],
   "source": [
    "lst = [8,12,18,23,16,24,22]\n",
    "lst2 = max(lst)\n",
    "lst2"
   ]
  },
  {
   "cell_type": "code",
   "execution_count": 5,
   "id": "279ee5b9",
   "metadata": {},
   "outputs": [
    {
     "data": {
      "text/plain": [
       "[48]"
      ]
     },
     "execution_count": 5,
     "metadata": {},
     "output_type": "execute_result"
    }
   ],
   "source": [
    "lst = [8,12,18,23,16,24,22,48]\n",
    "\n",
    "new_max = [val for val in lst if val == max(lst)]\n",
    "new_max"
   ]
  },
  {
   "cell_type": "markdown",
   "id": "f5810d36",
   "metadata": {},
   "source": [
    "# 5.Python program to interchange first and last elements in a list.\n"
   ]
  },
  {
   "cell_type": "code",
   "execution_count": 20,
   "id": "fbb1c25c",
   "metadata": {},
   "outputs": [
    {
     "name": "stdout",
     "output_type": "stream",
     "text": [
      "List after interchange first and last elements:[{'Name': 'Virat'}, 3.3, (4+2j), 'Hello', [2, 3, 4, 5], (1, 2, 3, 4), {5, 6}, 2] \n"
     ]
    }
   ],
   "source": [
    "lst1 = [2,3.3,4+2j,\"Hello\",[2,3,4,5],(1,2,3,4),{5,6},{\"Name\":\"Virat\"}]\n",
    "\n",
    "d1 = lst1.pop(-1)\n",
    "d2 = lst1.pop(0)\n",
    "d3 = lst1.insert(0,d1)\n",
    "d4 = lst1.append(d2)\n",
    "print(f\"List after interchange first and last elements:{lst1} \")"
   ]
  },
  {
   "cell_type": "markdown",
   "id": "a553ad1a",
   "metadata": {},
   "source": [
    "# 6. Python program to swap two elements in a list\n"
   ]
  },
  {
   "cell_type": "code",
   "execution_count": 44,
   "id": "f57c2a64",
   "metadata": {},
   "outputs": [
    {
     "name": "stdout",
     "output_type": "stream",
     "text": [
      "List [8, 12, 18, 23, 16, 24, 22, 48]\n",
      "Enter first index number: 1\n",
      "Enter second index number: 3\n",
      "Swapped list: [8, 23, 18, 12, 16, 24, 22, 48]\n"
     ]
    }
   ],
   "source": [
    "lst = [8,12,18,23,16,24,22,48]\n",
    "print(\"List\",lst)\n",
    "\n",
    "def swap_two(a,b):\n",
    "    lst[a], lst[b] = lst[b], lst[a]\n",
    "    return lst\n",
    "\n",
    "a = eval(input(\"Enter first index number: \"))\n",
    "b = eval(input(\"Enter second index number: \"))\n",
    "\n",
    "print(\"Swapped list:\", swap_two(a,b))"
   ]
  },
  {
   "cell_type": "code",
   "execution_count": 45,
   "id": "da7dbc66",
   "metadata": {},
   "outputs": [
    {
     "name": "stdout",
     "output_type": "stream",
     "text": [
      "[8, 23, 18, 12, 16, 24, 22, 48]\n"
     ]
    }
   ],
   "source": [
    "def get_ele(a,b):\n",
    "    \n",
    "    lst = [8,12,18,23,16,24,22,48]                            \n",
    "    a = 1\n",
    "    b = 3\n",
    "    x=lst.pop(b)\n",
    "    y=lst.pop(a)\n",
    "    lst.insert(b-1,y)\n",
    "    lst.insert(a,x)\n",
    "    return lst\n",
    "print(get_ele(a,b))"
   ]
  },
  {
   "cell_type": "markdown",
   "id": "d14d5a7d",
   "metadata": {},
   "source": [
    "# 7. Python program to Reverse a List\n"
   ]
  },
  {
   "cell_type": "code",
   "execution_count": 41,
   "id": "a1ef41a1",
   "metadata": {},
   "outputs": [
    {
     "data": {
      "text/plain": [
       "[48, 22, 24, 16, 23, 18, 12, 8]"
      ]
     },
     "execution_count": 41,
     "metadata": {},
     "output_type": "execute_result"
    }
   ],
   "source": [
    "lst = [8,12,18,23,16,24,22,48]\n",
    "lst[::-1]"
   ]
  },
  {
   "cell_type": "code",
   "execution_count": 46,
   "id": "fa8685d8",
   "metadata": {},
   "outputs": [
    {
     "data": {
      "text/plain": [
       "[48, 22, 24, 16, 23, 18, 12, 8]"
      ]
     },
     "execution_count": 46,
     "metadata": {},
     "output_type": "execute_result"
    }
   ],
   "source": [
    "lst = [8,12,18,23,16,24,22,48]\n",
    "lst.reverse()\n",
    "lst"
   ]
  },
  {
   "cell_type": "code",
   "execution_count": 49,
   "id": "1095a46d",
   "metadata": {},
   "outputs": [
    {
     "name": "stdout",
     "output_type": "stream",
     "text": [
      "Reversed List [48, 22, 24, 16, 23, 18, 12, 8]\n"
     ]
    }
   ],
   "source": [
    "lst = [8,12,18,23,16,24,22,48]\n",
    "lst1 = list(reversed(lst))  \n",
    "print(\"Reversed List\",lst1)"
   ]
  },
  {
   "cell_type": "markdown",
   "id": "6c937322",
   "metadata": {},
   "source": [
    "# 8. Python program to count occurrences of an element in a list"
   ]
  },
  {
   "cell_type": "code",
   "execution_count": 57,
   "id": "65298733",
   "metadata": {},
   "outputs": [
    {
     "data": {
      "text/plain": [
       "2"
      ]
     },
     "execution_count": 57,
     "metadata": {},
     "output_type": "execute_result"
    }
   ],
   "source": [
    "lst = [8,\"a\",12,\"p\",18,\"p\",23,\"u\",16,24,22,48,8]\n",
    "lst.count(\"p\")"
   ]
  },
  {
   "cell_type": "code",
   "execution_count": 68,
   "id": "2b2ce80a",
   "metadata": {},
   "outputs": [
    {
     "name": "stdout",
     "output_type": "stream",
     "text": [
      "Enter any element from list: \"p\"\n",
      "occurrences of an element = p in a list:2\n"
     ]
    }
   ],
   "source": [
    "lst = [8,\"a\",12,\"p\",18,\"p\",23,\"u\",16,24,22,48,8]\n",
    "b = eval(input(\"Enter any element from list: \")) \n",
    "\n",
    "# new_lst = [i count = 0 for i in lst if i == a count +=1 return count]\n",
    "count = 0\n",
    "for i in lst:\n",
    "    if (i == b):\n",
    "        count +=1\n",
    "print(f\"occurrences of an element = {b} in a list:{count}\")\n",
    "        "
   ]
  },
  {
   "cell_type": "markdown",
   "id": "ba0d42c8",
   "metadata": {},
   "source": [
    "# 9. Python program to find the sum of elements in a list"
   ]
  },
  {
   "cell_type": "code",
   "execution_count": 71,
   "id": "e5ac8236",
   "metadata": {},
   "outputs": [
    {
     "data": {
      "text/plain": [
       "123"
      ]
     },
     "execution_count": 71,
     "metadata": {},
     "output_type": "execute_result"
    }
   ],
   "source": [
    "lst = [8,12,18,23,16,24,22]\n",
    "sum(lst)"
   ]
  },
  {
   "cell_type": "code",
   "execution_count": 72,
   "id": "a59a8fbe",
   "metadata": {},
   "outputs": [
    {
     "name": "stdout",
     "output_type": "stream",
     "text": [
      "123\n"
     ]
    }
   ],
   "source": [
    "lst = [8,12,18,23,16,24,22]\n",
    "sum = 0\n",
    "for i in lst:\n",
    "    sum +=i\n",
    "print(sum)"
   ]
  },
  {
   "cell_type": "markdown",
   "id": "896b7a31",
   "metadata": {},
   "source": [
    "# 10. Python program to Multiply all numbers in the list\n"
   ]
  },
  {
   "cell_type": "code",
   "execution_count": 80,
   "id": "fdebf750",
   "metadata": {},
   "outputs": [
    {
     "name": "stdout",
     "output_type": "stream",
     "text": [
      "335757312\n"
     ]
    }
   ],
   "source": [
    "lst = [8,12,18,23,16,24,22]\n",
    "mul = 1\n",
    "for i in lst:\n",
    "    mul *= i\n",
    "print(mul)"
   ]
  },
  {
   "cell_type": "code",
   "execution_count": 81,
   "id": "12a287f7",
   "metadata": {},
   "outputs": [
    {
     "name": "stdout",
     "output_type": "stream",
     "text": [
      "120\n"
     ]
    }
   ],
   "source": [
    "lst = [1,2,3,4,5]\n",
    "mul = 1\n",
    "for i in lst:\n",
    "    mul = mul * i\n",
    "    \n",
    "print(mul)"
   ]
  },
  {
   "cell_type": "markdown",
   "id": "e704aa9d",
   "metadata": {},
   "source": [
    "# 11. What are the ways to find the length of a list"
   ]
  },
  {
   "cell_type": "code",
   "execution_count": 21,
   "id": "3000ddd1",
   "metadata": {},
   "outputs": [
    {
     "data": {
      "text/plain": [
       "7"
      ]
     },
     "execution_count": 21,
     "metadata": {},
     "output_type": "execute_result"
    }
   ],
   "source": [
    "lst = [8,12,18,23,16,24,22]\n",
    "lst1 = len(lst)\n",
    "lst1"
   ]
  },
  {
   "cell_type": "code",
   "execution_count": 25,
   "id": "e2eb7a3d",
   "metadata": {},
   "outputs": [
    {
     "name": "stdout",
     "output_type": "stream",
     "text": [
      "7\n"
     ]
    }
   ],
   "source": [
    "def get_lenlist():\n",
    "    lst = [8,12,18,23,16,24,22]\n",
    "    lst1 = len(lst)\n",
    "    return lst1\n",
    "print(lst1)"
   ]
  },
  {
   "cell_type": "code",
   "execution_count": 22,
   "id": "d0751876",
   "metadata": {},
   "outputs": [
    {
     "name": "stdout",
     "output_type": "stream",
     "text": [
      "Length of List: 8\n"
     ]
    }
   ],
   "source": [
    "lst = [88, 7, 66, 5, 44, 3, 2, 1]\n",
    "value1 = 1\n",
    "for index,value in enumerate(lst):\n",
    "    if value1 == value:\n",
    "        print(\"Length of List:\",index+1)"
   ]
  },
  {
   "cell_type": "code",
   "execution_count": 27,
   "id": "c532722e",
   "metadata": {},
   "outputs": [
    {
     "name": "stdout",
     "output_type": "stream",
     "text": [
      "Length of list is 9\n"
     ]
    }
   ],
   "source": [
    "lst = [88, 7, 66, 5, 44, 3, 2, 1,18]\n",
    "count = 0\n",
    "for i in lst:\n",
    "    count +=1\n",
    "print(f\"Length of list is {count}\")"
   ]
  },
  {
   "cell_type": "markdown",
   "id": "668ee3d1",
   "metadata": {},
   "source": [
    "# 12. Python program to find the smallest and largest number in a list (Without min-max function)\n"
   ]
  },
  {
   "cell_type": "code",
   "execution_count": 65,
   "id": "7e7cba90",
   "metadata": {},
   "outputs": [
    {
     "name": "stdout",
     "output_type": "stream",
     "text": [
      "Largest number in list is: 108\n",
      "Smallest number in list is: 1\n"
     ]
    }
   ],
   "source": [
    "lst = [88, 7, 66, 5, 44, 3, 2, 1,18,108]\n",
    "lst.sort()\n",
    "lst1=lst.pop()\n",
    "lst2 = lst.pop(0)\n",
    "print(f\"Largest number in list is: {lst1}\")\n",
    "print(f\"Smallest number in list is: {lst2}\")"
   ]
  },
  {
   "cell_type": "markdown",
   "id": "bd8054eb",
   "metadata": {},
   "source": [
    "# 13. Python Program to find the area of a circle"
   ]
  },
  {
   "cell_type": "code",
   "execution_count": 87,
   "id": "4691089a",
   "metadata": {},
   "outputs": [
    {
     "name": "stdout",
     "output_type": "stream",
     "text": [
      "Enter radius of circle:2\n",
      "Area of circle is 12.56\n"
     ]
    }
   ],
   "source": [
    "def get_areaofc():\n",
    "    Pi=3.14\n",
    "    r = eval(input(\"Enter radius of circle:\"))\n",
    "    area = Pi *(r*r)\n",
    "    return area\n",
    "print(f\"Area of circle is {get_areaofc()}\")"
   ]
  },
  {
   "cell_type": "markdown",
   "id": "c0113157",
   "metadata": {},
   "source": [
    "# 14. Take inputs from the user to make a list. Again take one input from the user and search it in the list and delete that element, if found. Iterate over a list using for loop.\n"
   ]
  },
  {
   "cell_type": "code",
   "execution_count": 101,
   "id": "cf6da4ae",
   "metadata": {},
   "outputs": [
    {
     "name": "stdout",
     "output_type": "stream",
     "text": [
      "Enter any number to create list:1,2,3,4,5\n",
      "List created :[1, 2, 3, 4, 5]\n",
      "Enter any element to search in list:6\n",
      "Element is not present in list\n"
     ]
    }
   ],
   "source": [
    "lst1 = list(eval(input(\"Enter any number to create list:\")))\n",
    "print(f\"List created :{lst1}\")\n",
    "a = eval(input(\"Enter any element to search in list:\"))\n",
    "\n",
    "for i in lst1:\n",
    "    if a == i:\n",
    "        lst1.remove(a)\n",
    "        print(lst1)\n",
    "        break\n",
    "else:\n",
    "    print(\"Element is not present in list\")\n"
   ]
  },
  {
   "cell_type": "markdown",
   "id": "9d66ad96",
   "metadata": {},
   "source": [
    "# 15. You are given a list of integer elements. Make a new list that will store a square of elements of the previous list. (With and without list comprehension) "
   ]
  },
  {
   "cell_type": "markdown",
   "id": "b11f5d6e",
   "metadata": {},
   "source": [
    "### i. Input_list = [2,5,6,12] \n"
   ]
  },
  {
   "cell_type": "markdown",
   "id": "2ee7400e",
   "metadata": {},
   "source": [
    "### ii. Output_list = [4,25,36,144]"
   ]
  },
  {
   "cell_type": "code",
   "execution_count": 102,
   "id": "51100730",
   "metadata": {},
   "outputs": [
    {
     "name": "stdout",
     "output_type": "stream",
     "text": [
      "Output_list:[4, 25, 36, 144]\n"
     ]
    }
   ],
   "source": [
    "#Using list comprehension\n",
    "\n",
    "Input_list = [2,5,6,12]\n",
    "new_lst = [i**2 for i in Input_list]\n",
    "print(f\"Output_list:{new_lst}\")"
   ]
  },
  {
   "cell_type": "code",
   "execution_count": 105,
   "id": "6277e9df",
   "metadata": {},
   "outputs": [
    {
     "name": "stdout",
     "output_type": "stream",
     "text": [
      "previous list:[2, 5, 6, 12]\n",
      "square of elements of the previous list: [4, 25, 36, 144]\n"
     ]
    }
   ],
   "source": [
    "#Without list comprehension\n",
    "\n",
    "Input_list = [2,5,6,12]\n",
    "print(f\"previous list:{Input_list}\")\n",
    "new_list = []\n",
    "for i in Input_list:\n",
    "    new_list.append(i**2)\n",
    "print(f\"square of elements of the previous list: {new_list}\")\n"
   ]
  },
  {
   "cell_type": "markdown",
   "id": "5f8117b9",
   "metadata": {},
   "source": [
    "# 16. WAP to create two lists, one containing all even numbers and the other containing all odd numbers between 0 to 151\n"
   ]
  },
  {
   "cell_type": "code",
   "execution_count": 110,
   "id": "3d93ae6c",
   "metadata": {},
   "outputs": [
    {
     "name": "stdout",
     "output_type": "stream",
     "text": [
      "Even numbers between 0 to 151 are: \n",
      "[0, 2, 4, 6, 8, 10, 12, 14, 16, 18, 20, 22, 24, 26, 28, 30, 32, 34, 36, 38, 40, 42, 44, 46, 48, 50, 52, 54, 56, 58, 60, 62, 64, 66, 68, 70, 72, 74, 76, 78, 80, 82, 84, 86, 88, 90, 92, 94, 96, 98, 100, 102, 104, 106, 108, 110, 112, 114, 116, 118, 120, 122, 124, 126, 128, 130, 132, 134, 136, 138, 140, 142, 144, 146, 148, 150]\n",
      "\n",
      "Odd numbers between 0 to 151 are: \n",
      "[1, 3, 5, 7, 9, 11, 13, 15, 17, 19, 21, 23, 25, 27, 29, 31, 33, 35, 37, 39, 41, 43, 45, 47, 49, 51, 53, 55, 57, 59, 61, 63, 65, 67, 69, 71, 73, 75, 77, 79, 81, 83, 85, 87, 89, 91, 93, 95, 97, 99, 101, 103, 105, 107, 109, 111, 113, 115, 117, 119, 121, 123, 125, 127, 129, 131, 133, 135, 137, 139, 141, 143, 145, 147, 149, 151]\n"
     ]
    }
   ],
   "source": [
    "n = 151\n",
    "new_even = [i for i in range(0,n+1) if i%2 ==0]\n",
    "new_odd  = [i for i in range(0,n+1) if i%2 != 0]\n",
    "print(f\"Even numbers between 0 to 151 are: \\n{new_even}\")\n",
    "print()\n",
    "\n",
    "print(f\"Odd numbers between 0 to 151 are: \\n{new_odd}\")"
   ]
  },
  {
   "cell_type": "code",
   "execution_count": 45,
   "id": "49b3ba8e",
   "metadata": {},
   "outputs": [
    {
     "name": "stdout",
     "output_type": "stream",
     "text": [
      "Even numbers between 0 to 151 are: \n",
      "[0, 2, 4, 6, 8, 10, 12, 14, 16, 18, 20, 22, 24, 26, 28, 30, 32, 34, 36, 38, 40, 42, 44, 46, 48, 50, 52, 54, 56, 58, 60, 62, 64, 66, 68, 70, 72, 74, 76, 78, 80, 82, 84, 86, 88, 90, 92, 94, 96, 98, 100, 102, 104, 106, 108, 110, 112, 114, 116, 118, 120, 122, 124, 126, 128, 130, 132, 134, 136, 138, 140, 142, 144, 146, 148, 150]\n",
      "\n",
      "Odd numbers between 0 to 151 are: \n",
      "[1, 3, 5, 7, 9, 11, 13, 15, 17, 19, 21, 23, 25, 27, 29, 31, 33, 35, 37, 39, 41, 43, 45, 47, 49, 51, 53, 55, 57, 59, 61, 63, 65, 67, 69, 71, 73, 75, 77, 79, 81, 83, 85, 87, 89, 91, 93, 95, 97, 99, 101, 103, 105, 107, 109, 111, 113, 115, 117, 119, 121, 123, 125, 127, 129, 131, 133, 135, 137, 139, 141, 143, 145, 147, 149, 151]\n"
     ]
    }
   ],
   "source": [
    "def get_even_odd():                          \n",
    "    n_even = []\n",
    "    n_odd  = []\n",
    "    n = 151\n",
    "    li = list(range(0,n+1))\n",
    "    for i in li:\n",
    "        if i%2 == 0:\n",
    "            n_even.append(i)\n",
    "        else:\n",
    "            n_odd.append(i)\n",
    "\n",
    "    print(f\"Even numbers between 0 to 151 are: \\n{n_even}\")\n",
    "    print()\n",
    "    print(f\"Odd numbers between 0 to 151 are: \\n{n_odd}\")\n",
    "    \n",
    "get_even_odd()"
   ]
  },
  {
   "cell_type": "markdown",
   "id": "7377b160",
   "metadata": {},
   "source": [
    "# 17. Python program to Count Even and Odd numbers in a List"
   ]
  },
  {
   "cell_type": "code",
   "execution_count": 33,
   "id": "be3fcd41",
   "metadata": {},
   "outputs": [
    {
     "name": "stdout",
     "output_type": "stream",
     "text": [
      "Count of even numbers in list: 5\n",
      "Count of odd numbers in list: 6\n"
     ]
    }
   ],
   "source": [
    "list1 = [10, 21, 4, 45, 66, 93, 11,16,18,23,1]\n",
    "even_count = 0\n",
    "odd_count = 0\n",
    "for i in list1:\n",
    "    if i%2 == 0:\n",
    "        even_count +=1\n",
    "    else:\n",
    "        odd_count +=1\n",
    "print(f\"Count of even numbers in list: {even_count}\")\n",
    "print(f\"Count of odd numbers in list: {odd_count}\")"
   ]
  },
  {
   "cell_type": "code",
   "execution_count": 157,
   "id": "ea843cc0",
   "metadata": {},
   "outputs": [
    {
     "name": "stdout",
     "output_type": "stream",
     "text": [
      "Enter any number: 8,12,16,23,27,34,5,6,7,89,0,6,4,3,18\n",
      "Even numbers in the list:  9\n",
      "Odd numbers in the list:  6\n"
     ]
    }
   ],
   "source": [
    "lst1 = eval(input(\"Enter any number: \"))\n",
    " \n",
    "even_count, odd_count = 0, 0\n",
    "i = 0\n",
    "    \n",
    "while(i< len(lst1)):\n",
    "    if lst1[i] % 2 == 0:\n",
    "        even_count += 1\n",
    "    else:\n",
    "        odd_count += 1\n",
    "    i += 1\n",
    "     \n",
    "print(\"Even numbers in the list: \", even_count)\n",
    "print(\"Odd numbers in the list: \", odd_count)"
   ]
  },
  {
   "cell_type": "markdown",
   "id": "fd0ae71f",
   "metadata": {},
   "source": [
    "# 18. WAP to make new lists, containing only numbers which are divisible by 4, 6, 8, 10, 3, 5, 7, and 9 in separate lists for range(0,151)\n"
   ]
  },
  {
   "cell_type": "code",
   "execution_count": 10,
   "id": "97010361",
   "metadata": {},
   "outputs": [
    {
     "name": "stdout",
     "output_type": "stream",
     "text": [
      "Numbers divisible by 4 in range(0,151) are: \n",
      "[4, 8, 12, 16, 20, 24, 28, 32, 36, 40, 44, 48, 52, 56, 60, 64, 68, 72, 76, 80, 84, 88, 92, 96, 100, 104, 108, 112, 116, 120, 124, 128, 132, 136, 140, 144, 148]\n",
      "\n",
      "Numbers divisible by 6 in range(0,151) are: \n",
      "[6, 12, 18, 24, 30, 36, 42, 48, 54, 60, 66, 72, 78, 84, 90, 96, 102, 108, 114, 120, 126, 132, 138, 144, 150]\n",
      "\n",
      "Numbers divisible by 8 in range(0,151) are: \n",
      "[8, 16, 24, 32, 40, 48, 56, 64, 72, 80, 88, 96, 104, 112, 120, 128, 136, 144]\n",
      "\n",
      "Numbers divisible by 10 in range(0,151) are: \n",
      "[10, 20, 30, 40, 50, 60, 70, 80, 90, 100, 110, 120, 130, 140, 150]\n",
      "\n",
      "Numbers divisible by 3 in range(0,151) are: \n",
      "[3, 6, 9, 12, 15, 18, 21, 24, 27, 30, 33, 36, 39, 42, 45, 48, 51, 54, 57, 60, 63, 66, 69, 72, 75, 78, 81, 84, 87, 90, 93, 96, 99, 102, 105, 108, 111, 114, 117, 120, 123, 126, 129, 132, 135, 138, 141, 144, 147, 150]\n",
      "\n",
      "Numbers divisible by 5 in range(0,151) are: \n",
      "[5, 10, 15, 20, 25, 30, 35, 40, 45, 50, 55, 60, 65, 70, 75, 80, 85, 90, 95, 100, 105, 110, 115, 120, 125, 130, 135, 140, 145, 150]\n",
      "\n",
      "Numbers divisible by 7 in range(0,151) are: \n",
      "[7, 14, 21, 28, 35, 42, 49, 56, 63, 70, 77, 84, 91, 98, 105, 112, 119, 126, 133, 140, 147]\n",
      "\n",
      "Numbers divisible by 9 in range(0,151) are: \n",
      "[9, 18, 27, 36, 45, 54, 63, 72, 81, 90, 99, 108, 117, 126, 135, 144]\n",
      "\n"
     ]
    }
   ],
   "source": [
    "n = 151                                                          \n",
    "n1 = [4,6,8,10,3,5,7,9]\n",
    "\n",
    "new_4 = [i for i in range(1,n+1) if i%n1[0] == 0]\n",
    "new_6 = [i for i in range(1,n+1) if i%n1[1] == 0]\n",
    "new_8 = [i for i in range(1,n+1) if i%n1[2] == 0]\n",
    "new_10 = [i for i in range(1,n+1) if i%n1[3] == 0]\n",
    "new_3 = [i for i in range(1,n+1) if i%n1[4] == 0]\n",
    "new_5 = [i for i in range(1,n+1) if i%n1[5] == 0]\n",
    "new_7 = [i for i in range(1,n+1) if i%n1[6] == 0]\n",
    "new_9 = [i for i in range(1,n+1) if i%n1[7] == 0]\n",
    "\n",
    "print(f\"Numbers divisible by 4 in range(0,151) are: \\n{new_4}\\n\")\n",
    "print(f\"Numbers divisible by 6 in range(0,151) are: \\n{new_6}\\n\")\n",
    "print(f\"Numbers divisible by 8 in range(0,151) are: \\n{new_8}\\n\")\n",
    "print(f\"Numbers divisible by 10 in range(0,151) are: \\n{new_10}\\n\")\n",
    "print(f\"Numbers divisible by 3 in range(0,151) are: \\n{new_3}\\n\")\n",
    "print(f\"Numbers divisible by 5 in range(0,151) are: \\n{new_5}\\n\")\n",
    "print(f\"Numbers divisible by 7 in range(0,151) are: \\n{new_7}\\n\")\n",
    "print(f\"Numbers divisible by 9 in range(0,151) are: \\n{new_9}\\n\")"
   ]
  },
  {
   "cell_type": "markdown",
   "id": "b3321e16",
   "metadata": {},
   "source": [
    "# 19. From a list containing ints, strings, and floats, make three lists to store them separately"
   ]
  },
  {
   "cell_type": "code",
   "execution_count": 13,
   "id": "e9e2a250",
   "metadata": {},
   "outputs": [
    {
     "name": "stdout",
     "output_type": "stream",
     "text": [
      "[2, 18]\n",
      "['Hello']\n",
      "[3.3]\n"
     ]
    }
   ],
   "source": [
    "lst1 = [2,3.3,4+2j,\"Hello\",[2,3,4,5],18,(1,2,3,4),{5,6},{\"Name\":\"Virat\"}]\n",
    "\n",
    "new_int, new_str, new_float = [], [], []\n",
    "\n",
    "for i in lst1:\n",
    "    if type(i) == int:\n",
    "        new_int.append(i)\n",
    "    elif type(i) == str:\n",
    "        new_str.append(i)\n",
    "    elif type(i) == float:\n",
    "        new_float.append(i)\n",
    "print(new_int)\n",
    "print(new_str)\n",
    "print(new_float)"
   ]
  },
  {
   "cell_type": "markdown",
   "id": "c7a582d3",
   "metadata": {},
   "source": [
    "# 20. What’s The Difference Between The Python append() and extend() Methods?"
   ]
  },
  {
   "cell_type": "raw",
   "id": "92abf3c1",
   "metadata": {},
   "source": [
    "                   append()                                                   extend()\n",
    "1. The append is a built-in function in Python         1. The extend is a built-in function in Python that iterates over      that is used to add its arguments as a single          its arguments adding each element to the list while extending it.\n",
    "   element to the end of the list.\n",
    "   \n",
    "2. When using extend, the length of the list will     2. When using append, the length of the list will increase by how        increase by one.                                      many elements were passed in the argument.\n",
    "    \n",
    "3. The append is used to add a single element at       3. The extend is used to add multiple elements at the end of the        the end of the existing list.                          existing list.\n",
    "   "
   ]
  },
  {
   "cell_type": "markdown",
   "id": "417b82bb",
   "metadata": {},
   "source": [
    "# 21. Write a Python program to append a list to the second list\n"
   ]
  },
  {
   "cell_type": "code",
   "execution_count": 175,
   "id": "acfecbca",
   "metadata": {},
   "outputs": [
    {
     "data": {
      "text/plain": [
       "[8, 12, 16, 18, 23, 24, 7.4, 9, 13, 18, 19, 22]"
      ]
     },
     "execution_count": 175,
     "metadata": {},
     "output_type": "execute_result"
    }
   ],
   "source": [
    "lst1 = [8,12,16,18,23,24]\n",
    "lst2 = [7.4,9,13,18,19,22]\n",
    "lst1 + lst2"
   ]
  },
  {
   "cell_type": "code",
   "execution_count": 177,
   "id": "42f26a04",
   "metadata": {},
   "outputs": [
    {
     "name": "stdout",
     "output_type": "stream",
     "text": [
      "[8, 12, 16, 18, 23, 24, [7.4, 9, 13, 18, 19, 22]]\n"
     ]
    }
   ],
   "source": [
    "lst1 = [8,12,16,18,23,24]\n",
    "lst2 = [7.4,9,13,18,19,22]\n",
    "lst1.append(lst2)\n",
    "print (lst1)"
   ]
  },
  {
   "cell_type": "markdown",
   "id": "b703ba8a",
   "metadata": {},
   "source": [
    "# 22. Write a Python program to find the third-largest number in a list\n"
   ]
  },
  {
   "cell_type": "code",
   "execution_count": 4,
   "id": "c9d410be",
   "metadata": {},
   "outputs": [
    {
     "name": "stdout",
     "output_type": "stream",
     "text": [
      "[24, 23, 22, 19, 18, 18, 16, 13, 12, 9, 8, 7.4]\n",
      "The third larest number in the list is 22\n"
     ]
    }
   ],
   "source": [
    "lst = [8, 12, 16, 18, 23, 24, 7.4, 9, 13, 18, 19, 22]\n",
    "lst.sort(reverse=True)\n",
    "print(lst)\n",
    "lst2 = lst.pop(2)\n",
    "print(f\"The third larest number in the list is {lst2}\")\n"
   ]
  },
  {
   "cell_type": "markdown",
   "id": "3d693456",
   "metadata": {},
   "source": [
    "# 23. Write a Python program to get the frequency of the elements in a list."
   ]
  },
  {
   "cell_type": "code",
   "execution_count": 8,
   "id": "661dd528",
   "metadata": {},
   "outputs": [
    {
     "name": "stdout",
     "output_type": "stream",
     "text": [
      "The frequency of elements in list are:{1: 2, 2: 1, 3: 2, 4: 1, 5: 2, 6: 2, 7: 2, 8: 2, 9: 1}\n"
     ]
    }
   ],
   "source": [
    "lst1 = [1,2,3,4,5,6,7,8,1,3,5,9,6,8,7]\n",
    "dict1 = {}\n",
    "\n",
    "for i in lst1:\n",
    "    if i in dict1:\n",
    "        dict1[i] +=1\n",
    "    else:\n",
    "        dict1[i] = 1\n",
    "print(f\"The frequency of elements in list are:{dict1}\")        "
   ]
  },
  {
   "cell_type": "markdown",
   "id": "e878de30",
   "metadata": {},
   "source": [
    "# 24. Write a Python program to check whether a list contains a sublist\n"
   ]
  },
  {
   "cell_type": "code",
   "execution_count": 38,
   "id": "a17f5ef2",
   "metadata": {},
   "outputs": [
    {
     "name": "stdout",
     "output_type": "stream",
     "text": [
      "lst1 contains a sublist\n"
     ]
    }
   ],
   "source": [
    "lst1 = [2,3.3,4+2j,\"Hello\",(1,2,3,4),[23,13,49,513],{5,6},{\"Name\":\"Virat\"}]\n",
    "for i in lst1:\n",
    "    if type(i) == list:\n",
    "        print(f\"lst1 contains a sublist\")\n",
    "        break\n",
    "else:\n",
    "    print(\"Sublist is not present in lst1\")"
   ]
  },
  {
   "cell_type": "markdown",
   "id": "d397b33a",
   "metadata": {},
   "source": [
    "# 25. Write a Python program to generate all sublists of a list"
   ]
  },
  {
   "cell_type": "code",
   "execution_count": 12,
   "id": "feedb9e7",
   "metadata": {},
   "outputs": [
    {
     "name": "stdout",
     "output_type": "stream",
     "text": [
      "[[], [1], [1, 2], [2], [1, 2, 3], [2, 3], [3]]\n"
     ]
    }
   ],
   "source": [
    "                                             \n",
    "l = [1, 2, 3]\n",
    "\n",
    "def sub_lists (l):\n",
    "    lists = [[]]\n",
    "    for i in range(len(l) + 1):   \n",
    "        for j in range(i):\n",
    "            lists.append(l[j: i])   \n",
    "    return lists\n",
    "\n",
    "print(sub_lists(l))\n"
   ]
  },
  {
   "cell_type": "code",
   "execution_count": 17,
   "id": "0e2b00d6",
   "metadata": {},
   "outputs": [
    {
     "name": "stdout",
     "output_type": "stream",
     "text": [
      "[[], [1], [1, 2], [2], [1, 2, 3], [2, 3], [3]]\n"
     ]
    }
   ],
   "source": [
    "lst = [1, 2, 3]       \n",
    "sub_lst = [[]]\n",
    "\n",
    "for i in range(len(lst)+1):\n",
    "    for j in range(i):\n",
    "        sub_lst.append(lst[j : i]) \n",
    "print(sub_lst)"
   ]
  },
  {
   "cell_type": "markdown",
   "id": "bea25a85",
   "metadata": {},
   "source": [
    "# 26. Write a Python program to find common items from two lists"
   ]
  },
  {
   "cell_type": "code",
   "execution_count": 44,
   "id": "45cedb2a",
   "metadata": {},
   "outputs": [
    {
     "name": "stdout",
     "output_type": "stream",
     "text": [
      "Common items from two lists are: [5, 6]\n"
     ]
    }
   ],
   "source": [
    "def get_common_items(lst1,lst2):\n",
    "\n",
    "    lst1 = [1,2,3,4,5,6]\n",
    "    lst2 = [5,6,7,8,9,10]\n",
    "\n",
    "    common_items = [i for i in lst1 if i in lst2]\n",
    "    return common_items\n",
    "\n",
    "print(f\"Common items from two lists are: {common_items}\")"
   ]
  },
  {
   "cell_type": "markdown",
   "id": "74271e08",
   "metadata": {},
   "source": [
    "# 27. How to flatten a list in python?"
   ]
  },
  {
   "cell_type": "code",
   "execution_count": 46,
   "id": "03aa2846",
   "metadata": {},
   "outputs": [
    {
     "data": {
      "text/plain": [
       "[1, 2, 3, 4, 5, 6, 7, 8, 9]"
      ]
     },
     "execution_count": 46,
     "metadata": {},
     "output_type": "execute_result"
    }
   ],
   "source": [
    "lst = [[1,2,3],[4,5,6],[7,8,9]]\n",
    "\n",
    "flatten_li = [a for i in lst for a in i]\n",
    "flatten_li"
   ]
  },
  {
   "cell_type": "code",
   "execution_count": 53,
   "id": "b40facba",
   "metadata": {},
   "outputs": [
    {
     "name": "stdout",
     "output_type": "stream",
     "text": [
      "[1, 2, 3, 4, 5, 6, 7, 8, 9]\n"
     ]
    }
   ],
   "source": [
    "lst = [[1,2,3],[4,5,6],[7,8,9]]\n",
    "lst2 = []\n",
    "for i in lst:\n",
    "    for j in i:\n",
    "        lst2.append(j)\n",
    "print(lst2)"
   ]
  },
  {
   "cell_type": "markdown",
   "id": "221a3090",
   "metadata": {},
   "source": [
    "# 28. How to sort a list in ascending and descending order without using the sort function?"
   ]
  },
  {
   "cell_type": "code",
   "execution_count": 7,
   "id": "eb645bfc",
   "metadata": {},
   "outputs": [
    {
     "name": "stdout",
     "output_type": "stream",
     "text": [
      "[1, 1, 2, 2, 3, 3, 5, 5, 5, 6, 6, 7, 9, 9]\n"
     ]
    }
   ],
   "source": [
    "#Ascending order                                              \n",
    "\n",
    "lst = [1,6,2,3,5,9,2,3,5,1,9,6,7,5]\n",
    "\n",
    "for i in range(len(lst)):           \n",
    "    for j in range(i+1,len(lst)): \n",
    "        if lst[i] > lst[j]:     \n",
    "            lst[i], lst[j] = lst[j], lst[i]  \n",
    "\n",
    "print(lst)   \n",
    "\n"
   ]
  },
  {
   "cell_type": "code",
   "execution_count": 8,
   "id": "9a2d8694",
   "metadata": {},
   "outputs": [
    {
     "name": "stdout",
     "output_type": "stream",
     "text": [
      "[9, 9, 7, 6, 6, 5, 5, 5, 3, 3, 2, 2, 1, 1]\n"
     ]
    }
   ],
   "source": [
    "#Descending order\n",
    "\n",
    "lst = [1,6,2,3,5,9,2,3,5,1,9,6,7,5]\n",
    "\n",
    "for i in range(len(lst)):           \n",
    "    for j in range(i+1,len(lst)): \n",
    "        if lst[i] < lst[j]:     \n",
    "            lst[i], lst[j] = lst[j], lst[i]  \n",
    "\n",
    "print(lst)\n"
   ]
  },
  {
   "cell_type": "markdown",
   "id": "54592864",
   "metadata": {},
   "source": [
    "# 29. How to sort a tuple?"
   ]
  },
  {
   "cell_type": "code",
   "execution_count": 55,
   "id": "7206c7cc",
   "metadata": {},
   "outputs": [
    {
     "data": {
      "text/plain": [
       "(2, 3, 4, 4, 4, 4, 4, 5, 6, 54)"
      ]
     },
     "execution_count": 55,
     "metadata": {},
     "output_type": "execute_result"
    }
   ],
   "source": [
    "tup1 = (4,2,3,4,54,4,5,4,6,4)\n",
    "new_tup = tuple(sorted(tup1,reverse=False)) #Ascending\n",
    "new_tup"
   ]
  },
  {
   "cell_type": "code",
   "execution_count": 56,
   "id": "352879e6",
   "metadata": {},
   "outputs": [
    {
     "data": {
      "text/plain": [
       "(54, 6, 5, 4, 4, 4, 4, 4, 3, 2)"
      ]
     },
     "execution_count": 56,
     "metadata": {},
     "output_type": "execute_result"
    }
   ],
   "source": [
    "tup1 = (4,2,3,4,54,4,5,4,6,4)\n",
    "new_tup = tuple(sorted(tup1,reverse=True)) #Descending\n",
    "new_tup"
   ]
  },
  {
   "cell_type": "markdown",
   "id": "8e226f24",
   "metadata": {},
   "source": [
    "# 30. Write a Python program to convert a list of multiple integers into a single integer\n",
    "    a. [11, 33, 50] >>> 113350\n"
   ]
  },
  {
   "cell_type": "code",
   "execution_count": 64,
   "id": "9767f6ba",
   "metadata": {},
   "outputs": [
    {
     "name": "stdout",
     "output_type": "stream",
     "text": [
      "113350"
     ]
    }
   ],
   "source": [
    "a = [11, 33, 50]\n",
    "\n",
    "for i in a:\n",
    "    print(i,end=\"\")"
   ]
  },
  {
   "cell_type": "code",
   "execution_count": 72,
   "id": "0036ea0c",
   "metadata": {},
   "outputs": [
    {
     "data": {
      "text/plain": [
       "[]"
      ]
     },
     "execution_count": 72,
     "metadata": {},
     "output_type": "execute_result"
    }
   ],
   "source": [
    "a = []\n",
    "\n",
    "a.clear()\n",
    "a"
   ]
  },
  {
   "cell_type": "code",
   "execution_count": 65,
   "id": "61fbc097",
   "metadata": {},
   "outputs": [
    {
     "name": "stdout",
     "output_type": "stream",
     "text": [
      "113350\n"
     ]
    }
   ],
   "source": [
    "lst=[11, 33, 50]\n",
    "\n",
    "s_integer = [str(i) for i in lst]\n",
    "\n",
    "print(\"\".join(s_integer))\n"
   ]
  },
  {
   "cell_type": "markdown",
   "id": "c6448441",
   "metadata": {},
   "source": [
    "# 31. Difference between del and clear?"
   ]
  },
  {
   "cell_type": "raw",
   "id": "b3152adc",
   "metadata": {},
   "source": [
    "                    del                                               clear()\n",
    "1. The del is a keyword in Python.                       1. The clear is a method in in Python.\n",
    "\n",
    "2. An indexError is thrown if the index doesn’t          2. Does not return any value.\n",
    "   exist in the Python list.\n",
    "    \n",
    "3. The del works on index.                               3. Does not accept any argument.\n",
    "\n",
    "4. The del deletes an element at a specified             4.  The clear() is used to empty the entire list. this can be used \n",
    "   index number.                                             if someone wants an empty list for any other purpose. \n",
    "   \n",
    "5. The del is simple deletion.                           5. The clear() will empty elements \n"
   ]
  },
  {
   "cell_type": "markdown",
   "id": "0d6b5c71",
   "metadata": {},
   "source": [
    "# 32. Difference between remove and pop?"
   ]
  },
  {
   "cell_type": "raw",
   "id": "ad0ee483",
   "metadata": {},
   "source": [
    "                   remove()                                                   pop()\n",
    "1. It is a method.                                              1. It is a method.\n",
    "\n",
    "2. To delete value this method uses                             2.This method also uses the index as a parameter to delete.\n",
    "   the value as a parameter. \n",
    "    \n",
    "3. The remove() method doesn’t return any value.                3.pop() returns deleted value.\n",
    "\n",
    "4. At a time it deletes only one value from the list.           4. At a time it deletes only one value from the list.\n",
    "\n",
    "5. At a time it deletes only one value from the list.           5. At a time it deletes only one value from the list."
   ]
  },
  {
   "cell_type": "markdown",
   "id": "aad0493e",
   "metadata": {},
   "source": [
    "# 33. Difference between indexing and Slicing?\n"
   ]
  },
  {
   "cell_type": "raw",
   "id": "83670264",
   "metadata": {},
   "source": [
    "                       Indexing                                                         Slicing\n",
    "1.It returns only 1 item                                            1.It returns a new list/tuple\n",
    "\n",
    "2.An IndexError will be thrown if you attempt to                    2.When used for slicing, out-of-range indexes are \n",
    "  use an index that is too large.                                     handled gently.\n",
    "\n",
    "3. We cannot change the length of the list by                       3.We can change the length of the list or even clear it \n",
    "   item assignment in indexing.                                       by assigning items to slicing.\n",
    "    \n",
    "4. We can assign a single element or an iterable to indexing.       4.When we assign a single element to slicing, we get a \n",
    "                                                                      TypeError. It will only accept iterables."
   ]
  },
  {
   "cell_type": "markdown",
   "id": "b05f366c",
   "metadata": {},
   "source": [
    "# 34.Difference between sort and sorted?\n"
   ]
  },
  {
   "cell_type": "raw",
   "id": "a5d7a955",
   "metadata": {},
   "source": [
    "                                 sorted()                                         sort()\n",
    "1.The sorted() function returns a sorted list                       1.The sort() method sorts the list.\n",
    "  of the specific iterable object.\n",
    "    \n",
    "2.We can specify ascending or descending order                      2.It sorts the list in ascending order by default.\n",
    "  while using the sorted() function\n",
    "    \n",
    "3.Its syntax is :                                                   3.Its syntax is -:\n",
    "sorted(iterable, key=key, reverse=reverse)                            list.sort(reverse=True|False, key=myFunc)\n",
    "\n",
    "4.Its return type is a sorted list.                                 4.We can also use it for sorting a list in \n",
    "                                                                      descending order.\n",
    "    \n",
    "5.It can only sort a list that contains only                        5.It sorts the list in-place.\n",
    "  one type of value."
   ]
  },
  {
   "cell_type": "markdown",
   "id": "693c187e",
   "metadata": {},
   "source": [
    "# 35. Difference between reverse and reversed?\n"
   ]
  },
  {
   "cell_type": "raw",
   "id": "04055b91",
   "metadata": {},
   "source": [
    "                      reverse()                                                      reversed\n",
    "1.Python List reverse() is an inbuilt method in              1.Python reversed() method returns an iterator \n",
    "  objects of the List in place i.e. it doesn’t                 that accesses the given sequence in the reverse \n",
    "  the Python programming language that reverses                order.\n",
    "  use any extra space but it just modifies the \n",
    "  original list.\n",
    "\n",
    "2. Syntax: list_name.reverse()                                2. Syntax :reversed(sequ) \n",
    "        \n",
    "3. The reverse() method does not return any                   3.returns an iterator that accesses the given  \n",
    "   value but reverses the given object from                     sequence in the reverse order.\n",
    "   the list.\n",
    "\n",
    "4.There are no parameters.                                     4. There are parameters : Sequence to be reversed. "
   ]
  },
  {
   "cell_type": "markdown",
   "id": "dc5cbe7b",
   "metadata": {},
   "source": [
    "# 36. Difference between copy and deep copy?"
   ]
  },
  {
   "cell_type": "raw",
   "id": "71d43eed",
   "metadata": {},
   "source": [
    "                       Copy                                                    Deep Copy\n",
    "1.It is the copy of the collection structure,                    1.It is the copy of the collections with all the elements\n",
    "  not the elements.                                                in the original collection duplicated.\n",
    "\n",
    "2.Affects the initial dataframe.                                 2.Does not affect the initial dataframe.\n",
    "\n",
    "3.Shallow copy doesn’t replicate child objects.                  3.Deep copy replicates child objects recursively.\n",
    "\n",
    "4.Creating a shallow copy is fast as compared to deep copy.      4.Creating a deep copy is slow as compare to shallow copy.\n",
    "\n",
    "5.The copy is dependent on the original                          5.The copy is not fully dependent on the original.\n",
    "\n",
    "6.Syntax: a.copy(x)                                              6.Syntax: copy.deepcopy(x)"
   ]
  },
  {
   "cell_type": "markdown",
   "id": "b17cde2d",
   "metadata": {},
   "source": [
    "# 37.How to check whether the list is empty or not?\n"
   ]
  },
  {
   "cell_type": "code",
   "execution_count": 75,
   "id": "691fa391",
   "metadata": {},
   "outputs": [
    {
     "name": "stdout",
     "output_type": "stream",
     "text": [
      "The list is not empty\n"
     ]
    }
   ],
   "source": [
    "lst = [1,2,3]\n",
    "if lst == []:\n",
    "    print(\"The list is empty\")\n",
    "else:\n",
    "    print(\"The list is not empty\")\n"
   ]
  },
  {
   "cell_type": "code",
   "execution_count": 84,
   "id": "8d4a563b",
   "metadata": {},
   "outputs": [
    {
     "name": "stdout",
     "output_type": "stream",
     "text": [
      "['list is empty']\n"
     ]
    }
   ],
   "source": [
    "lst = []\n",
    "\n",
    "lst_e = [\"list is not empty\" if len(lst)>0 else \"list is empty\"]\n",
    "print(lst_e)"
   ]
  },
  {
   "cell_type": "markdown",
   "id": "86e6ed8e",
   "metadata": {},
   "source": [
    "# 38.How to concatenate two lists?\n"
   ]
  },
  {
   "cell_type": "code",
   "execution_count": 86,
   "id": "b483067b",
   "metadata": {},
   "outputs": [
    {
     "data": {
      "text/plain": [
       "[1, 2, 3, 4, 5, 6, 7, 8]"
      ]
     },
     "execution_count": 86,
     "metadata": {},
     "output_type": "execute_result"
    }
   ],
   "source": [
    "lst1 = [1,2,3,4]\n",
    "lst2 = [5,6,7,8]\n",
    "\n",
    "lst1 + lst2"
   ]
  },
  {
   "cell_type": "code",
   "execution_count": 94,
   "id": "060a181c",
   "metadata": {},
   "outputs": [
    {
     "name": "stdout",
     "output_type": "stream",
     "text": [
      "[1, 2, 3, 4, 5, 6, 7, 8]\n"
     ]
    }
   ],
   "source": [
    "a = [1,2,3,4]\n",
    "b = [5,6,7,8]\n",
    "\n",
    "a.extend(b)\n",
    "print(a)"
   ]
  },
  {
   "cell_type": "code",
   "execution_count": 96,
   "id": "82db5c9f",
   "metadata": {},
   "outputs": [
    {
     "name": "stdout",
     "output_type": "stream",
     "text": [
      "[1, 2, 3, 4, 5, 6, 7, 8]\n"
     ]
    }
   ],
   "source": [
    "lst1 = [1,2,3,4]\n",
    "lst2 = [5,6,7,8]\n",
    "\n",
    "for i in lst2:\n",
    "    lst1.append(i)\n",
    "print(lst1)"
   ]
  },
  {
   "cell_type": "markdown",
   "id": "bc637e84",
   "metadata": {},
   "source": [
    "# 39. How to find the occurrences of an element in the python list?\n"
   ]
  },
  {
   "cell_type": "code",
   "execution_count": 103,
   "id": "2ad1fe99",
   "metadata": {},
   "outputs": [
    {
     "data": {
      "text/plain": [
       "3"
      ]
     },
     "execution_count": 103,
     "metadata": {},
     "output_type": "execute_result"
    }
   ],
   "source": [
    "lst = [1,2,3,4,5,6,7,8,1,8,2,3,2,4]\n",
    "lst.count(2)"
   ]
  },
  {
   "cell_type": "code",
   "execution_count": 102,
   "id": "21ee53ba",
   "metadata": {},
   "outputs": [
    {
     "name": "stdout",
     "output_type": "stream",
     "text": [
      "Element 10 has occured 2 times in list\n"
     ]
    }
   ],
   "source": [
    "lst = [8, 6, 8, 10, 8, 20, 10, 8, 8]\n",
    "n = 10\n",
    "def get_count(lst, n):\n",
    "    return lst.count(n)\n",
    "print(f\"Element {n} has occured {lst.count(n)} times in list\")"
   ]
  },
  {
   "cell_type": "markdown",
   "id": "4b852738",
   "metadata": {},
   "source": [
    "# 40. How to flatten a list in python?"
   ]
  },
  {
   "cell_type": "code",
   "execution_count": 106,
   "id": "77d2ce68",
   "metadata": {},
   "outputs": [
    {
     "data": {
      "text/plain": [
       "[8, 12, 16, 18, 23, 6, 7, 8, 9]"
      ]
     },
     "execution_count": 106,
     "metadata": {},
     "output_type": "execute_result"
    }
   ],
   "source": [
    "lst = [[8,12,16],[18,23,6],[7,8,9]]\n",
    "\n",
    "lst1 = [a for i in lst for a in i]\n",
    "lst1"
   ]
  },
  {
   "cell_type": "code",
   "execution_count": null,
   "id": "adab6a79",
   "metadata": {},
   "outputs": [],
   "source": []
  }
 ],
 "metadata": {
  "kernelspec": {
   "display_name": "Python 3 (ipykernel)",
   "language": "python",
   "name": "python3"
  },
  "language_info": {
   "codemirror_mode": {
    "name": "ipython",
    "version": 3
   },
   "file_extension": ".py",
   "mimetype": "text/x-python",
   "name": "python",
   "nbconvert_exporter": "python",
   "pygments_lexer": "ipython3",
   "version": "3.11.0"
  }
 },
 "nbformat": 4,
 "nbformat_minor": 5
}
