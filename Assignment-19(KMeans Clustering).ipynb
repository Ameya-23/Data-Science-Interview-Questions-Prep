{
 "cells": [
  {
   "cell_type": "markdown",
   "id": "c301a2f9",
   "metadata": {},
   "source": [
    "### 1. What is Unsupervised Machine Learning?"
   ]
  },
  {
   "cell_type": "code",
   "execution_count": null,
   "id": "f6b8f242",
   "metadata": {},
   "outputs": [],
   "source": [
    "It contain Only Independent variables.\n",
    "It is has Unlablled data.\n",
    "Unsupervised learning also known as unsupervised machine learning uses machine learning algorithms\n",
    "to analyze and cluster unlabeled datasets.\n",
    "e.g.K-Means Clustering, Principal Component Analysis, Hierarchical Clustering"
   ]
  },
  {
   "cell_type": "markdown",
   "id": "5b606661",
   "metadata": {},
   "source": [
    "### 2. Explain the steps of the k-Means Clustering Algorithm"
   ]
  },
  {
   "cell_type": "code",
   "execution_count": null,
   "id": "7bf8422f",
   "metadata": {},
   "outputs": [],
   "source": [
    "1. Select the value of k (no of cluster).\n",
    "2. Select random k centroid.\n",
    "3. Calculate the distance between centroids and all datapoints\n",
    "4. Assign each datapoints to closets cluster/centroid\n",
    "5. Update the value of centroid by using mean of cluster datapoints\n",
    "6. Keep iterarting above mentioned steps till there is no change in centroid value or no movement\n",
    "   in datapoints from cluster-1 to cluster-2 or vice versa"
   ]
  },
  {
   "cell_type": "markdown",
   "id": "d96a83e7",
   "metadata": {},
   "source": [
    "### 3. What is K in K-means algorithm and what is its significance?"
   ]
  },
  {
   "cell_type": "code",
   "execution_count": null,
   "id": "9af8f109",
   "metadata": {},
   "outputs": [],
   "source": [
    "It is a centroid based algorithm\n",
    "k refer to no of studies on cluster and k = 8 (default value).\n",
    "Cluster means similar properties of datapoints comes under one cluster e.g Homomgeneous datapoints"
   ]
  },
  {
   "cell_type": "markdown",
   "id": "02883b77",
   "metadata": {},
   "source": [
    "### 4. What is the difference between the Manhattan Distance and Euclidean Distance in Clustering?"
   ]
  },
  {
   "cell_type": "code",
   "execution_count": null,
   "id": "144e7e52",
   "metadata": {},
   "outputs": [],
   "source": [
    "The Manhattan Distance and Euclidean Distance are two measures used in clustering to calculate \n",
    "the similarity or dissimilarity between data points.\n",
    "\n",
    "Manhattan Distance:\n",
    "    Manhattan distance captures the distance between two points by aggregating the pairwise \n",
    "    absolute difference between each variable.\n",
    "\n",
    "Euclidean Distance:\n",
    "1.Euclidean distance captures the same by aggregating the squared difference in each variable.\n",
    "2.The Euclidean distance will always be shorter than (or equal to) the Manhattan distance.\n",
    "  One of the advantages of Euclidean distance is that it measures the regular distance between\n",
    "    two points in space"
   ]
  },
  {
   "cell_type": "markdown",
   "id": "3c1b9b2f",
   "metadata": {},
   "source": [
    "### 5. What are some Stopping Criteria for k-Means Clustering?"
   ]
  },
  {
   "cell_type": "code",
   "execution_count": null,
   "id": "c4926b0a",
   "metadata": {},
   "outputs": [],
   "source": [
    "Centroids of newly formed clusters do not change.\n",
    "Points remain in the same cluster.\n",
    "Maximum number of iterations is reached.\n",
    "\n",
    "1. Convergence of centroids: The algorithm can be stopped when the movement of centroids between \n",
    "   iterations falls below a certain threshold.\n",
    "   If the centroids' positions stabilize and do not change significantly, it indicates that the \n",
    "   algorithm has converged, and further iterations are unlikely to yield substantial improvements.\n",
    "\n",
    "2. Maximum number of iterations: A predetermined maximum number of iterations\n",
    "    can be set, specifying the maximum times the algorithm is allowed to iterate.\n",
    "    If the algorithm reaches this limit without meeting other\n",
    "    convergence criteria, it stops regardless of whether the clusters have converged.\n",
    "\n",
    "3. Cluster assignment stability: The stability of cluster assignments can be monitored. If the \n",
    "   majority of data points maintain the same cluster assignments over consecutive iterations, \n",
    "    it suggests that the clustering solution is stable.\n",
    "    In such cases,the algorithm can be stopped as the clusters have reached a stable configuration.\n",
    "\n",
    "4. Minimum improvement in WCSS: The within-cluster sum of squares (WCSS) is calculated at each \n",
    "    iteration. The algorithm can be terminated if the improvement in WCSS between consecutive \n",
    "    iterations falls below a predefined threshold. This threshold indicates that the clustering \n",
    "    solution is not improving significantly, and further iterations may not yield substantial \n",
    "    changes.\n"
   ]
  },
  {
   "cell_type": "markdown",
   "id": "08fbce9e",
   "metadata": {},
   "source": [
    "### 6. What is the main difference between k-Means and k-Nearest Neighbours?"
   ]
  },
  {
   "cell_type": "code",
   "execution_count": null,
   "id": "71227887",
   "metadata": {},
   "outputs": [],
   "source": [
    "The main difference is that KNN is a supervised machine learning algorithm used for classification\n",
    "It does not require training data.\n",
    "whereas KMeans is an unsupervised machine learning algorithm used for clustering.\n",
    "It that it does require training data"
   ]
  },
  {
   "cell_type": "markdown",
   "id": "b2878e0b",
   "metadata": {},
   "source": [
    "### 7. How to decide the optimal number of K in the K means Algorithm?"
   ]
  },
  {
   "cell_type": "code",
   "execution_count": null,
   "id": "900eebbc",
   "metadata": {},
   "outputs": [],
   "source": [
    "1. We decide K value by using Elbow method, Elbow method is used to evaluate k value\n",
    "2. Perform K-means clustering with all these different values of K.\n",
    "   For each of the K values, we calculate average distances to the centroid across all data points.\n",
    "3. Plot these points and find the point where the average distance from the centroid falls suddenly\n",
    "   Elbow shape."
   ]
  },
  {
   "cell_type": "markdown",
   "id": "045aa1a8",
   "metadata": {},
   "source": [
    "### 8. What is WCSS?"
   ]
  },
  {
   "cell_type": "code",
   "execution_count": null,
   "id": "f9c59d5e",
   "metadata": {},
   "outputs": [],
   "source": [
    "WCSS stands for Within-Cluster Sum of Squares.\n",
    "WCSS is the sum of the squared distance between each point and the centroid in a cluster.\n",
    "When we plot the WCSS with the K value, the plot looks like an Elbow.\n",
    "As the number of clusters increases(k value), the WCSS value will start to decrease.\n",
    "WCSS value is largest when K = 1"
   ]
  },
  {
   "cell_type": "markdown",
   "id": "d0c2d329",
   "metadata": {},
   "source": [
    "### 9. What is Elbow Method?"
   ]
  },
  {
   "cell_type": "code",
   "execution_count": null,
   "id": "21fa2746",
   "metadata": {},
   "outputs": [],
   "source": [
    "The elbow method is a graphical representation of finding the optimal 'K' in a K-means clustering.\n",
    "It works by finding WCSS (Within-Cluster Sum of Square) i.e. the sum of the square distance between\n",
    "points in a cluster and the cluster centroid.\n",
    "\n",
    "The Elbow Method is a technique used to determine the optimal number of clusters in a dataset for\n",
    "a clustering algorithm. It helps us find the point at which adding more clusters does not \n",
    "significantly improve the performance of the algorithm."
   ]
  },
  {
   "cell_type": "markdown",
   "id": "f5ccc659",
   "metadata": {},
   "source": [
    "### 10. What is a centroid point in K means Clustering?"
   ]
  },
  {
   "cell_type": "code",
   "execution_count": null,
   "id": "71daaf15",
   "metadata": {},
   "outputs": [],
   "source": [
    "A centroid is a data point that represents the center of the cluster (the mean)\n",
    "and it might not necessarily be a member of the dataset."
   ]
  },
  {
   "cell_type": "markdown",
   "id": "6985c5f7",
   "metadata": {},
   "source": [
    "### 11. Is Feature Scaling required for the K means Algorithm?"
   ]
  },
  {
   "cell_type": "code",
   "execution_count": null,
   "id": "6a4964a6",
   "metadata": {},
   "outputs": [],
   "source": [
    "Yes, Feature Scaling is required for the K means Algorithm\n",
    "Feature scaling is generally recommended before applying the K-means algorithm. Feature scaling is the process of transforming your data so that the features or variables have similar scales or ranges.\n",
    "It helps to ensure that all features contribute equally to the clustering process and prevents any particular feature from dominating the algorithm."
   ]
  },
  {
   "cell_type": "markdown",
   "id": "04ae9b45",
   "metadata": {},
   "source": [
    "### 12. What is Normalization? When to use it?"
   ]
  },
  {
   "cell_type": "code",
   "execution_count": null,
   "id": "e7eb6093",
   "metadata": {},
   "outputs": [],
   "source": [
    "Normalizing the data is important to ensure that the distance measures according equal weight to\n",
    "each variable.\n",
    "Normalization is a technique used to rescale numerical data to a common range or scale.\n",
    "It transforms the values of different features or variables to a standard range, often between 0 and 1,\n",
    "making them comparable and eliminating the effects of different scales.\n",
    "\n",
    "Without normalization, the variable with the largest scale will dominate the measure.\n",
    "The goal of normalization is to transform features to be on a similar scale.\n",
    "This improves the performance and training stability of the model\n",
    "\n",
    "Use:\n",
    "    In machine learning, normalization is used to preprocess data before training models.\n",
    "It ensures that all input features are on a similar scale, which can improve the performance and convergence of machine learning algorithms. \n",
    "Common normalization techniques include scaling features to a range (e.g., between 0 and 1) or\n",
    "standardizing them to have zero mean and unit variance."
   ]
  },
  {
   "cell_type": "markdown",
   "id": "5de01837",
   "metadata": {},
   "source": [
    "### 13. What is Standardization? When to use it?"
   ]
  },
  {
   "cell_type": "code",
   "execution_count": null,
   "id": "33fdaabf",
   "metadata": {},
   "outputs": [],
   "source": [
    "Standardization is the central preprocessing step in data mining to standardize values of features\n",
    "or attributes from different dynamic range into a specific range.\n",
    "standardization is to bring down all the features to a common scale without distorting the\n",
    "differences in the range of the values.\n",
    "\n",
    "In machine learning, standardization is often used as a preprocessing step before training models. By standardizing the input features, the data is transformed to have zero mean and unit variance/standard deviation of 1.\n",
    "This can help algorithms converge faster, prevent features with larger scales from dominating the learning process,\n",
    "and ensure that all features contribute equally to the model's performance.\n",
    "\n",
    "Use:\n",
    "1. When you have multiple variables with different units or scales, standardization can bring them to a common scale.\n",
    "    This makes it easier to compare and interpret their relative importance.\n",
    "2. Standardization is useful when your data has varying scales and the algorithm you are using does make\n",
    "assumptions about your data having a Gaussian distribution"
   ]
  },
  {
   "cell_type": "markdown",
   "id": "f42b61f4",
   "metadata": {},
   "source": [
    "### 14. What will be the impact of outliers?"
   ]
  },
  {
   "cell_type": "code",
   "execution_count": null,
   "id": "41bed69a",
   "metadata": {},
   "outputs": [],
   "source": [
    "K-means clustering algorithm is sensitive to outliers because a mean is easily influenced by extreme values.\n",
    "It can change the model equation completely i.e. bad prediction or estimation."
   ]
  },
  {
   "cell_type": "markdown",
   "id": "cee22b48",
   "metadata": {},
   "source": [
    "### 15. How would you Pre-Process the data for k-Means?"
   ]
  },
  {
   "cell_type": "code",
   "execution_count": null,
   "id": "621d7f57",
   "metadata": {},
   "outputs": [],
   "source": [
    "After pre-processing the data, you can then apply the k-means algorithm to cluster the data points\n",
    "into k distinct groups based on their similarity. The pre-processing steps help ensure that the \n",
    "data is in a suitable format and that the algorithm can effectively capture the underlying \n",
    "patterns in the data.\n",
    "Steps:\n",
    "Removing duplicates.\n",
    "Removing irrelevant observations and errors.\n",
    "Removing unnecessary columns.\n",
    "Handling inconsistent data.\n",
    "Handling outliers and noise."
   ]
  },
  {
   "cell_type": "markdown",
   "id": "94133130",
   "metadata": {},
   "source": [
    "### 16. Which metrics can you use to find the accuracy of the K means Algorithm?"
   ]
  },
  {
   "cell_type": "code",
   "execution_count": null,
   "id": "739602ae",
   "metadata": {},
   "outputs": [],
   "source": [
    "The Silhouette score in the K-Means clustering algorithm is between -1 and 1 used to find accuracy\n",
    "of k means algorithm.\n",
    "\n",
    "When evaluating the accuracy or quality of the results obtained from the k-means algorithm, traditional classification metrics such\n",
    "as accuracy, precision, recall, and F1 score are not directly applicable because k-means is an unsupervised clustering algorithm. However, there are some evaluation metrics specifically designed for assessing the performance of clustering algorithms like k-means.\n",
    "\n",
    "l. Within-cluster sum of squares (WCSS): This metric calculates the sum of squared distances \n",
    "    between each data point and its centroid within each cluster. Lower values of WCSS indicate \n",
    "    tighter and more compact clusters, which is desirable. WCSS can be used to compare different \n",
    "    k-means runs with varying values of k and choose the optimal number of clusters.\n",
    "\n",
    "2. Silhouette coefficient: The silhouette coefficient measures\n",
    "   the compactness and separation of clusters. It quantifies how well each data point fits within \n",
    "   its own cluster compared to neighboring clusters. A higher silhouette coefficient indicates \n",
    "   better-defined and well-separated clusters, with values ranging from -1 to 1. Values close to 1\n",
    "   indicate good clustering, while values close to -1 suggest poor clustering."
   ]
  },
  {
   "cell_type": "markdown",
   "id": "60592d7e",
   "metadata": {},
   "source": [
    "### 17. What are the challenges associated with K means Clustering?"
   ]
  },
  {
   "cell_type": "code",
   "execution_count": null,
   "id": "27cc1801",
   "metadata": {},
   "outputs": [],
   "source": [
    "Defining the number of clusters.\n",
    "Determining the initial centroids.\n",
    "The cluster membership may change over time due to dynamic shifts in data.\n",
    "Handling outliers is difficult in cluster analysis.\n",
    "Clustering struggles with high-dimensional datasets.\n",
    "Multiple correct answers for the same problem.\n",
    "Evaluating a solutions correctness is problematic."
   ]
  },
  {
   "cell_type": "markdown",
   "id": "50efbe69",
   "metadata": {},
   "source": [
    "### 18. Explain some cases where K means clustering fails to give good results."
   ]
  },
  {
   "cell_type": "code",
   "execution_count": null,
   "id": "e12deeb7",
   "metadata": {},
   "outputs": [],
   "source": [
    "when the data contains outliers,the density spread of data points across the data space is different,\n",
    "the data points follow non-convex shapes and the inappropriate data preprocessing"
   ]
  },
  {
   "cell_type": "markdown",
   "id": "19424c4c",
   "metadata": {},
   "source": [
    "### 19. What are the advantages and disadvantages of the K means Algorithm?"
   ]
  },
  {
   "cell_type": "code",
   "execution_count": null,
   "id": "3d698231",
   "metadata": {},
   "outputs": [],
   "source": [
    "Advantage:-\n",
    "\n",
    "l.K-means is a relatively simple and easy-to-understand clustering algorithm\n",
    "  making it suitable for large datasets.\n",
    "3.K-means can handle large datasets with a reasonable number of features and data points.\n",
    "4.It scales well and can be applied to datasets with millions of observations.\n",
    "5.K-means is a fast algorithm that converges quickly, especially for low-dimensional data.\n",
    "6.Each data point is assigned to the nearest cluster centroid, making it easy to understand the groupings.\n",
    "\n",
    "Disadvantage:-\n",
    "\n",
    "l.K-means clustering can be sensitive to the initial placement of cluster centroids.\n",
    "2.K-means is sensitive to outliers and noisy data.\n",
    "3.Outliers can disproportionately influence the position of centroids and distort the clusters.\n",
    "4.K-means struggles to handle clusters that have non-linear or irregular shapes.\n",
    "5.K-means is sensitive to the scale of the features.\n",
    "6.Variables with larger scales can dominate the clustering process, so it's important to \n",
    "  standardize or normalize the features before applying k-means."
   ]
  },
  {
   "cell_type": "markdown",
   "id": "9b1f74e1",
   "metadata": {},
   "source": [
    "### 20. What are the applications of the K-means algorithm?"
   ]
  },
  {
   "cell_type": "code",
   "execution_count": null,
   "id": "f745c98c",
   "metadata": {},
   "outputs": [],
   "source": [
    "The performance of K-means clustering is sufficient to achieve the given goals. When it comes to \n",
    "the following scenarios, it is useful:\n",
    "\n",
    "- To get relevant insights from the data we’re dealing with.\n",
    "- Distinct models will be created for different subgroups in a cluster-then-predict approach.\n",
    "- Market segmentation\n",
    "- Document Clustering\n",
    "- Image segmentation\n",
    "- Image compression\n",
    "- Customer segmentation\n",
    "- Analyzing the trend on dynamic data"
   ]
  }
 ],
 "metadata": {
  "kernelspec": {
   "display_name": "Python 3 (ipykernel)",
   "language": "python",
   "name": "python3"
  },
  "language_info": {
   "codemirror_mode": {
    "name": "ipython",
    "version": 3
   },
   "file_extension": ".py",
   "mimetype": "text/x-python",
   "name": "python",
   "nbconvert_exporter": "python",
   "pygments_lexer": "ipython3",
   "version": "3.11.0"
  }
 },
 "nbformat": 4,
 "nbformat_minor": 5
}
