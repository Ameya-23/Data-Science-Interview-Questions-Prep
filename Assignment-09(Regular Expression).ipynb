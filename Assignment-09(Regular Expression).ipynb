{
 "cells": [
  {
   "cell_type": "markdown",
   "id": "0e9ae41b",
   "metadata": {},
   "source": [
    "### 1. Write a python program to check that a string contains only a certain set of characters (in this case a-z, A-Z, and 0-9).\n"
   ]
  },
  {
   "cell_type": "code",
   "execution_count": 14,
   "id": "aa1a4bad",
   "metadata": {},
   "outputs": [
    {
     "name": "stdout",
     "output_type": "stream",
     "text": [
      "Enter any Text: HellCat69\n",
      "Valid String\n"
     ]
    }
   ],
   "source": [
    "import re\n",
    "str1 = input(\"Enter any Text: \")\n",
    "pattern = re.compile('^[a-zA-z0-9]+$')   \n",
    "    \n",
    "if re.search(pattern, str1):\n",
    "    print(\"Valid String\")\n",
    "else:\n",
    "    print(\"Invalid String\") "
   ]
  },
  {
   "cell_type": "markdown",
   "id": "17990aad",
   "metadata": {},
   "source": [
    "### 2. Create a program to split a string by only the first occurrence of any substring"
   ]
  },
  {
   "cell_type": "code",
   "execution_count": 1,
   "id": "66ddd1d2",
   "metadata": {},
   "outputs": [
    {
     "name": "stdout",
     "output_type": "stream",
     "text": [
      "['Data Science ', ' Data Science python']\n"
     ]
    },
    {
     "data": {
      "text/plain": [
       "'Data Science  Data Science python'"
      ]
     },
     "execution_count": 1,
     "metadata": {},
     "output_type": "execute_result"
    }
   ],
   "source": [
    "import re\n",
    "str1 = \"Data Science python Data Science python\"\n",
    "\n",
    "result = re.split(r\"\\bpython\", str1, maxsplit=1)\n",
    "print(result)\n",
    "\"\".join(result)"
   ]
  },
  {
   "cell_type": "markdown",
   "id": "d50ff9c9",
   "metadata": {},
   "source": [
    "### 3. Code that would match a string that has an a followed by zero or more b's.\n"
   ]
  },
  {
   "cell_type": "code",
   "execution_count": null,
   "id": "bb2b0a6a",
   "metadata": {},
   "outputs": [],
   "source": []
  },
  {
   "cell_type": "markdown",
   "id": "972faffe",
   "metadata": {},
   "source": [
    "### 4. Wap to find Three-digit numbers followed by space followed by two-digit numbers in a string."
   ]
  },
  {
   "cell_type": "code",
   "execution_count": null,
   "id": "45537ec6",
   "metadata": {},
   "outputs": [],
   "source": []
  },
  {
   "cell_type": "markdown",
   "id": "25ec1b68",
   "metadata": {},
   "source": [
    "### 5. Write a Python program that matches a string that has an a followed by one or more b's."
   ]
  },
  {
   "cell_type": "code",
   "execution_count": null,
   "id": "93fa2d38",
   "metadata": {},
   "outputs": [],
   "source": []
  },
  {
   "cell_type": "markdown",
   "id": "7b253c6e",
   "metadata": {},
   "source": [
    "### 6. Write a program to search inform in a string both in uppercase & in lowercase. (INFORM or inform)\n"
   ]
  },
  {
   "cell_type": "code",
   "execution_count": null,
   "id": "1c1d338e",
   "metadata": {},
   "outputs": [],
   "source": []
  },
  {
   "cell_type": "markdown",
   "id": "263d7f52",
   "metadata": {},
   "source": [
    "### 7. WAP that matches a string that has an a followed by zero or one 'b'."
   ]
  },
  {
   "cell_type": "code",
   "execution_count": null,
   "id": "7430cceb",
   "metadata": {},
   "outputs": [],
   "source": []
  },
  {
   "cell_type": "markdown",
   "id": "6a6109b1",
   "metadata": {},
   "source": [
    "### 8. WAP that matches a string that has an a followed by three 'b'. "
   ]
  },
  {
   "cell_type": "code",
   "execution_count": null,
   "id": "9b38161f",
   "metadata": {},
   "outputs": [],
   "source": []
  },
  {
   "cell_type": "markdown",
   "id": "24028eff",
   "metadata": {},
   "source": [
    "### 9. Write a Python program that matches a string that has an a followed by two to three 'b'.\n"
   ]
  },
  {
   "cell_type": "code",
   "execution_count": null,
   "id": "f5f40de4",
   "metadata": {},
   "outputs": [],
   "source": []
  },
  {
   "cell_type": "markdown",
   "id": "ad487bf5",
   "metadata": {},
   "source": [
    "### 10. Find all the words starting in range of k-n using a for loop & re."
   ]
  },
  {
   "cell_type": "code",
   "execution_count": null,
   "id": "9d1f3c2f",
   "metadata": {},
   "outputs": [],
   "source": []
  },
  {
   "cell_type": "markdown",
   "id": "9b6ad7c8",
   "metadata": {},
   "source": [
    "### 11. Write a Python program to find sequences of lowercase letters joined with an underscore."
   ]
  },
  {
   "cell_type": "code",
   "execution_count": null,
   "id": "10fb136d",
   "metadata": {},
   "outputs": [],
   "source": []
  },
  {
   "cell_type": "markdown",
   "id": "9c17008a",
   "metadata": {},
   "source": [
    "### 12.Write a program to find the sequences of one upper case letter followed by lower case letters.\n"
   ]
  },
  {
   "cell_type": "code",
   "execution_count": null,
   "id": "03744b4e",
   "metadata": {},
   "outputs": [],
   "source": []
  },
  {
   "cell_type": "markdown",
   "id": "99927ed2",
   "metadata": {},
   "source": [
    "### 13.Write a program that matches a string that has an 'a' followed by anything, ending in 'b'."
   ]
  },
  {
   "cell_type": "code",
   "execution_count": null,
   "id": "1a6b6a62",
   "metadata": {},
   "outputs": [],
   "source": []
  },
  {
   "cell_type": "markdown",
   "id": "9c4a4c38",
   "metadata": {},
   "source": [
    "### 14.WAP that matches a word at the beginning of a string"
   ]
  },
  {
   "cell_type": "code",
   "execution_count": null,
   "id": "c69d384e",
   "metadata": {},
   "outputs": [],
   "source": []
  },
  {
   "cell_type": "markdown",
   "id": "4b64dd2c",
   "metadata": {},
   "source": [
    "### 15.Write a program that matches a word at the end of a string, with optional punctuation."
   ]
  },
  {
   "cell_type": "code",
   "execution_count": null,
   "id": "10dccef2",
   "metadata": {},
   "outputs": [],
   "source": []
  },
  {
   "cell_type": "markdown",
   "id": "5374b983",
   "metadata": {},
   "source": [
    "### 16.Write a Python program that matches a word containing 'z'."
   ]
  },
  {
   "cell_type": "code",
   "execution_count": null,
   "id": "ec3e2038",
   "metadata": {},
   "outputs": [],
   "source": []
  },
  {
   "cell_type": "markdown",
   "id": "59b4352c",
   "metadata": {},
   "source": [
    "### 17.Write a program that matches a word containing 'z', not at the start or end of the word.\n"
   ]
  },
  {
   "cell_type": "code",
   "execution_count": null,
   "id": "342241fe",
   "metadata": {},
   "outputs": [],
   "source": []
  },
  {
   "cell_type": "markdown",
   "id": "310008fa",
   "metadata": {},
   "source": [
    "### 18.Write a program to match a string that contains only upper and lowercase letters, numbers, and underscores."
   ]
  },
  {
   "cell_type": "code",
   "execution_count": null,
   "id": "61873081",
   "metadata": {},
   "outputs": [],
   "source": []
  },
  {
   "cell_type": "markdown",
   "id": "a8933b61",
   "metadata": {},
   "source": [
    "### 19.WAP where a string will start with a specific number"
   ]
  },
  {
   "cell_type": "code",
   "execution_count": null,
   "id": "0a6f8368",
   "metadata": {},
   "outputs": [],
   "source": []
  },
  {
   "cell_type": "markdown",
   "id": "d060e459",
   "metadata": {},
   "source": [
    "### 20.Write a Python program to remove leading zeros from an IP address"
   ]
  },
  {
   "cell_type": "code",
   "execution_count": null,
   "id": "fdaa3d84",
   "metadata": {},
   "outputs": [],
   "source": []
  },
  {
   "cell_type": "markdown",
   "id": "8486fd85",
   "metadata": {},
   "source": [
    "### 21.Write a program to check for a number at the end of a string."
   ]
  },
  {
   "cell_type": "markdown",
   "id": "fd2719be",
   "metadata": {},
   "source": []
  },
  {
   "cell_type": "markdown",
   "id": "bddf2230",
   "metadata": {},
   "source": [
    "### 22.Code a program to search the numbers (0-9) of length between 1 to 3 in a given string. . \"Exercises number 1, 12, 13, and 345 are important\"\n"
   ]
  },
  {
   "cell_type": "code",
   "execution_count": null,
   "id": "7919bc03",
   "metadata": {},
   "outputs": [],
   "source": []
  },
  {
   "cell_type": "markdown",
   "id": "e6fa1369",
   "metadata": {},
   "source": [
    "### 23.Write a program to search some literals strings in a string. .\n"
   ]
  },
  {
   "cell_type": "raw",
   "id": "8954ac0f",
   "metadata": {},
   "source": [
    "Sample text : 'The quick brown fox jumps over the lazy dog.'\n",
    "Searched words : 'fox', 'dog', 'horse'"
   ]
  },
  {
   "cell_type": "code",
   "execution_count": null,
   "id": "efda2e8c",
   "metadata": {},
   "outputs": [],
   "source": []
  },
  {
   "cell_type": "markdown",
   "id": "496950f3",
   "metadata": {},
   "source": [
    "### 24.Write a Python program to search a literals string in a string and also find the\n",
    "\n"
   ]
  },
  {
   "cell_type": "raw",
   "id": "d4e8f6ff",
   "metadata": {},
   "source": [
    "location within the original string where the pattern occurs. .\n",
    "Sample text : 'The quick brown fox jumps over the lazy dog.'\n",
    "Searched words : 'fox'"
   ]
  },
  {
   "cell_type": "code",
   "execution_count": null,
   "id": "2660d6fc",
   "metadata": {},
   "outputs": [],
   "source": []
  },
  {
   "cell_type": "markdown",
   "id": "0dcbbcb7",
   "metadata": {},
   "source": [
    "### 25.Write a code to find a common substrings within a string.\n"
   ]
  },
  {
   "cell_type": "raw",
   "id": "13e450ff",
   "metadata": {},
   "source": [
    "Sample text : 'Python exercises, PHP exercises, C# exercises'\n",
    "Pattern : 'exercises'\n",
    "Note: There are two instances of exercises in the input string.\n"
   ]
  },
  {
   "cell_type": "code",
   "execution_count": null,
   "id": "59e93328",
   "metadata": {},
   "outputs": [],
   "source": []
  },
  {
   "cell_type": "markdown",
   "id": "9b9fe845",
   "metadata": {},
   "source": [
    "### 26.Write a program to find the occurrence and position of the substrings within a string."
   ]
  },
  {
   "cell_type": "code",
   "execution_count": null,
   "id": "918465cc",
   "metadata": {},
   "outputs": [],
   "source": []
  },
  {
   "cell_type": "markdown",
   "id": "1fbb86a0",
   "metadata": {},
   "source": [
    "### 27.Write a code to replace whitespaces with an underscore and vice versa."
   ]
  },
  {
   "cell_type": "code",
   "execution_count": null,
   "id": "6df5f3e6",
   "metadata": {},
   "outputs": [],
   "source": []
  },
  {
   "cell_type": "markdown",
   "id": "cae878b5",
   "metadata": {},
   "source": [
    "### 28.How would you remove all whitespaces from a string?"
   ]
  },
  {
   "cell_type": "code",
   "execution_count": null,
   "id": "d8f36dbf",
   "metadata": {},
   "outputs": [],
   "source": []
  },
  {
   "cell_type": "markdown",
   "id": "c0a83f87",
   "metadata": {},
   "source": [
    "### 29.Write a Python program to match if two words from a list of words starting with the letter 'P'"
   ]
  },
  {
   "cell_type": "code",
   "execution_count": null,
   "id": "b8f610f6",
   "metadata": {},
   "outputs": [],
   "source": []
  },
  {
   "cell_type": "markdown",
   "id": "c7fb0ca6",
   "metadata": {},
   "source": [
    "### 30.Write a code to find all words starting with 'a' or 'e' in a given string. .\n"
   ]
  },
  {
   "cell_type": "code",
   "execution_count": null,
   "id": "0364ce6e",
   "metadata": {},
   "outputs": [],
   "source": []
  },
  {
   "cell_type": "markdown",
   "id": "80951394",
   "metadata": {},
   "source": [
    "### 31.Write a Python program to separate and print the numbers and their position of a given string."
   ]
  },
  {
   "cell_type": "code",
   "execution_count": null,
   "id": "06c06f80",
   "metadata": {},
   "outputs": [],
   "source": []
  },
  {
   "cell_type": "markdown",
   "id": "fab61a4a",
   "metadata": {},
   "source": [
    "### 32.Write a Python program to replace all occurrences of space, comma, or dot with a colon."
   ]
  },
  {
   "cell_type": "code",
   "execution_count": null,
   "id": "34799d58",
   "metadata": {},
   "outputs": [],
   "source": []
  },
  {
   "cell_type": "markdown",
   "id": "f045dd2b",
   "metadata": {},
   "source": [
    "### 33.Write a program to replace maximum 2 occurrences of space, comma, or dot with a colon."
   ]
  },
  {
   "cell_type": "code",
   "execution_count": null,
   "id": "6b3a3f5d",
   "metadata": {},
   "outputs": [],
   "source": []
  },
  {
   "cell_type": "markdown",
   "id": "62adf661",
   "metadata": {},
   "source": [
    "### 34.Write a Python program to find all three, four, five characters long words in a string"
   ]
  },
  {
   "cell_type": "code",
   "execution_count": null,
   "id": "a6a96068",
   "metadata": {},
   "outputs": [],
   "source": []
  },
  {
   "cell_type": "markdown",
   "id": "23239191",
   "metadata": {},
   "source": [
    "### 35.Write a program to extract values between quotation marks of a string"
   ]
  },
  {
   "cell_type": "code",
   "execution_count": null,
   "id": "fa7ac557",
   "metadata": {},
   "outputs": [],
   "source": []
  },
  {
   "cell_type": "markdown",
   "id": "78301157",
   "metadata": {},
   "source": [
    "### 36.How would you remove multiple spaces in a string"
   ]
  },
  {
   "cell_type": "code",
   "execution_count": null,
   "id": "c4740c50",
   "metadata": {},
   "outputs": [],
   "source": []
  }
 ],
 "metadata": {
  "kernelspec": {
   "display_name": "Python 3 (ipykernel)",
   "language": "python",
   "name": "python3"
  },
  "language_info": {
   "codemirror_mode": {
    "name": "ipython",
    "version": 3
   },
   "file_extension": ".py",
   "mimetype": "text/x-python",
   "name": "python",
   "nbconvert_exporter": "python",
   "pygments_lexer": "ipython3",
   "version": "3.11.0"
  }
 },
 "nbformat": 4,
 "nbformat_minor": 5
}
