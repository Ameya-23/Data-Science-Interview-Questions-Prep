{
 "cells": [
  {
   "cell_type": "markdown",
   "id": "f9ce2e82",
   "metadata": {},
   "source": [
    "# 1.Python Program for Find largest prime factor of a number"
   ]
  },
  {
   "cell_type": "code",
   "execution_count": 1,
   "id": "332ab411",
   "metadata": {},
   "outputs": [
    {
     "name": "stdout",
     "output_type": "stream",
     "text": [
      "Largest prime factor of number 70 is: 7\n"
     ]
    }
   ],
   "source": [
    "n = 70\n",
    "def l_prime(n):\n",
    "    i = 2\n",
    "    while i<n:\n",
    "        if n%i == 0:\n",
    "            n = n // i\n",
    "        else:\n",
    "            i = i+1\n",
    "    return n\n",
    "print(f\"Largest prime factor of number {n} is: {l_prime(n)}\")"
   ]
  },
  {
   "cell_type": "markdown",
   "id": "faf1ab0c",
   "metadata": {},
   "source": [
    "# 2.Python Program for Product of unique prime factors of a number\n"
   ]
  },
  {
   "cell_type": "code",
   "execution_count": 2,
   "id": "d30d083e",
   "metadata": {},
   "outputs": [
    {
     "name": "stdout",
     "output_type": "stream",
     "text": [
      "Fibonacci series is 0 1 1 2 "
     ]
    }
   ],
   "source": [
    "def get_fibo(n):\n",
    "    first,second = 0,1\n",
    "    print(\"Fibonacci series is\",first,second,end = \" \")\n",
    "    for i in range(n-2):\n",
    "        first,second = second,first+second\n",
    "        print(second,end=\" \")\n",
    "get_fibo(4)"
   ]
  },
  {
   "cell_type": "markdown",
   "id": "760cdcb3",
   "metadata": {},
   "source": [
    "# 3. Python Program to find Factorial of Number"
   ]
  },
  {
   "cell_type": "code",
   "execution_count": 3,
   "id": "5bef716f",
   "metadata": {},
   "outputs": [
    {
     "name": "stdout",
     "output_type": "stream",
     "text": [
      "Factorial of 5 is 120\n"
     ]
    }
   ],
   "source": [
    "n = 5\n",
    "def get_fact(n):\n",
    "    fact = 1 \n",
    "    for i in range(1,n+1):\n",
    "        fact *=i\n",
    "    return fact\n",
    "print(f\"Factorial of {n} is {get_fact(n)}\")"
   ]
  },
  {
   "cell_type": "markdown",
   "id": "8d2ae0a9",
   "metadata": {},
   "source": [
    "# 4. Python Program for Find sum of odd factors of a number\n"
   ]
  },
  {
   "cell_type": "code",
   "execution_count": 66,
   "id": "3137aa85",
   "metadata": {},
   "outputs": [
    {
     "name": "stdout",
     "output_type": "stream",
     "text": [
      "Enter any Number:6\n",
      "Sum of odd factors of number 6 is 9\n"
     ]
    }
   ],
   "source": [
    "def get_sum_odd(n):\n",
    "    new_odd = [i for i in range(0,n+1) if i%2 !=0]\n",
    "    n1 = sum(new_odd)\n",
    "    return n1\n",
    "\n",
    "n=int(input(\"Enter any Number:\"))\n",
    "get_sum_odd(n)\n",
    "print(f\"Sum of odd factors of number {n} is {get_sum_odd(n)}\")"
   ]
  },
  {
   "cell_type": "markdown",
   "id": "3d3dc459",
   "metadata": {},
   "source": [
    "# 5. Python Program to Check if binary representation is a palindrome"
   ]
  },
  {
   "cell_type": "code",
   "execution_count": 48,
   "id": "fcac9471",
   "metadata": {},
   "outputs": [
    {
     "name": "stdout",
     "output_type": "stream",
     "text": [
      "Enter any number : 5\n",
      "Binary of entered number is: 101\n",
      "Binary representation of 101 is palindrome\n"
     ]
    }
   ],
   "source": [
    "def get_palindrome(a):                                   \n",
    "    a = bin(eval(input(\"Enter any number : \")))\n",
    "    binary = str(a[2:])\n",
    "    print(\"Binary of entered number is:\",binary)\n",
    "    if binary == binary[::-1]:\n",
    "        print(f\"Binary representation of {binary} is palindrome\")\n",
    "    else:\n",
    "        print(f\"Binary representation of {binary} is not palindrome\")\n",
    "\n",
    "result = get_palindrome(a)"
   ]
  },
  {
   "cell_type": "markdown",
   "id": "dac6fe99",
   "metadata": {},
   "source": [
    "# 6.Python Program for Number of elements with odd factors in a given range"
   ]
  },
  {
   "cell_type": "code",
   "execution_count": 2,
   "id": "a4d4dce6",
   "metadata": {},
   "outputs": [
    {
     "name": "stdout",
     "output_type": "stream",
     "text": [
      "Number of elements with odd factors in a given range are: [1, 5]\n"
     ]
    }
   ],
   "source": [
    "def get_odd_fact(x):\n",
    "    lst1=[]\n",
    "    for i in range(1,n+1):\n",
    "        if x%i ==0:\n",
    "            if i%2 !=0:\n",
    "                lst1.append(i)\n",
    "        else:\n",
    "            pass\n",
    "    print(\"Number of elements with odd factors in a given range are:\",lst1)\n",
    "\n",
    "get_odd_fact(5)"
   ]
  },
  {
   "cell_type": "markdown",
   "id": "cae40fa2",
   "metadata": {},
   "source": [
    "# 7.Python Program for Common Divisors of Two Numbers"
   ]
  },
  {
   "cell_type": "code",
   "execution_count": 36,
   "id": "8535c253",
   "metadata": {},
   "outputs": [
    {
     "name": "stdout",
     "output_type": "stream",
     "text": [
      "Enter any Number: 12\n",
      "Enter any Number: 4\n",
      "The common divisor of two numbers is 4\n"
     ]
    }
   ],
   "source": [
    "def get_Common_Divisor(x,y):\n",
    "    if x>y:\n",
    "        min_val= y\n",
    "    else:\n",
    "        min_val= x\n",
    "\n",
    "    for i in range(1,min_val+1):\n",
    "        if (x%i == 0) & (y%i == 0):\n",
    "            Highest_Cfact=i\n",
    "    print(\"The common divisor of two numbers is\",Highest_Cfact) \n",
    "    \n",
    "x= int(input(\"Enter any Number: \"))\n",
    "y= int(input(\"Enter any Number: \"))    \n",
    "get_Common_Divisor(x,y)"
   ]
  },
  {
   "cell_type": "markdown",
   "id": "ff367be1",
   "metadata": {},
   "source": [
    "# 8.Python Program to Check if a count of divisors is even or odd"
   ]
  },
  {
   "cell_type": "code",
   "execution_count": 11,
   "id": "23622406",
   "metadata": {},
   "outputs": [
    {
     "name": "stdout",
     "output_type": "stream",
     "text": [
      "Enter any Number: 24\n",
      "1,2,3,4,6,8,12,24,\n",
      "Total count of divisor is 8\n",
      "Count of divisors is even\n"
     ]
    }
   ],
   "source": [
    "def get_divisor_even_odd(a):\n",
    "    \n",
    "    cnt= 0\n",
    "    for i in range(1,n+1):\n",
    "        if n%i ==0:\n",
    "            cnt +=1\n",
    "            print(i,end=\",\")\n",
    "    print()\n",
    "    print(f\"Total count of divisor is {cnt}\")\n",
    "\n",
    "    if cnt%2 == 0:\n",
    "        print(\"Count of divisors is even\")\n",
    "    else:\n",
    "        print(\"Count of divisors is odd\")\n",
    "\n",
    "        \n",
    "n = int(input(\"Enter any Number: \"))\n",
    "get_divisor_even_odd(n)"
   ]
  },
  {
   "cell_type": "markdown",
   "id": "d73caeb3",
   "metadata": {},
   "source": [
    "# 9.Python Program to Find the minimum sum of factors of a number\n"
   ]
  },
  {
   "cell_type": "code",
   "execution_count": 14,
   "id": "9f23d924",
   "metadata": {},
   "outputs": [
    {
     "name": "stdout",
     "output_type": "stream",
     "text": [
      "11.0\n"
     ]
    }
   ],
   "source": [
    "def get_minsum(num):\n",
    "    sum1 = 0\n",
    "    i = 2\n",
    "    while(i * i <= num):\n",
    "        while(num % i == 0):\n",
    "            sum1 += i\n",
    "            num /= i\n",
    "        i += 1\n",
    "    sum1 += num\n",
    "    return sum1\n",
    "num = 25\n",
    "print (get_minsum(num))"
   ]
  },
  {
   "cell_type": "markdown",
   "id": "f798b816",
   "metadata": {},
   "source": [
    "# 10.Python Program to find Difference between sums of odd and even digits\n"
   ]
  },
  {
   "cell_type": "code",
   "execution_count": 15,
   "id": "5d4be20a",
   "metadata": {},
   "outputs": [
    {
     "name": "stdout",
     "output_type": "stream",
     "text": [
      "Enter any Number:18\n",
      "The Difference between sums of odd digits= 81 and sum of even digits= 72 is 9\n"
     ]
    }
   ],
   "source": [
    "def get_diff(digits):\n",
    "\n",
    "    n = int(input(\"Enter any Number:\"))\n",
    "    odd_num = [i for i in range(1,n) if i%2 != 0]\n",
    "    even_num = [i for i in range(1,n) if i%2 == 0]\n",
    "    print(f\"The Difference between sums of odd digits= {sum(odd_num)} and sum of even digits= {sum(even_num)} is {(sum(odd_num)) - (sum(even_num))}\")        \n",
    "\n",
    "get_diff(n)"
   ]
  },
  {
   "cell_type": "markdown",
   "id": "6fb5088e",
   "metadata": {},
   "source": [
    "# 11.Python Program for Largest and Smallest K digit number divisible by X"
   ]
  },
  {
   "cell_type": "code",
   "execution_count": 16,
   "id": "a176b79e",
   "metadata": {},
   "outputs": [
    {
     "name": "stdout",
     "output_type": "stream",
     "text": [
      "Enter any number28\n",
      "Enter any number7\n"
     ]
    },
    {
     "data": {
      "text/plain": [
       "1000020"
      ]
     },
     "execution_count": 16,
     "metadata": {},
     "output_type": "execute_result"
    }
   ],
   "source": [
    "#Smallest K digit number divisible by X\n",
    "def get_smallest_dig(a, d):\n",
    "    \n",
    "    min_d = pow(10, d-1)\n",
    "    if(min_d%a == 0):return (min_d)\n",
    "    else:return ((min_d + a) - ((min_d + a) % a))\n",
    "    \n",
    "a =int(input(\"Enter any number\"))\n",
    "d =int(input(\"Enter any number\")) \n",
    "  \n",
    "get_smallest_dig(a, d)"
   ]
  },
  {
   "cell_type": "code",
   "execution_count": 17,
   "id": "fb6cbfab",
   "metadata": {},
   "outputs": [
    {
     "name": "stdout",
     "output_type": "stream",
     "text": [
      "Enter any number12\n",
      "Enter any number4\n"
     ]
    },
    {
     "data": {
      "text/plain": [
       "9996"
      ]
     },
     "execution_count": 17,
     "metadata": {},
     "output_type": "execute_result"
    }
   ],
   "source": [
    "#Largest K digit number divisible by X\n",
    "def get_largest_dig(a, d):\n",
    "    max_d = pow(10, d) - 1\n",
    "    return (max_d - (max_d % a))\n",
    "\n",
    "a =int(input(\"Enter any number\"))\n",
    "d =int(input(\"Enter any number\"))\n",
    "\n",
    "get_largest_dig(a, d)"
   ]
  },
  {
   "cell_type": "markdown",
   "id": "940fcfb0",
   "metadata": {},
   "source": [
    "# 12.Python Program to calculate the area of a Tetrahedron\n"
   ]
  },
  {
   "cell_type": "code",
   "execution_count": 18,
   "id": "853b4192",
   "metadata": {},
   "outputs": [
    {
     "name": "stdout",
     "output_type": "stream",
     "text": [
      "Area of Tetrahedron is: 6.928203230275509\n"
     ]
    }
   ],
   "source": [
    "# Area = sqrt(3)*(side*side)\n",
    "# num_sqrt = num ** 0.5\n",
    "\n",
    "def get_tetrahedron(side,num):\n",
    "    \n",
    "    num_sqrt = num ** 0.5\n",
    "    Area_Tetrahedron = num_sqrt*(side*side)\n",
    "    return Area_Tetrahedron\n",
    "\n",
    "\n",
    "a = get_tetrahedron(2,3)\n",
    "print (f\"Area of Tetrahedron is: {a}\")    "
   ]
  },
  {
   "cell_type": "markdown",
   "id": "f7a2282b",
   "metadata": {},
   "source": [
    "# 13.Python Program to Find the perimeter of a cylinder\n",
    "\n"
   ]
  },
  {
   "cell_type": "code",
   "execution_count": 19,
   "id": "b7176e17",
   "metadata": {},
   "outputs": [
    {
     "name": "stdout",
     "output_type": "stream",
     "text": [
      "Perimeter of cylinder is: 24\n"
     ]
    }
   ],
   "source": [
    "# Perimeter of cylinder ( P ) = 2 * ( diameter + height )\n",
    "def get_perimeter_circle(d,h):\n",
    "    \n",
    "    Perimeter_cylinder = 2 * (d + h)\n",
    "    return Perimeter_cylinder\n",
    "\n",
    "a = get_perimeter_circle(4,8)\n",
    "print (f\"Perimeter of cylinder is: {a}\")   "
   ]
  },
  {
   "cell_type": "markdown",
   "id": "9aa29b0d",
   "metadata": {},
   "source": [
    "# 14.Python Program to Find the vertex, focus, and directrix of a parabola\n"
   ]
  },
  {
   "cell_type": "code",
   "execution_count": 20,
   "id": "3dd490f8",
   "metadata": {},
   "outputs": [
    {
     "name": "stdout",
     "output_type": "stream",
     "text": [
      "Vertex: (-0.5625, 6.46875)\n",
      "Focus: (-0.5625, 6.5)\n",
      "Directrix: y=-2615\n"
     ]
    }
   ],
   "source": [
    "def get_parabola(a, b, c):\n",
    "\n",
    "    print(\"Vertex: (\",(-b / (2 * a)),\", \", (((4 * a * c) - (b * b))/ (4 * a)), \")\", sep = \"\")\n",
    "\n",
    "    print(\"Focus: (\",(-b / (2 * a)),\", \", (((4 * a * c) - (b * b) + 1)/ (4 * a)), \")\", sep = \"\")\n",
    "\n",
    "    print(\"Directrix: y=\", c - ((b * b)+ 1) * (4 * a), sep = \"\")\n",
    "\n",
    "get_parabola(8,9,9)"
   ]
  },
  {
   "cell_type": "markdown",
   "id": "dc9f337f",
   "metadata": {},
   "source": [
    "# 15.Python program to find the most occurring character and its count\n"
   ]
  },
  {
   "cell_type": "code",
   "execution_count": 21,
   "id": "06439dbf",
   "metadata": {},
   "outputs": [
    {
     "name": "stdout",
     "output_type": "stream",
     "text": [
      "{'A': 1, 'l': 1, 'b': 1, 'a': 3, 't': 1, 'r': 1, 'o': 1, 's': 3}\n",
      "The most occurring character and its count:  [('a', 3), ('s', 3)]\n"
     ]
    }
   ],
   "source": [
    "str1 = \"Albaaatrosss\"                                \n",
    "\n",
    "lst = list(str1)\n",
    "occ_dict = {}\n",
    "for i in lst:\n",
    "    occ_dict[i] = lst.count(i)\n",
    "print(occ_dict)\n",
    "val1=max(occ_dict.values())\n",
    "\n",
    "result =[(i,val1) for i in occ_dict if val1 == occ_dict[i]]\n",
    "\n",
    "print(\"The most occurring character and its count: \",(result))"
   ]
  },
  {
   "cell_type": "markdown",
   "id": "f57b4339",
   "metadata": {},
   "source": [
    "# 16.Python Program to Find the sum of even factors of a number"
   ]
  },
  {
   "cell_type": "code",
   "execution_count": 23,
   "id": "37debf6b",
   "metadata": {},
   "outputs": [
    {
     "name": "stdout",
     "output_type": "stream",
     "text": [
      "Enter any Number: 20\n",
      "The sum of even factors of a number is: 36\n"
     ]
    }
   ],
   "source": [
    "def get_sumofeven(num):\n",
    "\n",
    "    n=int(input(\"Enter any Number: \"))\n",
    "    Sum_evenfact_num=[i for i in range(1,n+1) if n%i==0 and i%2==0]\n",
    "    print(f\"The sum of even factors of a number is: {sum(Sum_evenfact_num)}\")\n",
    "    \n",
    "get_sumofeven(n)"
   ]
  },
  {
   "cell_type": "markdown",
   "id": "2dc588d4",
   "metadata": {},
   "source": [
    "# 17.Python Program to Check if all digits of a number divide it"
   ]
  },
  {
   "cell_type": "code",
   "execution_count": 24,
   "id": "76a1ce68",
   "metadata": {},
   "outputs": [
    {
     "name": "stdout",
     "output_type": "stream",
     "text": [
      "Enter any Number:22\n",
      "2\n",
      "2\n",
      "Yes\n"
     ]
    }
   ],
   "source": [
    "n=int(input(\"Enter any Number:\"))\n",
    "# num=1\n",
    "for i in str(n):\n",
    "    print(i)\n",
    "    if int(i)!=0 and n%int(i)==0:\n",
    "        num=1\n",
    "    else:\n",
    "        num=0\n",
    "if(num==1):print(\"Yes\")\n",
    "else:print(\"No\")"
   ]
  },
  {
   "cell_type": "markdown",
   "id": "c955d9af",
   "metadata": {},
   "source": [
    "# 18.Python program to convert float decimal to Octal number"
   ]
  },
  {
   "cell_type": "code",
   "execution_count": 25,
   "id": "f843a1f4",
   "metadata": {},
   "outputs": [
    {
     "name": "stdout",
     "output_type": "stream",
     "text": [
      "Enter any Number:24\n",
      "converted float decimal to Octal number: 0o30\n"
     ]
    }
   ],
   "source": [
    "def get_de_oc(n):\n",
    "    n=int(input(\"Enter any Number:\"))\n",
    "    print(f\"converted float decimal to Octal number: {oct(n)}\")\n",
    "\n",
    "get_de_oc(n)"
   ]
  },
  {
   "cell_type": "code",
   "execution_count": 30,
   "id": "9b2407e9",
   "metadata": {},
   "outputs": [
    {
     "name": "stdout",
     "output_type": "stream",
     "text": [
      "Enter any Number:23.24\n",
      "Converted float decimal to Octal Number is: 30\n"
     ]
    }
   ],
   "source": [
    "num=input(\"Enter any Number:\").split(\".\")  #Working on it #23.24\n",
    "num1=int(num[1]) #24\n",
    "\n",
    "i=1\n",
    "sum1=0\n",
    "while num1!=0:\n",
    "    rem=int(num1%8)\n",
    "    sum1+=i*rem\n",
    "    i=i*10\n",
    "    num1=num1/8\n",
    "print(f\"Converted float decimal to Octal Number is: {sum1}\")"
   ]
  },
  {
   "cell_type": "markdown",
   "id": "ab481d22",
   "metadata": {},
   "source": [
    "# 19.Python program to copy odd lines of one file to other\n"
   ]
  },
  {
   "cell_type": "code",
   "execution_count": 69,
   "id": "9b8e0b91",
   "metadata": {},
   "outputs": [
    {
     "name": "stdout",
     "output_type": "stream",
     "text": [
      "\n",
      "Open your eyes discover the mythical creature.\n",
      "And it's only a dream away.\n",
      "You'll forget about today.\n",
      "You'll forget every care.\n",
      "Ask me how do you get to tomorrowland.\n",
      "\n",
      "\n"
     ]
    }
   ],
   "source": [
    "with open(\"main.txt\") as f:\n",
    "    fn=f.read()\n",
    "with open(\"main.txt\") as f2:\n",
    "    rd=f2.readlines()\n",
    "\n",
    "for i,val in enumerate(rd):\n",
    "    if i%2 !=0:\n",
    "        with open(\"new_file.txt\",\"a\") as f1:\n",
    "            f1.write(val)\n",
    "\n",
    "with open(\"new_file.txt\") as f3:\n",
    "    a=f3.read()\n",
    "    print(a)"
   ]
  },
  {
   "cell_type": "markdown",
   "id": "1e60b639",
   "metadata": {},
   "source": [
    "# 20.Write a Python program to replace whitespaces with an underscore and vice versa"
   ]
  },
  {
   "cell_type": "code",
   "execution_count": 41,
   "id": "47359d36",
   "metadata": {},
   "outputs": [
    {
     "name": "stdout",
     "output_type": "stream",
     "text": [
      "String with whitespaces and underscore and vice versa:\n",
      " Machine_learning_is_an_application_of_artificial_intelligence_(AI)_that_provides_systems_the_ability_to_\n",
      "________automatically learn and improve from experience without being explicitly programmed. Machine learning focuses_\n",
      "________on_the_development_of_computer_programs_that_can_access_data_and_use_it_to_learn_for_themselves.\n"
     ]
    }
   ],
   "source": [
    "str1 = \"\"\"Machine learning is an application of artificial intelligence (AI) that provides systems the ability to \n",
    "        automatically_learn_and_improve_from_experience_without_being_explicitly_programmed._Machine_learning_focuses \n",
    "        on the development of computer programs that can access data and use it to learn for themselves.\"\"\"\n",
    "\n",
    "new_str = \"\"\n",
    "for i in str1:\n",
    "    if i == \" \":\n",
    "        new_str += \"_\"\n",
    "    elif i == \"_\":\n",
    "        new_str += \" \"\n",
    "    else:\n",
    "        new_str += i \n",
    "        \n",
    "print(\"String with whitespaces and underscore and vice versa:\\n\", new_str) "
   ]
  },
  {
   "cell_type": "markdown",
   "id": "d4d4a6e3",
   "metadata": {},
   "source": [
    "# 21.Write a Python program to convert a date or yyyy-mm-dd format to dd-mm-yyyy\n"
   ]
  },
  {
   "cell_type": "code",
   "execution_count": 42,
   "id": "ac43374a",
   "metadata": {},
   "outputs": [],
   "source": [
    "import datetime"
   ]
  },
  {
   "cell_type": "code",
   "execution_count": 43,
   "id": "805f8dcc",
   "metadata": {},
   "outputs": [
    {
     "name": "stdout",
     "output_type": "stream",
     "text": [
      "current_date:  2023-04-11\n",
      "converted_date:  11-04-2023\n"
     ]
    }
   ],
   "source": [
    "current_date = datetime.datetime.now().date()\n",
    "print(\"current_date: \",current_date)\n",
    "\n",
    "print(\"converted_date: \",current_date.strftime(\"%d-%m-%Y\"))"
   ]
  },
  {
   "cell_type": "markdown",
   "id": "2eea6ef6",
   "metadata": {},
   "source": [
    "# 22.Write a Python program to find all words starting with 'a' or 'e' in a given string.\n"
   ]
  },
  {
   "cell_type": "code",
   "execution_count": 44,
   "id": "100f1eeb",
   "metadata": {},
   "outputs": [
    {
     "data": {
      "text/plain": [
       "'ameya appu eng'"
      ]
     },
     "execution_count": 44,
     "metadata": {},
     "output_type": "execute_result"
    }
   ],
   "source": [
    "str1 = \"Ameya raj appu eng\".lower()\n",
    "\n",
    "new_str = str1.split(\" \")\n",
    "lst=[]\n",
    "for i in new_str:\n",
    "    if i.startswith(\"a\") or i.startswith(\"e\"):\n",
    "        lst.append(i)\n",
    "\" \".join(lst)"
   ]
  },
  {
   "cell_type": "markdown",
   "id": "5e55f306",
   "metadata": {},
   "source": [
    "# 23.Write a Python program to abbreviate 'Road' as 'Rd.' in a given string"
   ]
  },
  {
   "cell_type": "code",
   "execution_count": 45,
   "id": "475cd1a8",
   "metadata": {},
   "outputs": [
    {
     "data": {
      "text/plain": [
       "'The Romantic Rd is a popular tourist route in southern Germany that takes you through some of the \\n              most picturesque landscapes and charming old towns in Bavaria'"
      ]
     },
     "execution_count": 45,
     "metadata": {},
     "output_type": "execute_result"
    }
   ],
   "source": [
    "text = \"\"\"The Romantic Road is a popular tourist route in southern Germany that takes you through some of the \n",
    "              most picturesque landscapes and charming old towns in Bavaria\"\"\"\n",
    "def get_abbr(a):\n",
    "    \n",
    "    r1 = text.replace(\"Road\",\"Rd\")\n",
    "    return r1\n",
    "\n",
    "get_abbr(text)"
   ]
  },
  {
   "cell_type": "code",
   "execution_count": 46,
   "id": "5cdb23c6",
   "metadata": {},
   "outputs": [
    {
     "data": {
      "text/plain": [
       "'The Romantic Rd is a popular Rd tourist route in southern Germany road in Bavaria'"
      ]
     },
     "execution_count": 46,
     "metadata": {},
     "output_type": "execute_result"
    }
   ],
   "source": [
    "import re\n",
    "\n",
    "str1 = \"The Romantic Road is a popular Road tourist route in southern Germany road in Bavaria\"\n",
    "def get_abbreviate(d):\n",
    "    a1 = re.sub(\"Road\",\"Rd\",str1)\n",
    "    return a1\n",
    "get_abbreviate(str1)"
   ]
  }
 ],
 "metadata": {
  "kernelspec": {
   "display_name": "Python 3 (ipykernel)",
   "language": "python",
   "name": "python3"
  },
  "language_info": {
   "codemirror_mode": {
    "name": "ipython",
    "version": 3
   },
   "file_extension": ".py",
   "mimetype": "text/x-python",
   "name": "python",
   "nbconvert_exporter": "python",
   "pygments_lexer": "ipython3",
   "version": "3.11.0"
  }
 },
 "nbformat": 4,
 "nbformat_minor": 5
}
