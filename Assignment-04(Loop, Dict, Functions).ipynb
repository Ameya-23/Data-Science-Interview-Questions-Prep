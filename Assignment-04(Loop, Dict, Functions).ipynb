{
 "cells": [
  {
   "cell_type": "markdown",
   "id": "82233abb",
   "metadata": {},
   "source": [
    "# 1. Python program to sort Python Dictionaries by Keys"
   ]
  },
  {
   "cell_type": "code",
   "execution_count": 4,
   "id": "6cf00713",
   "metadata": {},
   "outputs": [
    {
     "data": {
      "text/plain": [
       "{'His': 80, 'Ml': 30, 'Phy': 20, 'Science': 34, 'phy': 100}"
      ]
     },
     "execution_count": 4,
     "metadata": {},
     "output_type": "execute_result"
    }
   ],
   "source": [
    "dict1 = {'Phy': 20, 'Ml': 30, 'Science': 34, 'His': 80, 'phy': 100}\n",
    "\n",
    "new_dict = {}\n",
    "sorted_key = sorted(dict1.keys())\n",
    "for key in sorted_key:\n",
    "    new_dict[key] = dict1[key]\n",
    "new_dict"
   ]
  },
  {
   "cell_type": "code",
   "execution_count": 6,
   "id": "4ce64218",
   "metadata": {},
   "outputs": [
    {
     "name": "stdout",
     "output_type": "stream",
     "text": [
      "{'His': 80, 'Ml': 30, 'Phy': 20, 'Science': 34, 'phy': 100}\n"
     ]
    }
   ],
   "source": [
    "dict1 = {'Phy': 20, 'Ml': 30, 'Science': 34, 'His': 80, 'phy': 100}\n",
    "\n",
    "mykeys = sorted(dict1.keys())\n",
    "sorted_dict = {i: dict1[i] for i in mykeys}\n",
    "\n",
    "print(sorted_dict)"
   ]
  },
  {
   "cell_type": "markdown",
   "id": "9fe3406d",
   "metadata": {},
   "source": [
    "# 2. Python program to sort Python Dictionaries by Values\n"
   ]
  },
  {
   "cell_type": "code",
   "execution_count": 13,
   "id": "1bc9873c",
   "metadata": {},
   "outputs": [
    {
     "data": {
      "text/plain": [
       "{'age': '32',\n",
       " 'Name': 'Chetan',\n",
       " 'Company_name': 'EY',\n",
       " 'Location': 'GCC',\n",
       " 'Area': 'Hydrabad',\n",
       " 'Designation': 'ML'}"
      ]
     },
     "execution_count": 13,
     "metadata": {},
     "output_type": "execute_result"
    }
   ],
   "source": [
    "dict1 = {\"Name\":\"Chetan\",\"age\":\"32\",\"Company_name\":\"EY\",\"Location\":\"GCC\",\"Designation\":\"ML\",\"Area\":\"Hydrabad\"}\n",
    "\n",
    "new_dict = {}\n",
    "sorted_value = sorted(dict1.values())\n",
    "for value in sorted_value:\n",
    "    for key in dict1:\n",
    "        if dict1[key] == value:\n",
    "            new_dict[key] = value\n",
    "new_dict\n"
   ]
  },
  {
   "cell_type": "markdown",
   "id": "f8ee126d",
   "metadata": {},
   "source": [
    "# 3. Python program to find the sum of all items in a dictionary"
   ]
  },
  {
   "cell_type": "code",
   "execution_count": 30,
   "id": "3d104f7f",
   "metadata": {},
   "outputs": [
    {
     "name": "stdout",
     "output_type": "stream",
     "text": [
      "Sum : 210\n"
     ]
    }
   ],
   "source": [
    "dict1 = {\"Name\":10,\"age\":20,\"Company_name\":30,\"Location\":40,\"Designation\":50,\"Area\":60}   #doubt\n",
    "\n",
    "def get_sum(dict1):\n",
    "    sum = 0\n",
    "    for i in dict1.values():\n",
    "        sum +=i\n",
    "    return sum\n",
    "\n",
    "print(\"Sum :\", get_sum(dict1))"
   ]
  },
  {
   "cell_type": "markdown",
   "id": "f410db5e",
   "metadata": {},
   "source": [
    "# 4. Python program to remove a key from a dictionary"
   ]
  },
  {
   "cell_type": "code",
   "execution_count": 31,
   "id": "dbe47eb0",
   "metadata": {},
   "outputs": [
    {
     "name": "stdout",
     "output_type": "stream",
     "text": [
      "{'ML': [80, 20202, 30303, 4040], 'Python': 89, 'NLP': 59}\n"
     ]
    }
   ],
   "source": [
    "#Using del function\n",
    "\n",
    "dict1 = {'ML': [80,20202,30303,4040], 'Python': 89, 'DL': 90, 'NLP': 59}\n",
    "del dict1[\"DL\"]\n",
    "print(dict1)"
   ]
  },
  {
   "cell_type": "code",
   "execution_count": 33,
   "id": "f9e877ac",
   "metadata": {},
   "outputs": [
    {
     "data": {
      "text/plain": [
       "{'Python': 89, 'DL': 90, 'NLP': 59}"
      ]
     },
     "execution_count": 33,
     "metadata": {},
     "output_type": "execute_result"
    }
   ],
   "source": [
    "#Using pop()\n",
    "\n",
    "dict1 = {'ML': [80,20202,30303,4040], 'Python': 89, 'DL': 90, 'NLP': 59}\n",
    "\n",
    "removed_key = dict1.pop(\"ML\")\n",
    "dict1"
   ]
  },
  {
   "cell_type": "code",
   "execution_count": 34,
   "id": "8652c41e",
   "metadata": {},
   "outputs": [
    {
     "data": {
      "text/plain": [
       "{'ML': [80, 20202, 30303, 4040], 'Python': 89, 'DL': 90}"
      ]
     },
     "execution_count": 34,
     "metadata": {},
     "output_type": "execute_result"
    }
   ],
   "source": [
    "#Using popitem()\n",
    "\n",
    "dict1 = {'ML': [80,20202,30303,4040], 'Python': 89, 'DL': 90, 'NLP': 59}\n",
    "\n",
    "dict1.popitem()\n",
    "dict1"
   ]
  },
  {
   "cell_type": "markdown",
   "id": "82d9e891",
   "metadata": {},
   "source": [
    "# 5. Python program to merge two Dictionaries\n"
   ]
  },
  {
   "cell_type": "code",
   "execution_count": 38,
   "id": "b1a798e1",
   "metadata": {},
   "outputs": [
    {
     "name": "stdout",
     "output_type": "stream",
     "text": [
      "{'Name': 'Chetan', 'age': '28', 'Company_name': 'EY', 'ML': '83', 'Python': 89, 'DL': 90, 'NLP': 59}\n"
     ]
    }
   ],
   "source": [
    "dict1 = {\"Name\":\"Chetan\",\"age\":\"28\",\"Company_name\":\"EY\"}\n",
    "dict2 = {'ML': '83', 'Python': 89, 'DL': 90, 'NLP': 59}\n",
    "\n",
    "dict1.update(dict2)\n",
    "print(dict1)"
   ]
  },
  {
   "cell_type": "markdown",
   "id": "f041600b",
   "metadata": {},
   "source": [
    "# 6. Program to create grade calculator in Python\n"
   ]
  },
  {
   "cell_type": "code",
   "execution_count": 5,
   "id": "6184907f",
   "metadata": {},
   "outputs": [
    {
     "name": "stdout",
     "output_type": "stream",
     "text": [
      "Grade : A\n"
     ]
    }
   ],
   "source": [
    "dict1 = {\"TOC\":78,\"M1\":73,\"Bio\":69,\"Chem\":77,\"Eng\":98}\n",
    "s1 = sum(dict1.values())\n",
    "avg = s1/400 *100\n",
    "if avg > 80:\n",
    "    print(\"Grade : A\")\n",
    "elif avg >= 70 and avg < 80:\n",
    "    print(\"Grade : B\")\n",
    "elif avg >= 60 and avg < 70:\n",
    "    print(\"Grade : C\")\n",
    "elif avg < 60:\n",
    "    print(\"Fail\")"
   ]
  },
  {
   "cell_type": "markdown",
   "id": "a311e13a",
   "metadata": {},
   "source": [
    "# 7.Print anagrams together in Python using List and Dictionary"
   ]
  },
  {
   "cell_type": "code",
   "execution_count": 1,
   "id": "dc8e80f0",
   "metadata": {},
   "outputs": [
    {
     "name": "stdout",
     "output_type": "stream",
     "text": [
      "Anagrams using dictionary : {'eggloo': ['google', 'legogo', 'lgooge'], 'cfimoorst': ['microsoft', 'softmicor'], 'EY': ['EY']}\n",
      "Anagrams using list :[['google', 'legogo', 'lgooge'], ['microsoft', 'softmicor'], ['EY']]\n"
     ]
    }
   ],
   "source": [
    "a = ['google','microsoft','legogo','softmicor','lgooge','EY']\n",
    "dict1 = {}\n",
    "\n",
    "for i in a:\n",
    "    word =\"\".join(sorted(i))\n",
    "    if word in dict1:\n",
    "        dict1[word].append(i)\n",
    "    else:\n",
    "        dict1[word]=[i]\n",
    "print(f\"Anagrams using dictionary : {dict1}\")\n",
    "print(f\"Anagrams using list :{list(dict1.values())}\")"
   ]
  },
  {
   "cell_type": "markdown",
   "id": "1b854c25",
   "metadata": {},
   "source": [
    "# 8.Check if binary representations of two numbers are an anagram"
   ]
  },
  {
   "cell_type": "code",
   "execution_count": 2,
   "id": "89418c48",
   "metadata": {},
   "outputs": [
    {
     "name": "stdout",
     "output_type": "stream",
     "text": [
      "Enter first number: 8\n",
      "Enter Second number: 10\n",
      "The binary representation of two numbers 0b1000 and 0b1010 are not anagram\n"
     ]
    }
   ],
   "source": [
    "a = bin(eval(input(\"Enter first number: \")))              \n",
    "b = bin(eval(input(\"Enter Second number: \")))\n",
    "\n",
    "b1 = a.replace(\"0b\",\"\")\n",
    "b2 = b.replace(\"0b\",\"\")\n",
    "\n",
    "z = len(b1) - len(b2)\n",
    "if (len(b1)<len(b2)): b1=\"0\"*z+b1\n",
    "else: b2=\"0\"*z+b2\n",
    "\n",
    "if b1.count('0') == b2.count('0') and b1.count('1') == b2.count('1'): \n",
    "    print(f\"The binary representation of two numbers {a} and {b} are anagram\")\n",
    "else: print(f\"The binary representation of two numbers {a} and {b} are not anagram\")"
   ]
  },
  {
   "cell_type": "markdown",
   "id": "915d3bd3",
   "metadata": {},
   "source": [
    "# 9.Python Counter to find the size of the largest subset of anagram words"
   ]
  },
  {
   "cell_type": "code",
   "execution_count": 20,
   "id": "b9cbc332",
   "metadata": {},
   "outputs": [
    {
     "name": "stdout",
     "output_type": "stream",
     "text": [
      "Anagrams using dictionary : {'aloo': ['aloo', 'olao', 'ooal', 'aool'], 'glou': ['golu', 'uogl']}\n",
      "Largest subset of Anagram words is ['aloo', 'olao', 'ooal', 'aool'] with the word count 4\n"
     ]
    }
   ],
   "source": [
    "def get_largest_subset(ad):\n",
    "    str2 = str1.split(\" \")\n",
    "    dict1={}\n",
    "\n",
    "    for i in str2:\n",
    "        word =\"\".join(sorted(i))\n",
    "        if word in dict1:\n",
    "            dict1[word].append(i)\n",
    "        else:\n",
    "            dict1[word]=[i]\n",
    "    print(f\"Anagrams using dictionary : {dict1}\")\n",
    "    len(dict1)\n",
    "\n",
    "    lst = sorted([len(i) for i in dict1.values()])\n",
    "    for i in (dict1.values()):\n",
    "        if len(i) == lst[-1]:\n",
    "            print(f\"Largest subset of Anagram words is {i} with the word count {lst[-1]}\")\n",
    "        else:\n",
    "            pass \n",
    "\n",
    "str1 = \"aloo olao golu uogl ooal aool\" \n",
    "get_largest_subset(str1)"
   ]
  },
  {
   "cell_type": "markdown",
   "id": "470980b6",
   "metadata": {},
   "source": [
    "# 10. Python Dictionary to find mirror characters in a string"
   ]
  },
  {
   "cell_type": "code",
   "execution_count": 23,
   "id": "1e8ed1de",
   "metadata": {},
   "outputs": [
    {
     "name": "stdout",
     "output_type": "stream",
     "text": [
      "Mirror character in a string velocity are: yticolev\n"
     ]
    }
   ],
   "source": [
    "a = \"velocity\"\n",
    "str1 = \"\"\n",
    "index =-1\n",
    "for i in a:\n",
    "    str1 += a[index]\n",
    "    index -=1\n",
    "print(f\"Mirror character in a string {a} are: {str1}\")"
   ]
  },
  {
   "cell_type": "markdown",
   "id": "b1a4cde9",
   "metadata": {},
   "source": [
    "# 11.Counting the frequencies in a list using a dictionary in Python"
   ]
  },
  {
   "cell_type": "code",
   "execution_count": 15,
   "id": "92e099b0",
   "metadata": {},
   "outputs": [
    {
     "name": "stdout",
     "output_type": "stream",
     "text": [
      "The count of frequencies in list using dictionary are : {'V': 2, 'I': 2, 'B': 2, 'G': 2, 'Y': 1, 'O': 1, 'R': 1}\n"
     ]
    }
   ],
   "source": [
    "lst1 = ['V','I','B','G','Y','O','R','V','I','B','G']\n",
    "dict1 = {}\n",
    "\n",
    "for i in lst1:            \n",
    "    if i in dict1:\n",
    "        dict1[i] +=1      \n",
    "    else:\n",
    "        dict1[i] = 1     \n",
    "print(f\"The count of frequencies in list using dictionary are : {dict1}\") "
   ]
  },
  {
   "cell_type": "markdown",
   "id": "8f82e721",
   "metadata": {},
   "source": [
    "# 12.Python program to convert a list of Tuples into Dictionary"
   ]
  },
  {
   "cell_type": "code",
   "execution_count": 30,
   "id": "c4d3f2b7",
   "metadata": {},
   "outputs": [
    {
     "name": "stdout",
     "output_type": "stream",
     "text": [
      "{'V': 2, 'I': 2, 'B': 2, 'G': 2, 'Y': 1, 'O': 1, 'R': 1}\n"
     ]
    }
   ],
   "source": [
    "listuple = [('V', 2), ('I', 2), ('B', 2), ('G', 2), ('Y', 1), ('O', 1), ('R', 1)]\n",
    "dict2 = {}\n",
    "\n",
    "for key,value in listuple:\n",
    "    dict2.update({key:value})\n",
    "print(dict2)"
   ]
  },
  {
   "cell_type": "markdown",
   "id": "b916f5e4",
   "metadata": {},
   "source": [
    "# 13.Scraping And Finding Ordered Words In A Dictionary using Python\n"
   ]
  },
  {
   "cell_type": "code",
   "execution_count": 85,
   "id": "9ae6f759",
   "metadata": {},
   "outputs": [
    {
     "name": "stdout",
     "output_type": "stream",
     "text": [
      "After Scraping words from dict are: ['Lucifer', 'Undisputed', 'Gladiator', 'Titanic', 'den']\n",
      "Word Lucifer, is not Ordered\n",
      "Word Undisputed, is not Ordered\n",
      "Word Gladiator, is not Ordered\n",
      "Word Titanic, is not Ordered\n",
      "Word den, is Ordered\n"
     ]
    }
   ],
   "source": [
    "dict1 = {1:\"Lucifer\",2:\"Undisputed\",3:\"Gladiator\",4:\"Titanic\",5:\"den\"}\n",
    "a = list(dict1.values())\n",
    "print(f\"After Scraping words from dict are: {a}\")\n",
    "\n",
    "for word in a:\n",
    "    if ''.join(sorted(word)) == word:\n",
    "        print (f\"Word {word}, is Ordered\")\n",
    "    else:\n",
    "        print (f\"Word {word}, is not Ordered\")"
   ]
  },
  {
   "cell_type": "markdown",
   "id": "7399d073",
   "metadata": {},
   "source": [
    "# 14. Create a list of tuples from the given list having a number and its cube in each tuple"
   ]
  },
  {
   "cell_type": "code",
   "execution_count": 19,
   "id": "c6f424cd",
   "metadata": {},
   "outputs": [
    {
     "data": {
      "text/plain": [
       "[(1, 1), (2, 8), (3, 27), (4, 64), (5, 125)]"
      ]
     },
     "execution_count": 19,
     "metadata": {},
     "output_type": "execute_result"
    }
   ],
   "source": [
    "a = [1,2,3,4,5]\n",
    "new_cube = [(i,i**3) for i in a]\n",
    "new_cube"
   ]
  },
  {
   "cell_type": "markdown",
   "id": "9f433eb1",
   "metadata": {},
   "source": [
    "# 15.Sort a list of tuples by the second Item"
   ]
  },
  {
   "cell_type": "code",
   "execution_count": 26,
   "id": "aca355aa",
   "metadata": {},
   "outputs": [
    {
     "data": {
      "text/plain": [
       "[('Orange', 8), ('Grapes', 12), ('Strawberry', 16), ('Mango', 23)]"
      ]
     },
     "execution_count": 26,
     "metadata": {},
     "output_type": "execute_result"
    }
   ],
   "source": [
    "tup = [(\"Mango\",23),(\"Grapes\",12),(\"Orange\",8),(\"Strawberry\",16)]\n",
    "# o/p = [(Orange,8),(Grapes,12),(Strawberry,16),(Mango,23)]\n",
    "\n",
    "def get_listoftup_sorted(tup):\n",
    "    lst = []\n",
    "    for i,val in enumerate(tup):\n",
    "#         print(i,val)\n",
    "        lst.append(val[1])\n",
    "    lst.sort()\n",
    "#     print(lst)\n",
    "    tup1 = []\n",
    "    for i in lst:\n",
    "        for j in tup:\n",
    "            if i == j[1]:\n",
    "                tup1.append(j)\n",
    "            else:\n",
    "                pass\n",
    "    return tup1\n",
    "get_listoftup_sorted(tup)"
   ]
  },
  {
   "cell_type": "markdown",
   "id": "1d799bd7",
   "metadata": {},
   "source": [
    "# 16.Python Program for Insertion Sort"
   ]
  },
  {
   "cell_type": "markdown",
   "id": "ad8f0fbb",
   "metadata": {},
   "source": [
    "- Insertion sort places a given element at the right position in sorted list. So, in the begining, ew compare first two elements and sort them by comparing them"
   ]
  },
  {
   "cell_type": "markdown",
   "id": "d12db3ca",
   "metadata": {},
   "source": [
    "- Then we pick the third element and find its proper position among the last two sorted elements. This process continues till all elements land in their proper position."
   ]
  },
  {
   "cell_type": "code",
   "execution_count": 103,
   "id": "c5ede9d3",
   "metadata": {},
   "outputs": [
    {
     "name": "stdout",
     "output_type": "stream",
     "text": [
      "Sorted list using Insertion sort: [8, 12, 16, 23]\n"
     ]
    }
   ],
   "source": [
    "lst = [8,16,12,23]\n",
    "\n",
    "def Insertion_sort(lst):\n",
    "    for i in range(1,len(lst)):\n",
    "        while i > 0 and lst[i] < lst[i-1]:\n",
    "            lst[i-1],lst[i] = lst[i],lst[i-1]\n",
    "            i -=1\n",
    "            print(f\"Sorted list using Insertion sort: {lst}\")\n",
    "    \n",
    "Insertion_sort(lst)     "
   ]
  },
  {
   "cell_type": "markdown",
   "id": "5f6ec474",
   "metadata": {},
   "source": [
    "# 17. Python Program for SelectionSort"
   ]
  },
  {
   "cell_type": "markdown",
   "id": "bc2880de",
   "metadata": {},
   "source": [
    "- Selection sort is an in-place comparison based algorithm which the list is divided into two parts, the sorted part at the left end and the unsorted part at the right end. "
   ]
  },
  {
   "cell_type": "markdown",
   "id": "aaefdbca",
   "metadata": {},
   "source": [
    "- The smallest element is selected from the unsorted array and swapped with the leftmost element, and that element becomes part of the sorted array."
   ]
  },
  {
   "cell_type": "code",
   "execution_count": 5,
   "id": "257bc6bb",
   "metadata": {},
   "outputs": [
    {
     "name": "stdout",
     "output_type": "stream",
     "text": [
      "Sorted list using Selection Sort: [8, 12, 18, 23, 24]\n"
     ]
    }
   ],
   "source": [
    "lst = [23,8,12,18,24]\n",
    "def selection_sort(lst):\n",
    "    for i in range(len(lst)):\n",
    "        cur_index = i\n",
    "        for j in range(i,len(lst)):\n",
    "            if lst[cur_index] > lst[j]:\n",
    "                cur_index = j\n",
    "        lst[i],lst[cur_index] = lst[cur_index], lst[i]\n",
    "    return lst\n",
    "print(f\"Sorted list using Selection Sort: {selection_sort(lst)}\")              "
   ]
  },
  {
   "cell_type": "markdown",
   "id": "5fb76d1d",
   "metadata": {},
   "source": [
    "# 18. Python Program for Bubble Sort"
   ]
  },
  {
   "cell_type": "markdown",
   "id": "5040180d",
   "metadata": {},
   "source": [
    "- In Bubble Sort Algorithm,the first element is compared with the adjacent element."
   ]
  },
  {
   "cell_type": "markdown",
   "id": "6f025cce",
   "metadata": {},
   "source": [
    "- If the adjacent element is smaller than the first element, the elements are swapped"
   ]
  },
  {
   "cell_type": "markdown",
   "id": "d93e4822",
   "metadata": {},
   "source": [
    "- The algorithm then compares the second element with its adjacent element and process continues to bubble the largest element to the right side of the list and finally sorts the list in ascending order."
   ]
  },
  {
   "cell_type": "code",
   "execution_count": 47,
   "id": "d6137af2",
   "metadata": {},
   "outputs": [
    {
     "name": "stdout",
     "output_type": "stream",
     "text": [
      "Sorted list using Bubble Sort: [8, 12, 16, 19, 23] \n"
     ]
    }
   ],
   "source": [
    "lst = [8,16,12,19,23]\n",
    "n = len(lst)\n",
    "def bubble_sort(a):\n",
    "\n",
    "    for i in range(n): \n",
    "        for j in range(0,n-i-1): \n",
    "            if a[j] > a[j+1]:\n",
    "                a[j],a[j+1] = a[j+1],a[j]\n",
    "                \n",
    "\n",
    "bubble_sort(lst)\n",
    "print(f\"Sorted list using Bubble Sort: {lst} \")"
   ]
  },
  {
   "cell_type": "markdown",
   "id": "de8af3c4",
   "metadata": {},
   "source": [
    "# 19. Python Program for Merge Sort\n"
   ]
  },
  {
   "cell_type": "markdown",
   "id": "ec408331",
   "metadata": {},
   "source": [
    "- Merge sort is a divide and conquer algorithm"
   ]
  },
  {
   "cell_type": "markdown",
   "id": "3e692c0f",
   "metadata": {},
   "source": [
    "- Merge sort first divides the list into two equal parts and then sorts the parts and unites them as sorted list"
   ]
  },
  {
   "cell_type": "code",
   "execution_count": 102,
   "id": "6ca60dfb",
   "metadata": {},
   "outputs": [
    {
     "name": "stdout",
     "output_type": "stream",
     "text": [
      "Sorted list using Merge Sort: [8, 12, 18, 23, 24]\n"
     ]
    }
   ],
   "source": [
    "lst = [8,23,12,18,24]\n",
    "\n",
    "def merge_sort(lst):\n",
    "    \n",
    "    result = []\n",
    "    mid = len(lst)//2\n",
    "\n",
    "    y = lst[:mid]\n",
    "    z = lst[mid:]\n",
    "\n",
    "    while (len(y) > 0) and (len(z) > 0):\n",
    "            if y[0] > z[0]:\n",
    "                result.append(z.pop(0))   \n",
    "            else:\n",
    "                result.append(y.pop(0))\n",
    "    \n",
    "    result.extend(y+z)\n",
    "    print(f\"Sorted list using Merge Sort: {result}\")\n",
    "      \n",
    "merge_sort(lst)"
   ]
  },
  {
   "cell_type": "markdown",
   "id": "b71799c6",
   "metadata": {},
   "source": [
    "# 20.Python Program for QuickSort"
   ]
  },
  {
   "cell_type": "markdown",
   "id": "a2698c01",
   "metadata": {},
   "source": [
    "- Quick sort is divide and conquer algorithm"
   ]
  },
  {
   "cell_type": "markdown",
   "id": "aef1a625",
   "metadata": {},
   "source": [
    "- First, you choose pivot element in array. Then store elements less than pivot in left subarray and elements greater \n",
    "  than pivot in right subarray and all this is done in linear time.    "
   ]
  },
  {
   "cell_type": "markdown",
   "id": "598ed303",
   "metadata": {},
   "source": [
    "- After that we will call Quick Sort on left subarray and similarly on right subarray. "
   ]
  },
  {
   "cell_type": "code",
   "execution_count": 7,
   "id": "eb69893f",
   "metadata": {},
   "outputs": [
    {
     "name": "stdout",
     "output_type": "stream",
     "text": [
      "[8, 12, 16, 23, 45]\n"
     ]
    }
   ],
   "source": [
    "def quick_sort(a):           \n",
    "    if len(a) <= 1:\n",
    "        return a\n",
    "    else:\n",
    "        pivot = a.pop()\n",
    "        \n",
    "    greater = []\n",
    "    lower = []\n",
    "    \n",
    "    for i in a:\n",
    "        if i > pivot:\n",
    "            greater.append(i)\n",
    "        else:\n",
    "            lower.append(i)\n",
    "    return quick_sort(lower) + [pivot] + quick_sort(greater)\n",
    "\n",
    "l = [8,45,12,16,23]\n",
    "print(quick_sort(l))        "
   ]
  }
 ],
 "metadata": {
  "kernelspec": {
   "display_name": "Python 3 (ipykernel)",
   "language": "python",
   "name": "python3"
  },
  "language_info": {
   "codemirror_mode": {
    "name": "ipython",
    "version": 3
   },
   "file_extension": ".py",
   "mimetype": "text/x-python",
   "name": "python",
   "nbconvert_exporter": "python",
   "pygments_lexer": "ipython3",
   "version": "3.11.0"
  }
 },
 "nbformat": 4,
 "nbformat_minor": 5
}
