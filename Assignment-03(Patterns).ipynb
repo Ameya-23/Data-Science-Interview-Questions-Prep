{
 "cells": [
  {
   "cell_type": "raw",
   "id": "b4a661ea",
   "metadata": {},
   "source": [
    "1.\n",
    "*\n",
    "* *\n",
    "* * *\n",
    "* * * *\n",
    "* * * * *"
   ]
  },
  {
   "cell_type": "code",
   "execution_count": 2,
   "id": "a2fb4857",
   "metadata": {},
   "outputs": [
    {
     "name": "stdout",
     "output_type": "stream",
     "text": [
      "* \n",
      "* * \n",
      "* * * \n",
      "* * * * \n",
      "* * * * * \n"
     ]
    }
   ],
   "source": [
    "n = 5\n",
    "for i in range(1,n+1):\n",
    "    print(\"* \"*i)"
   ]
  },
  {
   "cell_type": "code",
   "execution_count": 3,
   "id": "71799bb0",
   "metadata": {},
   "outputs": [
    {
     "name": "stdout",
     "output_type": "stream",
     "text": [
      "* \n",
      "* * \n",
      "* * * \n",
      "* * * * \n",
      "* * * * * \n"
     ]
    }
   ],
   "source": [
    "n = 5\n",
    "for i in range(1,n+1):\n",
    "    for j in range(i):\n",
    "        print(\"*\",end = \" \")\n",
    "    print()"
   ]
  },
  {
   "cell_type": "raw",
   "id": "18583331",
   "metadata": {},
   "source": [
    "2.\n",
    "        *\n",
    "      * *\n",
    "    * * *\n",
    "  * * * *\n",
    "* * * * *"
   ]
  },
  {
   "cell_type": "code",
   "execution_count": 13,
   "id": "43010644",
   "metadata": {},
   "outputs": [
    {
     "name": "stdout",
     "output_type": "stream",
     "text": [
      "        * \n",
      "      * * \n",
      "    * * * \n",
      "  * * * * \n",
      "* * * * * \n"
     ]
    }
   ],
   "source": [
    "for  i in range(1,6):\n",
    "    print(\"  \"*(n-i)+\"* \"*i)"
   ]
  },
  {
   "cell_type": "code",
   "execution_count": 11,
   "id": "7a710306",
   "metadata": {},
   "outputs": [
    {
     "name": "stdout",
     "output_type": "stream",
     "text": [
      "        * \n",
      "      * * \n",
      "    * * * \n",
      "  * * * * \n",
      "* * * * * \n"
     ]
    }
   ],
   "source": [
    "n = 5\n",
    "for i in range(1,2):\n",
    "    for j in range(1,n+1):\n",
    "        print(\"  \"*(n-j)+\"* \"*j)"
   ]
  },
  {
   "cell_type": "raw",
   "id": "e1e343ab",
   "metadata": {},
   "source": [
    "3.\n",
    "     *\n",
    "    * *\n",
    "   * * *\n",
    "  * * * *\n",
    " * * * * *"
   ]
  },
  {
   "cell_type": "code",
   "execution_count": 19,
   "id": "8651a233",
   "metadata": {},
   "outputs": [
    {
     "name": "stdout",
     "output_type": "stream",
     "text": [
      "    * \n",
      "   * * \n",
      "  * * * \n",
      " * * * * \n",
      "* * * * * \n"
     ]
    }
   ],
   "source": [
    "n = 5\n",
    "for i in range(1,n+1): \n",
    "    print(\" \"*(n-i) + \"* \"*(i))"
   ]
  },
  {
   "cell_type": "code",
   "execution_count": 21,
   "id": "6ae1cc94",
   "metadata": {},
   "outputs": [
    {
     "name": "stdout",
     "output_type": "stream",
     "text": [
      "    * \n",
      "   * * \n",
      "  * * * \n",
      " * * * * \n",
      "* * * * * \n"
     ]
    }
   ],
   "source": [
    "n = 5\n",
    "for i in range(1,2):\n",
    "    for j in range(1,n+1):\n",
    "        print(\" \"*(n-j)+\"* \"*j)\n",
    "    "
   ]
  },
  {
   "cell_type": "raw",
   "id": "4757ed01",
   "metadata": {},
   "source": [
    "4.\n",
    "* * * * * * * * *\n",
    "  * * * * * * * \n",
    "    * * * * *\n",
    "      * * *\n",
    "        *"
   ]
  },
  {
   "cell_type": "code",
   "execution_count": 22,
   "id": "0ffbdbd8",
   "metadata": {},
   "outputs": [
    {
     "name": "stdout",
     "output_type": "stream",
     "text": [
      "* * * * * * * * * \n",
      "  * * * * * * * \n",
      "    * * * * * \n",
      "      * * * \n",
      "        * \n"
     ]
    }
   ],
   "source": [
    "n = 5\n",
    "for i in range(5,0,-1): \n",
    "    print(\"  \"*(n-i) + \"* \"*(i*2-1)) "
   ]
  },
  {
   "cell_type": "code",
   "execution_count": 25,
   "id": "7bb63981",
   "metadata": {},
   "outputs": [
    {
     "name": "stdout",
     "output_type": "stream",
     "text": [
      "* * * * * * * * * \n",
      "  * * * * * * * \n",
      "    * * * * * \n",
      "      * * * \n",
      "        * \n"
     ]
    }
   ],
   "source": [
    "n = 5\n",
    "for i in range(1,2):\n",
    "    for j in range(5,0,-1):\n",
    "        print(\"  \"*(n-j)+\"* \"*(j*2-1))"
   ]
  },
  {
   "cell_type": "raw",
   "id": "6bfc6dc8",
   "metadata": {},
   "source": [
    "5. \n",
    "1\n",
    "1 2\n",
    "1 2 3\n",
    "1 2 3 4\n",
    "1 2 3 4 5\n"
   ]
  },
  {
   "cell_type": "code",
   "execution_count": 35,
   "id": "82edf7ce",
   "metadata": {},
   "outputs": [
    {
     "name": "stdout",
     "output_type": "stream",
     "text": [
      "1 \n",
      "1 2 \n",
      "1 2 3 \n",
      "1 2 3 4 \n",
      "1 2 3 4 5 \n"
     ]
    }
   ],
   "source": [
    "n = 5\n",
    "for i in range(1,n+1):\n",
    "    for j in range(i):\n",
    "        print(j+1,end = \" \")\n",
    "        j +=1\n",
    "    print()"
   ]
  },
  {
   "cell_type": "raw",
   "id": "cf5819cf",
   "metadata": {},
   "source": [
    "6. \n",
    "1\n",
    "2 3\n",
    "4 5 6\n",
    "7 8 9 10\n",
    "11 12 13 14 15\n"
   ]
  },
  {
   "cell_type": "code",
   "execution_count": 38,
   "id": "744d4e80",
   "metadata": {},
   "outputs": [
    {
     "name": "stdout",
     "output_type": "stream",
     "text": [
      "1 \n",
      "2 3 \n",
      "4 5 6 \n",
      "7 8 9 10 \n",
      "11 12 13 14 15 \n"
     ]
    }
   ],
   "source": [
    "n = 5\n",
    "x = 1\n",
    "for i in range(1,n+1):\n",
    "    for j in range(i):\n",
    "        print(x,end=\" \")\n",
    "        x +=1\n",
    "    print()"
   ]
  },
  {
   "cell_type": "raw",
   "id": "11feec25",
   "metadata": {},
   "source": [
    "7. \n",
    "    1\n",
    "   1 1\n",
    "  1 2 1\n",
    " 1 3 3 1\n",
    "1 4 6 4 1"
   ]
  },
  {
   "cell_type": "code",
   "execution_count": 1,
   "id": "22920752",
   "metadata": {},
   "outputs": [
    {
     "name": "stdout",
     "output_type": "stream",
     "text": [
      "     1\n",
      "    1 1\n",
      "   1 2 1\n",
      "  1 3 3 1\n",
      " 1 4 6 4 1\n"
     ]
    }
   ],
   "source": [
    "n= 5                                               \n",
    "for i in range(n):\n",
    "    print(\" \"*(n-i)+ \" \".join(str(11**i)))\n",
    "    "
   ]
  },
  {
   "cell_type": "code",
   "execution_count": 1,
   "id": "66466568",
   "metadata": {},
   "outputs": [
    {
     "name": "stdout",
     "output_type": "stream",
     "text": [
      "     1\n",
      "    1 1\n",
      "   1 2 1\n",
      "  1 3 3 1\n",
      " 1 4 6 4 1\n"
     ]
    }
   ],
   "source": [
    "n = 5\n",
    " \n",
    "for i in range(n):\n",
    "    print(' '*(n-i), end='')\n",
    "    print(' '.join(map(str, str(11**i))))\n"
   ]
  },
  {
   "cell_type": "raw",
   "id": "8857dcd3",
   "metadata": {},
   "source": [
    "8. \n",
    "1\n",
    "2 3\n",
    "4 5 6\n",
    "7 8 9 10\n",
    "11 12 13 14 15\n"
   ]
  },
  {
   "cell_type": "code",
   "execution_count": 191,
   "id": "56e5f76e",
   "metadata": {},
   "outputs": [
    {
     "name": "stdout",
     "output_type": "stream",
     "text": [
      "1 \n",
      "2 3 \n",
      "4 5 6 \n",
      "7 8 9 10 \n",
      "11 12 13 14 15 \n"
     ]
    }
   ],
   "source": [
    "n = 5\n",
    "x = 1\n",
    "\n",
    "for i in range(1,n+1):\n",
    "    for j in range(i):\n",
    "        print(x,end = \" \")\n",
    "        x +=1\n",
    "    print()\n",
    "        "
   ]
  },
  {
   "cell_type": "raw",
   "id": "c77a5d62",
   "metadata": {},
   "source": [
    "9.\n",
    "A [Use ASCII Values]\n",
    "B B\n",
    "C C C\n",
    "D D D D\n",
    "E E E E E\n"
   ]
  },
  {
   "cell_type": "code",
   "execution_count": 90,
   "id": "96ec7774",
   "metadata": {},
   "outputs": [
    {
     "name": "stdout",
     "output_type": "stream",
     "text": [
      "A \n",
      "B B \n",
      "C C C \n",
      "D D D D \n",
      "E E E E E \n"
     ]
    }
   ],
   "source": [
    "n = 5\n",
    "x = 65\n",
    "\n",
    "for i in range(1,n+1):\n",
    "    for j in range(i):\n",
    "        print(chr(x),end=\" \")\n",
    "    x +=1\n",
    "    print()"
   ]
  },
  {
   "cell_type": "raw",
   "id": "de193ceb",
   "metadata": {},
   "source": [
    "10.\n",
    "A\n",
    "B C\n",
    "D E F\n",
    "G H I J\n",
    "K L M N O\n"
   ]
  },
  {
   "cell_type": "code",
   "execution_count": 91,
   "id": "298bbd33",
   "metadata": {},
   "outputs": [
    {
     "name": "stdout",
     "output_type": "stream",
     "text": [
      "A \n",
      "B C \n",
      "D E F \n",
      "G H I J \n",
      "K L M N O \n"
     ]
    }
   ],
   "source": [
    "n = 5\n",
    "x = 65\n",
    "\n",
    "for i in range(1,n+1):\n",
    "    for j in range(i):\n",
    "        print(chr(x),end=\" \")\n",
    "        x +=1\n",
    "    print()"
   ]
  },
  {
   "cell_type": "raw",
   "id": "5007f246",
   "metadata": {},
   "source": [
    "11.\n",
    "K\n",
    "K K\n",
    "K K K\n",
    "K K K K\n",
    "K K K K K\n"
   ]
  },
  {
   "cell_type": "code",
   "execution_count": 93,
   "id": "efd040e9",
   "metadata": {},
   "outputs": [
    {
     "name": "stdout",
     "output_type": "stream",
     "text": [
      "K \n",
      "K K \n",
      "K K K \n",
      "K K K K \n",
      "K K K K K \n"
     ]
    }
   ],
   "source": [
    "n = 5\n",
    "for i in range(1,n+1):\n",
    "    print(\"K \"*i)"
   ]
  },
  {
   "cell_type": "code",
   "execution_count": 95,
   "id": "a27b7fae",
   "metadata": {},
   "outputs": [
    {
     "name": "stdout",
     "output_type": "stream",
     "text": [
      "K \n",
      "K K \n",
      "K K K \n",
      "K K K K \n",
      "K K K K K \n"
     ]
    }
   ],
   "source": [
    "n = 5\n",
    "for i in range(1,n+1):\n",
    "    for j in range(i):\n",
    "        print(\"K\",end = \" \")\n",
    "    print()"
   ]
  },
  {
   "cell_type": "raw",
   "id": "db0d2c96",
   "metadata": {},
   "source": [
    "12.\n",
    "A\n",
    "A B\n",
    "A B C\n",
    "A B C D\n",
    "A B C D E\n"
   ]
  },
  {
   "cell_type": "code",
   "execution_count": 5,
   "id": "bf1d21b6",
   "metadata": {},
   "outputs": [
    {
     "name": "stdout",
     "output_type": "stream",
     "text": [
      "A \n",
      "A B \n",
      "A B C \n",
      "A B C D \n",
      "A B C D E \n"
     ]
    }
   ],
   "source": [
    "n = 5                          \n",
    "\n",
    "\n",
    "for i in range(1,n+1):\n",
    "    x = 65\n",
    "    for j in range(i):\n",
    "        print(chr(x),end=\" \")\n",
    "        x +=1\n",
    "    print()"
   ]
  },
  {
   "cell_type": "raw",
   "id": "5c9e2b6d",
   "metadata": {},
   "source": [
    "13.\n",
    "P\n",
    "Py\n",
    "Pyt\n",
    "Pyth\n",
    "Pytho\n",
    "Python\n"
   ]
  },
  {
   "cell_type": "code",
   "execution_count": 142,
   "id": "219314b8",
   "metadata": {},
   "outputs": [
    {
     "name": "stdout",
     "output_type": "stream",
     "text": [
      "P\n",
      "Py\n",
      "Pyt\n",
      "Pyth\n",
      "Pytho\n",
      "Python\n"
     ]
    }
   ],
   "source": [
    "str1 = \"Python\"\n",
    "\n",
    "for i in range (len(str1)):     \n",
    "    for j in range(i+1):   \n",
    "        print(str1[j],end = \"\")\n",
    "    print()\n",
    "    "
   ]
  },
  {
   "cell_type": "raw",
   "id": "4d90dfb0",
   "metadata": {},
   "source": [
    "14.\n",
    "1 1 1 1 1\n",
    "2 2 2 2\n",
    "3 3 3\n",
    "4 4\n",
    "5"
   ]
  },
  {
   "cell_type": "code",
   "execution_count": 11,
   "id": "fd9fb631",
   "metadata": {},
   "outputs": [
    {
     "name": "stdout",
     "output_type": "stream",
     "text": [
      "1 1 1 1 1 \n",
      "2 2 2 2 \n",
      "3 3 3 \n",
      "4 4 \n",
      "5 \n"
     ]
    }
   ],
   "source": [
    "n = 5                                \n",
    "\n",
    "for i in range(n):\n",
    "    for j in range(n-i):\n",
    "        print(i+1,end=\" \")\n",
    "    print()"
   ]
  },
  {
   "cell_type": "raw",
   "id": "37137238",
   "metadata": {},
   "source": [
    "15.\n",
    "6 6 6 6 6 6\n",
    "5 5 5 5 5\n",
    "4 4 4 4\n",
    "3 3 3\n",
    "2 2\n",
    "1"
   ]
  },
  {
   "cell_type": "code",
   "execution_count": 184,
   "id": "caef2c74",
   "metadata": {},
   "outputs": [
    {
     "name": "stdout",
     "output_type": "stream",
     "text": [
      "6 6 6 6 6 6 \n",
      "5 5 5 5 5 \n",
      "4 4 4 4 \n",
      "3 3 3 \n",
      "2 2 \n",
      "1 \n"
     ]
    }
   ],
   "source": [
    "n = 5\n",
    "\n",
    "for i in range(n+1,0,-1):\n",
    "    for j in range(i):\n",
    "        print(i,end=\" \")\n",
    "    print()"
   ]
  },
  {
   "cell_type": "raw",
   "id": "dc10a05c",
   "metadata": {},
   "source": [
    "16.\n",
    "0 1 2 3 4 5\n",
    "0 1 2 3 4\n",
    "0 1 2 3\n",
    "0 1 2\n",
    "0 1"
   ]
  },
  {
   "cell_type": "code",
   "execution_count": 189,
   "id": "d8d31d5e",
   "metadata": {},
   "outputs": [
    {
     "name": "stdout",
     "output_type": "stream",
     "text": [
      "0 1 2 3 4 5 \n",
      "0 1 2 3 4 \n",
      "0 1 2 3 \n",
      "0 1 2 \n",
      "0 1 \n"
     ]
    }
   ],
   "source": [
    "n = 5\n",
    "\n",
    "for i in range(n+1,1,-1):\n",
    "    for j in range(i):\n",
    "        print(j,end=\" \")\n",
    "    print()"
   ]
  },
  {
   "cell_type": "raw",
   "id": "3d0711e2",
   "metadata": {},
   "source": [
    "17.\n",
    "1\n",
    "2 3 4\n",
    "5 6 7 8 9"
   ]
  },
  {
   "cell_type": "code",
   "execution_count": 123,
   "id": "94013f8f",
   "metadata": {},
   "outputs": [
    {
     "name": "stdout",
     "output_type": "stream",
     "text": [
      "1 \n",
      "2 3 4 \n",
      "5 6 7 8 9 \n"
     ]
    }
   ],
   "source": [
    "col = 1\n",
    "n =1\n",
    "n1 = 3\n",
    "for i in range(1,4):\n",
    "    for j in range(1,col+1):\n",
    "        print(n,end=\" \")\n",
    "        n +=1\n",
    "    col +=2\n",
    "    print()"
   ]
  },
  {
   "cell_type": "raw",
   "id": "b94677f5",
   "metadata": {},
   "source": [
    "18.\n",
    "6 5 4 3 2 1\n",
    "5 4 3 2 1\n",
    "4 3 2 1\n",
    "3 2 1\n",
    "2 1\n",
    "1\n"
   ]
  },
  {
   "cell_type": "code",
   "execution_count": 204,
   "id": "d22b9fb0",
   "metadata": {},
   "outputs": [
    {
     "name": "stdout",
     "output_type": "stream",
     "text": [
      "6 5 4 3 2 1 \n",
      "5 4 3 2 1 \n",
      "4 3 2 1 \n",
      "3 2 1 \n",
      "2 1 \n",
      "1 \n",
      "\n"
     ]
    }
   ],
   "source": [
    "n = 6\n",
    "\n",
    "for i in range(n+1,0,-1):\n",
    "    for j in range(i-1,0,-1):\n",
    "        print(j,end = \" \")\n",
    "    print()"
   ]
  },
  {
   "cell_type": "raw",
   "id": "cd9a945d",
   "metadata": {},
   "source": [
    "19.\n",
    "1\n",
    "3 3\n",
    "5 5 5\n",
    "7 7 7 7\n",
    "9 9 9 9 9\n"
   ]
  },
  {
   "cell_type": "code",
   "execution_count": 28,
   "id": "7f3be164",
   "metadata": {},
   "outputs": [
    {
     "name": "stdout",
     "output_type": "stream",
     "text": [
      "1 \n",
      "3 3 \n",
      "5 5 5 \n",
      "7 7 7 7 \n",
      "9 9 9 9 9 \n"
     ]
    }
   ],
   "source": [
    "n =5\n",
    "odd = 1\n",
    "for i in range(1,n+1):   \n",
    "    for j in range(1,i+1): \n",
    "        print(odd,end = \" \")\n",
    "    odd +=2\n",
    "    print()\n",
    "    "
   ]
  },
  {
   "cell_type": "raw",
   "id": "18cc6179",
   "metadata": {},
   "source": [
    "20. \n",
    "        1\n",
    "      1 2\n",
    "    1 2 3\n",
    "  1 2 3 4\n",
    "1 2 3 4 5"
   ]
  },
  {
   "cell_type": "code",
   "execution_count": 57,
   "id": "4f3c75b1",
   "metadata": {},
   "outputs": [
    {
     "name": "stdout",
     "output_type": "stream",
     "text": [
      "        1 \n",
      "      1 2 \n",
      "    1 2 3 \n",
      "  1 2 3 4 \n",
      "1 2 3 4 5 \n"
     ]
    }
   ],
   "source": [
    "n = 5\n",
    "for i in range(n):\n",
    "    for j in range(n-i-1):\n",
    "        print(\" \",end= \" \")\n",
    "    for k in range(i+1):\n",
    "        print(k+1,end = \" \")\n",
    "    print()"
   ]
  },
  {
   "cell_type": "raw",
   "id": "582c26dd",
   "metadata": {},
   "source": [
    "21. \n",
    "1 2 3 4 5\n",
    "2 2 3 4 5\n",
    "3 3 3 4 5\n",
    "4 4 4 4 5\n",
    "5 5 5 5 5"
   ]
  },
  {
   "cell_type": "code",
   "execution_count": 8,
   "id": "fd9d3bf8",
   "metadata": {},
   "outputs": [
    {
     "name": "stdout",
     "output_type": "stream",
     "text": [
      "1 2 3 4 5 \n",
      "2 2 3 4 5 \n",
      "3 3 3 4 5 \n",
      "4 4 4 4 5 \n",
      "5 5 5 5 5 \n"
     ]
    }
   ],
   "source": [
    "n = 5\n",
    "for i in range(1, n + 1):\n",
    "    for j in range(1, n + 1):\n",
    "        if j <= i:\n",
    "            print(i, end=' ')\n",
    "        else:\n",
    "            print(j, end=' ')\n",
    "    print()"
   ]
  },
  {
   "cell_type": "raw",
   "id": "98f7f824",
   "metadata": {},
   "source": [
    "22.\n",
    "1\n",
    "2 4\n",
    "3 6 9\n",
    "4 8 12 16\n",
    "5 10 15 20 25\n",
    "6 12 18 24 30 36\n",
    "7 14 21 28 35 42 49\n"
   ]
  },
  {
   "cell_type": "code",
   "execution_count": 95,
   "id": "9b07d149",
   "metadata": {},
   "outputs": [
    {
     "name": "stdout",
     "output_type": "stream",
     "text": [
      "1 \n",
      "2 4 \n",
      "3 6 9 \n",
      "4 8 12 16 \n",
      "5 10 15 20 25 \n",
      "6 12 18 24 30 36 \n",
      "7 14 21 28 35 42 49 \n"
     ]
    }
   ],
   "source": [
    "n = 7\n",
    "\n",
    "for i in range(1, n+1):\n",
    "    for j in range(1, i+1):\n",
    "        print(i*j, end=\" \")\n",
    "    print()"
   ]
  },
  {
   "cell_type": "raw",
   "id": "5db17501",
   "metadata": {},
   "source": [
    "23. \n",
    "1\n",
    "2 1\n",
    "4 2 1\n",
    "8 4 2 1\n",
    "16 8 4 2 1\n",
    "32 16 8 4 2 1\n",
    "64 32 16 8 4 2 1\n",
    "128 64 32 16 8 4 2 1\n"
   ]
  },
  {
   "cell_type": "code",
   "execution_count": 20,
   "id": "56713a1e",
   "metadata": {},
   "outputs": [
    {
     "name": "stdout",
     "output_type": "stream",
     "text": [
      "  1\n",
      "  2  1\n",
      "  4  2  1\n",
      "  8  4  2  1\n",
      " 16  8  4  2  1\n",
      " 32 16  8  4  2  1\n",
      " 64 32 16  8  4  2  1\n",
      "128 64 32 16  8  4  2  1\n"
     ]
    }
   ],
   "source": [
    "n = 9\n",
    "for i in range(1, n):\n",
    "    for j in range(-1 + i, -1, -1):\n",
    "        print(format(2**j,\"3d\"),end = \"\")\n",
    "    print(\"\")"
   ]
  },
  {
   "cell_type": "raw",
   "id": "754b0779",
   "metadata": {},
   "source": [
    "24.\n",
    "\n",
    "*\n",
    "* *\n",
    "* * *\n",
    "* * * *\n",
    "* * * * *\n",
    "* * * * * *\n",
    "* * * * * * *\n",
    "* * * * * * *\n",
    "* * * * * *\n",
    "* * * * *\n",
    "* * * *\n",
    "* * *\n",
    "* *\n",
    "*"
   ]
  },
  {
   "cell_type": "code",
   "execution_count": 133,
   "id": "292c8d89",
   "metadata": {},
   "outputs": [
    {
     "name": "stdout",
     "output_type": "stream",
     "text": [
      "* \n",
      "* * \n",
      "* * * \n",
      "* * * * \n",
      "* * * * * \n",
      "* * * * * * \n",
      "* * * * * * * \n",
      "* * * * * * * \n",
      "* * * * * * \n",
      "* * * * * \n",
      "* * * * \n",
      "* * * \n",
      "* * \n",
      "* \n"
     ]
    }
   ],
   "source": [
    "n =7\n",
    "for i in range(1,n+1):\n",
    "    for j in range(i):\n",
    "        print(\"*\",end=\" \")\n",
    "    print()\n",
    "    \n",
    "for i in range(n,0,-1):\n",
    "    for j in range(i):\n",
    "        print(\"*\",end=\" \")\n",
    "    print()"
   ]
  },
  {
   "cell_type": "raw",
   "id": "770eb7f9",
   "metadata": {},
   "source": [
    "25.\n",
    "*\n",
    "* *\n",
    "* * *\n",
    "* * * *\n",
    "* * * * *\n",
    "* * * * * *\n",
    "\n",
    "\n",
    "* * * * * *\n",
    "* * * * *\n",
    "* * * *\n",
    "* * *\n",
    "* *\n",
    "*"
   ]
  },
  {
   "cell_type": "code",
   "execution_count": 134,
   "id": "cff8a5ef",
   "metadata": {},
   "outputs": [
    {
     "name": "stdout",
     "output_type": "stream",
     "text": [
      "* \n",
      "* * \n",
      "* * * \n",
      "* * * * \n",
      "* * * * * \n",
      "* * * * * * \n",
      "\n",
      "\n",
      "* * * * * * \n",
      "* * * * * \n",
      "* * * * \n",
      "* * * \n",
      "* * \n",
      "* \n"
     ]
    }
   ],
   "source": [
    "n = 6\n",
    "\n",
    "for i in range(1,n+1):\n",
    "    for j in range(i):\n",
    "        print(\"*\",end=\" \")\n",
    "    print()\n",
    "print()\n",
    "print()\n",
    "\n",
    "for i in range(n,0,-1):\n",
    "    for j in range(i):\n",
    "        print(\"*\",end = \" \")\n",
    "    print()"
   ]
  },
  {
   "cell_type": "code",
   "execution_count": null,
   "id": "d2fb8b2a",
   "metadata": {},
   "outputs": [],
   "source": []
  }
 ],
 "metadata": {
  "kernelspec": {
   "display_name": "Python 3 (ipykernel)",
   "language": "python",
   "name": "python3"
  },
  "language_info": {
   "codemirror_mode": {
    "name": "ipython",
    "version": 3
   },
   "file_extension": ".py",
   "mimetype": "text/x-python",
   "name": "python",
   "nbconvert_exporter": "python",
   "pygments_lexer": "ipython3",
   "version": "3.11.0"
  }
 },
 "nbformat": 4,
 "nbformat_minor": 5
}
