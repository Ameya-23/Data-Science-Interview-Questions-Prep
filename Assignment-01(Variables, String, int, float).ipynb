{
 "cells": [
  {
   "cell_type": "markdown",
   "id": "8c2db4b2",
   "metadata": {},
   "source": [
    "# 1. What are the key features of Python?"
   ]
  },
  {
   "cell_type": "raw",
   "id": "7a40f058",
   "metadata": {},
   "source": [
    "1) Programmer friendly langauge\n",
    "2) Dynamically typed langauge\n",
    "3) Free and Open Source\n",
    "4) Vast Library Support\n",
    "5) Python is interpreted langauge \n",
    "6) Simple to debug\n",
    "7) Object oriented langauge and High level programming langauge."
   ]
  },
  {
   "cell_type": "markdown",
   "id": "68d5ecf7",
   "metadata": {},
   "source": [
    "# 2. What are the Data Types in Python?"
   ]
  },
  {
   "cell_type": "raw",
   "id": "c1009534",
   "metadata": {},
   "source": [
    "A data type is a characteristic that tells the compiler (or interpreter) how a programmer intends to use the data. \n",
    "\n",
    "Data Types:\n",
    "    \n",
    "Numerical Data Type      : int, float, complex\n",
    "Text data Type           : string\n",
    "Sequence data Type       : List,tuple,range\n",
    "Mapping data type        : Dict (key value pair)\n",
    "Set data type            : set, frozen set\n",
    "Boollean data type       : bool (True,False)\n",
    "Binary data type         : bytes, bytesarray\n",
    "None data type           : None\n",
    "Note : Fundamental datatypes are int,float,complex,str, bool"
   ]
  },
  {
   "cell_type": "markdown",
   "id": "8c77d366",
   "metadata": {},
   "source": [
    "# 3. What are local variables and global variables in Python?"
   ]
  },
  {
   "cell_type": "raw",
   "id": "343a9085",
   "metadata": {},
   "source": [
    "1. Global variable: Variable which are declared outside the function and has access in whole program\n",
    "2. Local Variable : Variable which are declared inside the function and has scope only in that function"
   ]
  },
  {
   "cell_type": "markdown",
   "id": "1565bd54",
   "metadata": {},
   "source": [
    "# 4. How do you write comments in python? And Why Comments are important?"
   ]
  },
  {
   "cell_type": "raw",
   "id": "abe854d7",
   "metadata": {},
   "source": [
    "Comments:\n",
    "\n",
    "1. Comments are used to write something which the programmer does not want to execute. Comments can be written to mark the author's name, date when the program is written, adding notes for your future self, etc.\n",
    "\n",
    "2. Comments are used to make the code more understandable for the programmer.\n",
    "The Interpreter does not execute comments.\n",
    "\n",
    "There are two types of comments in Python Language -:\n",
    "(i)Single Line Comment\n",
    "(ii)Multi-Line Comment\n",
    "\n",
    "(i)Single Line Comment: \n",
    "Single Line comments are the comments which are written in a single line, i.e., they occupy the space of a single line.\n",
    "We use # (hash/pound to write single-line comments).\n",
    "\n",
    "E.g., the below program depicts the usage of comments.\n",
    "\n",
    "import os\n",
    "#This is a comment\n",
    "print(\"Main code started\")\n",
    "\n",
    "#Now I will write my code here:\n",
    "print(os.listdir())\n",
    "----------------------------------------------------------------------------------------------------------------------------\n",
    "(ii)Multi-Line Comment: \n",
    "Multi-Line comments are the comments which are created by using multiple lines, i.e., they occupy more than one line in a program.\n",
    "\n",
    "We use ' ' '….. Comment ….' ' ' for writing multi-line comments in Python (Use lines enclosed with three quotes for writing multi-line comments). \n",
    "\n",
    "An example of a multi-line comment is shown below:\n",
    "\n",
    "import os\n",
    "'''This is a comment\n",
    "Author: Harry\n",
    "Date: 27 November 2020\n",
    "Multi-line comment ends here\n",
    "'''\n",
    "print(\"Main code started\")\n",
    "\n",
    "#Now I will write my code here:\n",
    "print(os.listdir())\n",
    "----------------------------------------------------------------------------------------------------------------------------\n",
    "Why Comments are important?\n",
    "\n",
    "i)Comments in Python is the inclusion of short descriptions along with the code to increase its readability. A developer uses them to write his or her thought process while writing the code. It explains the basic logic behind why a particular line of code was written. \n",
    "\n",
    "ii)They are just meant for the coders themselves or other developers to understand a piece of code, especially since the Python interpreter completely ignores comments in Python."
   ]
  },
  {
   "cell_type": "markdown",
   "id": "ccfc63c9",
   "metadata": {},
   "source": [
    "# 5. How to comment on multiple lines in python?"
   ]
  },
  {
   "cell_type": "raw",
   "id": "bf6d9940",
   "metadata": {},
   "source": [
    "For multiple lines comment we use Single Triple quotes(''') at start of comment and at the end also (''')\n",
    "or we can use Double Triple quotes(\"\"\") at start of comment and at the end also (\"\"\")\n",
    "\n",
    "For e.g.\n",
    "\n",
    "i) '''Comments in Python is the inclusion of short descriptions along with the code to increase its readability. A developer uses them to write his or her thought process while writing the code. It explains the basic logic behind why a particular line of code was written.'''\n",
    "\n",
    "ii)\"\"\" They are just meant for the coders themselves or other developers to understand a piece of code, especially since the Python interpreter completely ignores comments in Python.\"\"\""
   ]
  },
  {
   "cell_type": "markdown",
   "id": "539f3ca1",
   "metadata": {},
   "source": [
    "# 6. What do you mean by Python literals?\n"
   ]
  },
  {
   "cell_type": "raw",
   "id": "ffcd2f73",
   "metadata": {},
   "source": [
    "Python Literals:\n",
    "Generally, literals are a notation for representing a fixed value in source code. They can also be defined as raw values or data given in variables or constants. Python has different types of literal such as:\n",
    "\n",
    "String literals\n",
    "Numeric literals\n",
    "Boolean literals\n",
    "Literal Collections\n",
    "Special literals\n"
   ]
  },
  {
   "cell_type": "markdown",
   "id": "20b286e8",
   "metadata": {},
   "source": [
    "# 7. What are different ways to assign value to variables?"
   ]
  },
  {
   "cell_type": "raw",
   "id": "7c265927",
   "metadata": {},
   "source": [
    "Method 1: Direct Initialisation Method \n",
    "    In Python, there is no need for explicit declaration in variables as compared to using some other programming languages. You can start using the variable right away.\n",
    "    \n",
    "    # initialising variable directly\n",
    "a = 5\n",
    " \n",
    "# printing value of a\n",
    "print (\"The value of a is: \" + str(a))\n",
    "------------------------------------------------------------------------------------------------------------\n",
    "\n",
    "Method 2: Assigning multiple values to different variables :\n",
    "\n",
    "Unlike other languages we can easily assign values to multiple variables in python easily.\n",
    "\n",
    " Assigning multiple values in single line\n",
    "  e.g.\n",
    "     a,b,c=\"geeks\",\"for\",\"geeks\"\n",
    "-------------------------------------------------------------------------------------------------------------------\n",
    "Method 3:Using Conditional Operator (?:)\n",
    "\n",
    "This method is also called Ternary operators. So Basic Syntax of Conditional Operator is:-\n",
    "\n",
    "                                         condition? True_value : False_Value\n",
    "\n",
    "Using Conditional Operator, you can write one line code in python. The conditional operator works in such a way that first evaluates the condition, if  condition is true , first expression( True_value) will print else evaluates the second expression(False_Value).\n",
    "\n",
    "# Initialising variables using Conditional Operator\n",
    "a = 1 if 20 > 10 else 0\n",
    "\n"
   ]
  },
  {
   "cell_type": "markdown",
   "id": "4a4b1192",
   "metadata": {},
   "source": [
    "# 8. What are the Escape Characters in python?"
   ]
  },
  {
   "cell_type": "raw",
   "id": "e2aed27d",
   "metadata": {},
   "source": [
    "Escape Sequence Character:\n",
    "\n",
    "An Escape Sequence character in Python is a sequence of characters that represents a single character.\n",
    "It doesn't represent itself when used inside string literal or character.\n",
    "It is composed of two or more characters starting with backslash \\ but acts as a single character. Example \\n depicts a new line character.\n",
    "\n",
    "Some more examples of escape sequence characters are shown below:\n",
    "\n",
    "\\n: Inserts a new line in the text at the point\n",
    "\\\\:\tInserts a backslash character in the text at the point\n",
    "\\\":\tInserts a double quote character in the text at that point\n",
    "\\':\tInserts a single quote character in the text at that point\n",
    "\\t:\tInserts a tab in the text at that point\n",
    "\\f:\tInserts a form feed ln the text at that point\n",
    "\\r:\tInserts a carriage return in the text at that point\n",
    "\\b:\tInserts a backspace in the text at that point"
   ]
  },
  {
   "cell_type": "markdown",
   "id": "b8d2c209",
   "metadata": {},
   "source": [
    "# 9. Which are the different ways to perform string formatting? Explain with example.\n"
   ]
  },
  {
   "cell_type": "raw",
   "id": "0da14603",
   "metadata": {},
   "source": [
    "String formatting:\n",
    "\n",
    "String formatting is the process of inserting a custom string or variable in predefined text. \n",
    "------------------------------------------------------------------------------------\n",
    "Method 1: Formatting string using .format() method\n",
    "\n",
    "    for handling complex string formatting more efficiently. Formatters work by putting in one or more replacement fields and placeholders defined by a pair of curly braces { } into a string and calling the str.format(). \n",
    "    \n",
    "Example:\n",
    "a = 15\n",
    "b = 5\n",
    "add = a + b\n",
    "print(\"Addition of a = {} and b = {} is {}\".format(a,b,add)) # correct sequence\n",
    "\n",
    "----------------------------------------------------------------------------------------\n",
    "Method 3: Formatted String using F-strings\n",
    "\n",
    "    To create an f-string, prefix the string with the letter “ f ”. The string itself can be formatted in much the same way that you would with str.format(). F-strings provide a concise and convenient way to embed python expressions inside string literals for formatting.\n",
    "    \n",
    "Example:\n",
    "name = 'Tushar'\n",
    "age = 23\n",
    "print(f\"Hello, My name is {name} and I'm {age} years old.\")\n",
    "-------------------------------------------------------------------------------------------\n",
    "Method 3: Formatting string using % Operator\n",
    "    It is the oldest method of string formatting. Here we use the modulo % operator. The modulo % is also known as the “string-formatting operator”.\n",
    "    ‘%s’ is used to inject strings similarly ‘%d’ for integers, ‘%f’ for floating-point values, ‘%b’ for binary format.\n",
    "\n",
    "Example:\n",
    "a = 15.5  # float\n",
    "b = 5    # int\n",
    "add = a + b  #int\n",
    "print(\"Addition of %f and %d is %f\" %(a,b,add))"
   ]
  },
  {
   "cell_type": "markdown",
   "id": "43f31e80",
   "metadata": {},
   "source": [
    "# 10. Write a program to print every character of a string entered by the user in a new line using a loop?\n"
   ]
  },
  {
   "cell_type": "code",
   "execution_count": 1,
   "id": "31586e84",
   "metadata": {},
   "outputs": [
    {
     "name": "stdout",
     "output_type": "stream",
     "text": [
      "Enter any string: Python\n",
      "P\n",
      "y\n",
      "t\n",
      "h\n",
      "o\n",
      "n\n"
     ]
    }
   ],
   "source": [
    "str1 = input(\"Enter any string: \")\n",
    "for i in str1:\n",
    "    print(i)"
   ]
  },
  {
   "cell_type": "markdown",
   "id": "2b341a72",
   "metadata": {},
   "source": [
    "# 11. Write a program to find the length of the string \"machine learning\" with and without using len function?"
   ]
  },
  {
   "cell_type": "code",
   "execution_count": 3,
   "id": "9fcccbdc",
   "metadata": {},
   "outputs": [
    {
     "data": {
      "text/plain": [
       "16"
      ]
     },
     "execution_count": 3,
     "metadata": {},
     "output_type": "execute_result"
    }
   ],
   "source": [
    "#With len() function\n",
    "st1 = \"machine learning\"\n",
    "len(st1)"
   ]
  },
  {
   "cell_type": "code",
   "execution_count": 15,
   "id": "53f25167",
   "metadata": {},
   "outputs": [
    {
     "name": "stdout",
     "output_type": "stream",
     "text": [
      "Length of st1= machine learning string is 16\n"
     ]
    }
   ],
   "source": [
    "st1 = \"machine learning\"\n",
    "\n",
    "index = 0\n",
    "for i in st1:\n",
    "    index +=1\n",
    "print(f\"Length of st1= {st1} string is\",index)\n"
   ]
  },
  {
   "cell_type": "markdown",
   "id": "f340806f",
   "metadata": {},
   "source": [
    "# 12. Write a program to check if the word 'orange' is present in the \"This is orange juice\"?"
   ]
  },
  {
   "cell_type": "code",
   "execution_count": 2,
   "id": "ebac5c4b",
   "metadata": {},
   "outputs": [
    {
     "name": "stdout",
     "output_type": "stream",
     "text": [
      "Word orange is present\n"
     ]
    }
   ],
   "source": [
    "str1 = \"This is orange juice\"\n",
    "word = 'orange'\n",
    "\n",
    "if word in str1:\n",
    "    print(f\"Word {word} is present\")\n",
    "else:\n",
    "    print(f\"Word {word} not found\")\n",
    "\n"
   ]
  },
  {
   "cell_type": "code",
   "execution_count": 26,
   "id": "4c9d5d8d",
   "metadata": {},
   "outputs": [
    {
     "name": "stdout",
     "output_type": "stream",
     "text": [
      "Word 'orange' found\n"
     ]
    }
   ],
   "source": [
    "str1 = \"This is orange juice\"\n",
    "\n",
    "for i in str1:\n",
    "    if (i.startswith(\"o\") == True) or (i.endswith(\"ge\") == True):\n",
    "        print(\"Word \\'orange' found\")\n",
    "    "
   ]
  },
  {
   "cell_type": "code",
   "execution_count": 27,
   "id": "61ec7653",
   "metadata": {},
   "outputs": [
    {
     "name": "stdout",
     "output_type": "stream",
     "text": [
      "word orange is present\n"
     ]
    }
   ],
   "source": [
    "str1 = \"This is orange juice\"\n",
    "substring = 'orange'\n",
    "b = str1.find(substring)\n",
    "if b == -1 :\n",
    "    print(\"word not found\")\n",
    "else:\n",
    "    print(\"word orange is present\")\n",
    "\n"
   ]
  },
  {
   "cell_type": "markdown",
   "id": "9c0f3545",
   "metadata": {},
   "source": [
    "# 13. Write a program to find the number of vowels, consonants, digits, and white space characters in a string.\n"
   ]
  },
  {
   "cell_type": "code",
   "execution_count": 52,
   "id": "96ff6611",
   "metadata": {},
   "outputs": [
    {
     "name": "stdout",
     "output_type": "stream",
     "text": [
      "Total number of white spaces in given string are : [4]\n",
      "Total number of vowels in given string are : 9\n",
      "Total number of consonants in given string are : 24\n"
     ]
    }
   ],
   "source": [
    "str1 = \"Machine Learning and Python class\"                   # Wrong method\n",
    "vowels = 0\n",
    "wspace = []\n",
    "consonants = 0\n",
    "str1.lower()\n",
    "\n",
    "for i in str1:\n",
    "    if (i == \"a\" or i == \"e\" or i ==\"i\" or i == \"o\" or i == \"u\"):\n",
    "        vowels +=1\n",
    "    else:\n",
    "        consonants +=1\n",
    "\n",
    "b = str1.count(\" \")\n",
    "wspace.append(b)\n",
    "print(\"Total number of white spaces in given string are :\",wspace)\n",
    "print(\"Total number of vowels in given string are :\",vowels)\n",
    "print(\"Total number of consonants in given string are :\",consonants)"
   ]
  },
  {
   "cell_type": "code",
   "execution_count": 59,
   "id": "abd865a6",
   "metadata": {},
   "outputs": [
    {
     "name": "stdout",
     "output_type": "stream",
     "text": [
      "Total number of vowels in a string are : 9\n",
      "Total number of white spaces in a string are : 4\n",
      "Total number of consonants in a string are : 20\n",
      "Total number of digits in a string are : 5\n"
     ]
    }
   ],
   "source": [
    "str1 = \"Machine1 Learning2 and3 Python4 class5\"\n",
    "vowels = 0\n",
    "wspace = 0\n",
    "consonants = 0\n",
    "digits = 0\n",
    "str1.lower()\n",
    "\n",
    "for i in str1:\n",
    "    if (i == \"a\" or i == \"e\" or i ==\"i\" or i == \"o\" or i == \"u\"):\n",
    "        vowels +=1\n",
    "    elif i.count(\" \"):\n",
    "        wspace +=1\n",
    "    elif i.isnumeric():\n",
    "        digits +=1\n",
    "    else:\n",
    "        consonants +=1\n",
    "\n",
    "\n",
    "print(\"Total number of vowels in a string are :\",vowels)\n",
    "print(\"Total number of white spaces in a string are :\",wspace)\n",
    "print(\"Total number of consonants in a string are :\",consonants)\n",
    "print(\"Total number of digits in a string are :\",digits)"
   ]
  },
  {
   "cell_type": "code",
   "execution_count": 5,
   "id": "7b7d2f6e",
   "metadata": {},
   "outputs": [
    {
     "name": "stdout",
     "output_type": "stream",
     "text": [
      "Total number of vowels in a string are : 9\n",
      "Total number of white spaces in a string are : 4\n",
      "Total number of consonants in a string are : 20\n",
      "Total number of digits in a string are : 5\n"
     ]
    }
   ],
   "source": [
    "str1 = \"Machine1 Learning2 and3 Python4 class5\"\n",
    "vowels = 0\n",
    "wspace = 0\n",
    "consonants = 0\n",
    "digits = 0\n",
    "vow = \"aeiouAEIOU\"\n",
    "str1.lower()\n",
    "\n",
    "for i in str1:\n",
    "    if i in vow :\n",
    "        vowels +=1\n",
    "    elif i.count(\" \"):\n",
    "        wspace +=1\n",
    "    elif i.isnumeric():\n",
    "        digits +=1\n",
    "    else:\n",
    "        consonants +=1\n",
    "\n",
    "\n",
    "print(\"Total number of vowels in a string are :\",vowels)\n",
    "print(\"Total number of white spaces in a string are :\",wspace)\n",
    "print(\"Total number of consonants in a string are :\",consonants)\n",
    "print(\"Total number of digits in a string are :\",digits)"
   ]
  },
  {
   "cell_type": "markdown",
   "id": "973b363c",
   "metadata": {},
   "source": [
    "# 14. Write a Python program to count Uppercase, Lowercase, special character,and numeric values in a given string?\n"
   ]
  },
  {
   "cell_type": "code",
   "execution_count": 6,
   "id": "18724600",
   "metadata": {},
   "outputs": [
    {
     "name": "stdout",
     "output_type": "stream",
     "text": [
      "Total count of Uppercase in given string are : 3\n",
      "Total count of Lowercase in given string are : 26\n",
      "Total count of  Numeric Value in given string are : 5\n",
      "Total count of Special Character in given string are : 11\n"
     ]
    }
   ],
   "source": [
    "str1 = \"Mac#hine1 L%earning2 an@d3 Pyt$hon4 c&la#!ss5\"\n",
    "uppercase = 0\n",
    "lowercase = 0\n",
    "numericv = 0\n",
    "specialch = 0\n",
    "\n",
    "for i in str1:\n",
    "    if i.isupper():\n",
    "        uppercase +=1\n",
    "    elif i.islower():\n",
    "        lowercase +=1\n",
    "    elif i.isnumeric():\n",
    "        numericv +=1\n",
    "    else:\n",
    "        specialch +=1\n",
    "\n",
    "\n",
    "print(\"Total count of Uppercase in given string are :\",uppercase)\n",
    "print(\"Total count of Lowercase in given string are :\",lowercase)\n",
    "print(\"Total count of  Numeric Value in given string are :\",numericv)\n",
    "print(\"Total count of Special Character in given string are :\",specialch)"
   ]
  },
  {
   "cell_type": "markdown",
   "id": "4d3bf0e9",
   "metadata": {},
   "source": [
    "# 15. Write a program to make a new string with all the consonants deleted from the string \"Hello, have a good day\"?"
   ]
  },
  {
   "cell_type": "code",
   "execution_count": 4,
   "id": "4e54331b",
   "metadata": {},
   "outputs": [
    {
     "name": "stdout",
     "output_type": "stream",
     "text": [
      "The main string is:  Machine Learning and Python class\n",
      "String after removal of consonants is : aieeaiaoa\n"
     ]
    }
   ],
   "source": [
    "str1 = \"Machine Learning and Python class\"\n",
    "\n",
    "print(\"The main string is: \",str1)\n",
    "\n",
    "res = []\n",
    "for chr in str1:\n",
    "    if chr in \"aeiouAEIOU\":\n",
    "        res.extend(chr)\n",
    "res = \"\".join(res)\n",
    "print(f\"String after removal of consonants is : {str(res)}\")\n",
    "        "
   ]
  },
  {
   "cell_type": "code",
   "execution_count": 7,
   "id": "6995b243",
   "metadata": {},
   "outputs": [
    {
     "name": "stdout",
     "output_type": "stream",
     "text": [
      "The main string is:  Machine Learning and Python class\n",
      "String after removal of consonants is : aieeaiaoa\n"
     ]
    }
   ],
   "source": [
    "str1 = \"Machine Learning and Python class\"\n",
    "\n",
    "print(\"The main string is: \",str1)\n",
    "\n",
    "res = []\n",
    "for chr in str1:\n",
    "    if chr in \"aeiouAEIOU\":\n",
    "        res.append(chr)\n",
    "res = \"\".join(res)\n",
    "print(f\"String after removal of consonants is : {str(res)}\")"
   ]
  },
  {
   "cell_type": "markdown",
   "id": "da4b419c",
   "metadata": {},
   "source": [
    "# 16. Write a Python program to remove the nth index character from a non-empty string?\n"
   ]
  },
  {
   "cell_type": "code",
   "execution_count": 1,
   "id": "83b7afb5",
   "metadata": {},
   "outputs": [
    {
     "name": "stdout",
     "output_type": "stream",
     "text": [
      "Modified string after removing  8 th character \n"
     ]
    },
    {
     "data": {
      "text/plain": [
       "'Machine Learning and Python class'"
      ]
     },
     "execution_count": 1,
     "metadata": {},
     "output_type": "execute_result"
    }
   ],
   "source": [
    "str1 = \"Machine LLearning and Python class\"\n",
    "n = 8\n",
    "print(\"Modified string after removing \", n, \"th character \")\n",
    "str2 = str1.replace(str1[n],\"\",1)\n",
    "str2\n"
   ]
  },
  {
   "cell_type": "markdown",
   "id": "1adc2b78",
   "metadata": {},
   "source": [
    "# 17. Write a Python program to change a given string to a new string where the first and last characters have been exchanged?"
   ]
  },
  {
   "cell_type": "code",
   "execution_count": 21,
   "id": "ded9f79a",
   "metadata": {},
   "outputs": [
    {
     "data": {
      "text/plain": [
       "'sachine Learning and Python clasM'"
      ]
     },
     "execution_count": 21,
     "metadata": {},
     "output_type": "execute_result"
    }
   ],
   "source": [
    "str1 = \"Machine Learning and Python class\"\n",
    "a = (str1[-1] + str1[1:-1] + str1[0])\n",
    "a\n"
   ]
  },
  {
   "cell_type": "code",
   "execution_count": 32,
   "id": "ddca3de9",
   "metadata": {},
   "outputs": [
    {
     "name": "stdout",
     "output_type": "stream",
     "text": [
      "sachine Learning and Python clasM\n"
     ]
    }
   ],
   "source": [
    "str1 = \"Machine Learning and Python class\"\n",
    "\n",
    "start = str1[0]\n",
    "end = str1[-1]\n",
    "\n",
    "swapped_string = end + str1[1:-1] + start\n",
    "print(swapped_string)\n"
   ]
  },
  {
   "cell_type": "markdown",
   "id": "23619e8e",
   "metadata": {},
   "source": [
    "# 18. Write a Python program to count the occurrences of each word in a given sentence?"
   ]
  },
  {
   "cell_type": "code",
   "execution_count": 36,
   "id": "3d0d71d3",
   "metadata": {},
   "outputs": [
    {
     "name": "stdout",
     "output_type": "stream",
     "text": [
      "Enter any sentence: Hello and be Hello be be and be and Hello\n",
      "Enter any word: be\n",
      "Count of the word is: 4\n"
     ]
    }
   ],
   "source": [
    "sentence = input(\"Enter any sentence: \")\n",
    "word = input(\"Enter any word: \")\n",
    "\n",
    "a = []\n",
    "\n",
    "count = 0\n",
    "a = sentence.split(\" \")\n",
    "\n",
    "for i in range(0, len(a)):\n",
    "    if (word == a[i]):\n",
    "        count +=1\n",
    "print(\"Count of the word is:\",count)\n"
   ]
  },
  {
   "cell_type": "code",
   "execution_count": 37,
   "id": "675613bc",
   "metadata": {},
   "outputs": [
    {
     "name": "stdout",
     "output_type": "stream",
     "text": [
      "Enter any sentence: Hello and be Hello be be and be and Hello\n",
      "Enter any word: and\n",
      "Count of the word is:3\n"
     ]
    }
   ],
   "source": [
    "sentence = input(\"Enter any sentence: \")\n",
    "word = input(\"Enter any word: \")\n",
    "\n",
    "a = sentence.split()\n",
    "count = 0\n",
    "\n",
    "for i in a:\n",
    "    if i == word:\n",
    "        count +=1\n",
    "print(f\"Count of the word is:{count}\")"
   ]
  },
  {
   "cell_type": "markdown",
   "id": "12a53a68",
   "metadata": {},
   "source": [
    "# 19. How do you count the occurrence of a given character in a string?"
   ]
  },
  {
   "cell_type": "code",
   "execution_count": null,
   "id": "b6674e2e",
   "metadata": {},
   "outputs": [],
   "source": [
    "You can find the count of total occurrences of a character in a string by following the approach below:\n",
    "\n",
    "1.Initialize a counter variable to store the count of total occurrences of a character in a string.\n",
    "2.Traverse the string character by character.\n",
    "3.If the character of the string matches with the given character, increment the value of the count variable.\n",
    "4.Finally, return the counter variable."
   ]
  },
  {
   "cell_type": "code",
   "execution_count": 48,
   "id": "7861edc7",
   "metadata": {},
   "outputs": [
    {
     "name": "stdout",
     "output_type": "stream",
     "text": [
      "Enter any string: she sells seashells by the seashore\n",
      "Enter any character: s\n",
      "Character s has occured 8 times in the given string.\n"
     ]
    }
   ],
   "source": [
    "str1 = input(\"Enter any string: \")   \n",
    "ch = input(\"Enter any character: \")\n",
    "\n",
    "def occurrence(str1,ch):\n",
    "    count = 0\n",
    "\n",
    "    for i in str1:\n",
    "        if ch == i:\n",
    "            count +=1\n",
    "    return count\n",
    "\n",
    "print(\"Character\", ch, \"has occured\",occurrence(str1, ch),\"times in the given string.\")\n",
    "        "
   ]
  },
  {
   "cell_type": "markdown",
   "id": "f0f849dc",
   "metadata": {},
   "source": [
    "# 20. Write a program to find last 10 characters of a string?"
   ]
  },
  {
   "cell_type": "code",
   "execution_count": 66,
   "id": "95ebb59b",
   "metadata": {},
   "outputs": [
    {
     "name": "stdout",
     "output_type": "stream",
     "text": [
      "Machine Learning and Python class\n",
      "thon class\n"
     ]
    }
   ],
   "source": [
    "Str = \"Machine Learning and Python class\"\n",
    "N = 10\n",
    "print(Str)\n",
    "length = len(Str)\n",
    "str2 = Str[length - N:]\n",
    "print(str2)\n",
    "      "
   ]
  },
  {
   "cell_type": "markdown",
   "id": "5fc14a1e",
   "metadata": {},
   "source": [
    "# 21. WAP to convert a given string to all uppercase if it contains at least 2 uppercase characters in the first 4 characters.\n"
   ]
  },
  {
   "cell_type": "code",
   "execution_count": 1,
   "id": "1f42b990",
   "metadata": {},
   "outputs": [
    {
     "name": "stdout",
     "output_type": "stream",
     "text": [
      "MAMCHINE LEARNING AND PYTHON CLASS\n"
     ]
    }
   ],
   "source": [
    "str1 = \"MaMchine Learning and Python class\"\n",
    "new_str = str1[0:4]\n",
    "new_str\n",
    "\n",
    "count = 0\n",
    "\n",
    "for i in new_str:\n",
    "    if i.isupper():\n",
    "        count +=1\n",
    "# print(count)\n",
    "if count >=2:\n",
    "    print(str1.upper())\n",
    "# print(new_str)\n",
    "    "
   ]
  },
  {
   "cell_type": "markdown",
   "id": "3cce6a3b",
   "metadata": {},
   "source": [
    "# 22 . Write a Python program to remove a newline in Python"
   ]
  },
  {
   "cell_type": "code",
   "execution_count": 2,
   "id": "ac47e94c",
   "metadata": {},
   "outputs": [
    {
     "data": {
      "text/plain": [
       "'Like many other popular programming languages, strings in Python are arrays of bytes representing unicode characters.However, Python does not have a character data type, a single character is simply a string with a length of 1.Square brackets can be used to access elements of the string.  '"
      ]
     },
     "execution_count": 2,
     "metadata": {},
     "output_type": "execute_result"
    }
   ],
   "source": [
    "str1 = \"\"\"Like many other popular programming languages, strings in Python are arrays of bytes representing unicode characters.\n",
    "\n",
    "However, Python does not have a character data type, a single character is simply a string with a length of 1.\n",
    "\n",
    "Square brackets can be used to access elements of the string.  \"\"\"\n",
    "\n",
    "str1.replace(\"\\n\",\"\" )"
   ]
  },
  {
   "cell_type": "code",
   "execution_count": 3,
   "id": "35b027ee",
   "metadata": {},
   "outputs": [
    {
     "data": {
      "text/plain": [
       "'Like many other popular programming languages, strings in Python are arrays of bytes representing unicode characters. However, Python does not have a character data type, a single character is simply a string with a length of 1. Square brackets can be used to access elements of the string.'"
      ]
     },
     "execution_count": 3,
     "metadata": {},
     "output_type": "execute_result"
    }
   ],
   "source": [
    "str1 = \"\"\"Like many other popular programming languages, strings in Python are arrays of bytes representing unicode characters.\n",
    "\n",
    "However, Python does not have a character data type, a single character is simply a string with a length of 1.\n",
    "\n",
    "Square brackets can be used to access elements of the string.  \"\"\".split()\n",
    "\n",
    "lst = str1\n",
    "\" \".join(lst)"
   ]
  },
  {
   "cell_type": "code",
   "execution_count": 12,
   "id": "efdf13aa",
   "metadata": {},
   "outputs": [
    {
     "name": "stdout",
     "output_type": "stream",
     "text": [
      "Like many other popular programming languages, strings in Python are arrays of bytes representing unicode characters.\n",
      "However, Python does not have a character data type, a single character is simply a string with a length of 1.\n",
      "Square brackets can be used to access elements of the string.  \n"
     ]
    }
   ],
   "source": [
    "str1 = \"\"\"Like many other popular programming languages, strings in Python are arrays of bytes representing unicode characters.\n",
    "\n",
    "However, Python does not have a character data type, a single character is simply a string with a length of 1.\n",
    "\n",
    "Square brackets can be used to access elements of the string.  \"\"\"\n",
    "\n",
    "\n",
    "lst1 = str1.split(\"\\n\")\n",
    "for line in lst1:\n",
    "    if line != \"\":\n",
    "        print(line)\n"
   ]
  },
  {
   "cell_type": "markdown",
   "id": "578b7fd9",
   "metadata": {},
   "source": [
    "# 23. Write a Python program to swap commas and dots in a string\n",
    "○ Sample string: \"32.054,23\"\n",
    "○ Expected Output: \"32,054.23\"\n"
   ]
  },
  {
   "cell_type": "code",
   "execution_count": 52,
   "id": "b3311eaf",
   "metadata": {},
   "outputs": [
    {
     "name": "stdout",
     "output_type": "stream",
     "text": [
      "32,054.23\n"
     ]
    }
   ],
   "source": [
    "str1 = \"32.054,23\"\n",
    "\n",
    "def Rep(str1):\n",
    "    str1 = str1.replace(\".\",\"a\")\n",
    "    str1 = str1.replace(\",\",\".\")\n",
    "    str1 = str1.replace(\"a\",\",\")\n",
    "    return str1  \n",
    "print(Rep(str1))   "
   ]
  },
  {
   "cell_type": "markdown",
   "id": "e0ce89c9",
   "metadata": {},
   "source": [
    "# 24. Write a Python program to find the first repeated character in a given string"
   ]
  },
  {
   "cell_type": "code",
   "execution_count": 125,
   "id": "70c6a0d9",
   "metadata": {},
   "outputs": [
    {
     "name": "stdout",
     "output_type": "stream",
     "text": [
      "Enter the string:MaMchine Learning and Python class\n",
      "First repeated char is:2 and character is M\n"
     ]
    }
   ],
   "source": [
    "#Machine Learning and Python class\n",
    "\n",
    "str1 = input(\"Enter the string: \")\n",
    "for i in range(0,len(str1)):\n",
    "    \n",
    "    first_repeated_ch = str1.count(str1[i])\n",
    "    if(first_repeated_ch > 1):\n",
    "        break\n",
    "print(f\"First repeated char is:{first_repeated_ch} and character is {str1[i]}\".format(first_repeated_count,str_24[i]))"
   ]
  },
  {
   "cell_type": "markdown",
   "id": "a7a43dd8",
   "metadata": {},
   "source": [
    "# 25. Write a Python program to find the second most repeated word in a given string\n"
   ]
  },
  {
   "cell_type": "code",
   "execution_count": 10,
   "id": "61f14b38",
   "metadata": {},
   "outputs": [
    {
     "name": "stdout",
     "output_type": "stream",
     "text": [
      "Second most repeated word in given string is: he\n"
     ]
    }
   ],
   "source": [
    "#Machine and Learning Machine and Python and class\n",
    "\n",
    "# str1 = input(\"Enter the string: \")\n",
    "str1 = \"I told him he is not ok , but he repeatedly said that he is o\"\n",
    "st_list = str1.split(\" \")\n",
    "\n",
    "for i in range(1,len(st_list)):\n",
    "    \n",
    "    second_repeated_word = st_list.count(st_list[i])\n",
    "    if(second_repeated_word >= 2):\n",
    "        break\n",
    "print(f\"Second most repeated word in given string is: {st_list[i]}\")"
   ]
  },
  {
   "cell_type": "code",
   "execution_count": 11,
   "id": "9901651c",
   "metadata": {},
   "outputs": [
    {
     "name": "stdout",
     "output_type": "stream",
     "text": [
      "lst1:  ['Machine', 'and', 'Learning', 'Machine', 'and', 'Python', 'and', 'class']\n",
      "lst2:  ['and', 'Machine']\n",
      "lst3:  [1, 0]\n",
      "Second most repeated word in str1 is:  Machine\n"
     ]
    }
   ],
   "source": [
    "str1=\"Machine and Learning Machine and Python and class\"\n",
    "lst1=str1.split(\" \") #Creating a list by spliting str1 by space\n",
    "set1=set(lst1) #converting lst1 to set to remove repeated words\n",
    "lst2= [] #Empty lst2\n",
    "lst3=[] #Empty lst3\n",
    "#For getting the repeated words only from the str1\n",
    "for i in set1:\n",
    "     if str1.count(i)>=2:\n",
    "            lst2.append(i)\n",
    "#For getting index of repeated words from lst1            \n",
    "for y in lst2:\n",
    "    lst3.append(lst1.index(y))\n",
    "    \n",
    "#Print not needed but printing just for reference\n",
    "print(\"lst1: \",lst1) #str1 to lst1 split by space\n",
    "print(\"lst2: \",lst2) #repeted words from the str1\n",
    "print(\"lst3: \",lst3) #index of repeated words from lst1\n",
    "\n",
    "#printing second most repeated word\n",
    "print(\"Second most repeated word in str1 is: \", lst1[int(lst3[1])])"
   ]
  },
  {
   "cell_type": "markdown",
   "id": "7c6fee9c",
   "metadata": {},
   "source": [
    "# 26. Python program to Count Even and Odd numbers in a string"
   ]
  },
  {
   "cell_type": "code",
   "execution_count": 187,
   "id": "80548ba1",
   "metadata": {},
   "outputs": [
    {
     "name": "stdout",
     "output_type": "stream",
     "text": [
      "7\n",
      "6\n"
     ]
    }
   ],
   "source": [
    "Str1 = \"2345670882393\"\n",
    "count_even=0\n",
    "count_odd=0\n",
    "\n",
    "for i in Str1:\n",
    "    if int(i)%2 ==0:\n",
    "        count_even +=1\n",
    "    else:\n",
    "        count_odd +=1\n",
    "print(count_even)\n",
    "print(count_odd)"
   ]
  },
  {
   "cell_type": "markdown",
   "id": "01ba464f",
   "metadata": {},
   "source": [
    "# 27. How do you check if a string contains only digits?"
   ]
  },
  {
   "cell_type": "code",
   "execution_count": 150,
   "id": "11186e47",
   "metadata": {},
   "outputs": [
    {
     "name": "stdout",
     "output_type": "stream",
     "text": [
      "Str1 contains all numbers\n"
     ]
    }
   ],
   "source": [
    "str1 = \"8121823\"\n",
    "\n",
    "if str1.isdigit():\n",
    "    print(\"Str1 contains all numbers\")\n",
    "else:\n",
    "    print(\"Str1 doesn't contains all numbers\")"
   ]
  },
  {
   "cell_type": "markdown",
   "id": "67d1d79b",
   "metadata": {},
   "source": [
    "# 28. How do you remove a given character/word from String?\n"
   ]
  },
  {
   "cell_type": "code",
   "execution_count": 163,
   "id": "113d3916",
   "metadata": {},
   "outputs": [
    {
     "name": "stdout",
     "output_type": "stream",
     "text": [
      "Enter the string: Machine Learning and Python class\n",
      "Enter any character/word from string: M\n",
      "String after removing character/word from string:  achine Learning and Python class\n"
     ]
    }
   ],
   "source": [
    "str1 = input(\"Enter the string: \")\n",
    "ch = input(\"Enter any character/word from string: \")\n",
    "    \n",
    "res_str = str1.replace(ch, '') \n",
    "   # removes all occurrences of given character/word \n",
    "print(\"String after removing character/word from string: \",res_str) \n",
    "    \n"
   ]
  },
  {
   "cell_type": "markdown",
   "id": "7b24637e",
   "metadata": {},
   "source": [
    "# 29. Write a Python program to remove the characters which have odd index values of a given string"
   ]
  },
  {
   "cell_type": "code",
   "execution_count": 183,
   "id": "bf8378b9",
   "metadata": {},
   "outputs": [
    {
     "name": "stdout",
     "output_type": "stream",
     "text": [
      "Enter the string: Hello Appu\n",
      "Original String :   Hello Appu\n",
      "Final String :      HloAp\n"
     ]
    }
   ],
   "source": [
    "str1 = input(\"Enter the string: \")\n",
    "\n",
    "str2 = ''\n",
    "i = 0\n",
    "\n",
    "while (i < len(str1)):\n",
    "    if(i % 2 == 0):\n",
    "        str2 = str2 + str1[i]   #str2 += str1[i]\n",
    "    i +=1\n",
    "        \n",
    "print(\"Original String :  \", str1)\n",
    "print(\"Final String :     \", str2)\n",
    "    "
   ]
  },
  {
   "cell_type": "markdown",
   "id": "f8a29690",
   "metadata": {},
   "source": [
    "# 30. Write a Python function to reverses a string if its length is a multiple of 5"
   ]
  },
  {
   "cell_type": "code",
   "execution_count": 185,
   "id": "2f0e170e",
   "metadata": {},
   "outputs": [
    {
     "name": "stdout",
     "output_type": "stream",
     "text": [
      "Enter the string: Hello\n",
      "Original String :   Hello\n",
      "Final String :      olleH\n"
     ]
    }
   ],
   "source": [
    "str1 = input(\"Enter the string: \")\n",
    "\n",
    "str2 = ''\n",
    "i = 0\n",
    "\n",
    "while (i < len(str1)):\n",
    "    if(i % 5 == 0):\n",
    "        str2 = str1[::-1]\n",
    "    i +=1\n",
    "        \n",
    "print(\"Original String :  \", str1)\n",
    "print(\"Final String :     \", str2)"
   ]
  },
  {
   "cell_type": "markdown",
   "id": "65dee848",
   "metadata": {},
   "source": [
    "# 31. Write a Python program to format a number with a percentage(0.05 >> 5%)"
   ]
  },
  {
   "cell_type": "code",
   "execution_count": 201,
   "id": "b5b8325f",
   "metadata": {},
   "outputs": [
    {
     "name": "stdout",
     "output_type": "stream",
     "text": [
      "5 %\n"
     ]
    }
   ],
   "source": [
    "n= 0.05\n",
    "\n",
    "b = print(int(n*100),\"%\")\n",
    "b"
   ]
  },
  {
   "cell_type": "markdown",
   "id": "abba4538",
   "metadata": {},
   "source": [
    "# 32. Write a Python program to reverse words in a string"
   ]
  },
  {
   "cell_type": "code",
   "execution_count": 208,
   "id": "5ce85095",
   "metadata": {},
   "outputs": [
    {
     "data": {
      "text/plain": [
       "'nnp lxdo efgh abcd'"
      ]
     },
     "execution_count": 208,
     "metadata": {},
     "output_type": "execute_result"
    }
   ],
   "source": [
    "st1 = \"abcd efgh lxdo nnp\"\n",
    "st2 = list(st1.split(\" \"))\n",
    "st2.reverse()\n",
    "\" \".join(st2)"
   ]
  },
  {
   "cell_type": "markdown",
   "id": "8053b3e6",
   "metadata": {},
   "source": [
    "# 33. Write a Python program to swap cases of a given string"
   ]
  },
  {
   "cell_type": "code",
   "execution_count": 202,
   "id": "1dc4c06f",
   "metadata": {},
   "outputs": [
    {
     "data": {
      "text/plain": [
       "'AAAbbb'"
      ]
     },
     "execution_count": 202,
     "metadata": {},
     "output_type": "execute_result"
    }
   ],
   "source": [
    "str1 = \"aaaBBB\"\n",
    "str1.swapcase()"
   ]
  },
  {
   "cell_type": "markdown",
   "id": "2845b0a4",
   "metadata": {},
   "source": [
    "# 34. Write a Python program to remove spaces from a given string"
   ]
  },
  {
   "cell_type": "code",
   "execution_count": 3,
   "id": "a8f02b62",
   "metadata": {},
   "outputs": [
    {
     "data": {
      "text/plain": [
       "'abcdefghlxdonnp'"
      ]
     },
     "execution_count": 3,
     "metadata": {},
     "output_type": "execute_result"
    }
   ],
   "source": [
    "str1 = \"abcd efgh lxdo nnp\"\n",
    "st2 = str1.replace(\" \",\"\")\n",
    "st2\n"
   ]
  },
  {
   "cell_type": "markdown",
   "id": "3a1ebfb9",
   "metadata": {},
   "source": [
    "# 35.Write a Python program to remove duplicate characters of a given string"
   ]
  },
  {
   "cell_type": "code",
   "execution_count": 42,
   "id": "75a775be",
   "metadata": {},
   "outputs": [
    {
     "name": "stdout",
     "output_type": "stream",
     "text": [
      "Enter any string: Hello T-Rex olensodd Hello\n",
      "Helo T-Rxnsd\n"
     ]
    }
   ],
   "source": [
    "str1 =input(\"Enter any string: \")\n",
    "a = \"\"\n",
    "for ch in str1:\n",
    "    if ch not in a:\n",
    "        a+=ch\n",
    "print(a)"
   ]
  },
  {
   "cell_type": "markdown",
   "id": "aca533e8",
   "metadata": {},
   "source": [
    "# 36. Write a Python Program to find the area of a circle\n"
   ]
  },
  {
   "cell_type": "code",
   "execution_count": 46,
   "id": "7f7ea404",
   "metadata": {},
   "outputs": [
    {
     "name": "stdout",
     "output_type": "stream",
     "text": [
      "Enter radius of circle: 2\n",
      "Area of circle is 12.56\n"
     ]
    }
   ],
   "source": [
    "#Area of circle = π · r2 /PI *r *r / Value of PI is 3.14\n",
    "Pi = 3.14\n",
    "r = eval(input(\"Enter radius of circle: \"))\n",
    "area = Pi *r *r    \n",
    "print(f\"Area of circle is {area}\")\n",
    "\n"
   ]
  },
  {
   "cell_type": "markdown",
   "id": "caac8204",
   "metadata": {},
   "source": [
    "# 37. Python Program to find Sum of squares of first n natural numbers"
   ]
  },
  {
   "cell_type": "code",
   "execution_count": 72,
   "id": "752f2b0b",
   "metadata": {},
   "outputs": [
    {
     "name": "stdout",
     "output_type": "stream",
     "text": [
      "Enter any natural number: 2\n",
      "Sum of squares first 2 natural numbers is 5\n"
     ]
    }
   ],
   "source": [
    "#Natural numbers = all integers greater than 0 are natural numbers.\n",
    "# Formula = (N*(N+1)*(2*N+1))/6 \n",
    "\n",
    "\n",
    "n = eval(input(\"Enter any natural number: \"))\n",
    "def squaresum(n) :\n",
    "    return (n * (n + 1) * (2 * n + 1)) // 6\n",
    "print(f\"Sum of squares first {n} natural numbers is {squaresum(n)}\")\n",
    "    "
   ]
  },
  {
   "cell_type": "code",
   "execution_count": 84,
   "id": "07e2bb91",
   "metadata": {},
   "outputs": [
    {
     "name": "stdout",
     "output_type": "stream",
     "text": [
      "55\n"
     ]
    }
   ],
   "source": [
    "n = 5\n",
    "def squaresum(n) :\n",
    "    sm = 0\n",
    "    for i in range(1, n+1) :\n",
    "        sm = sm + (i * i)\n",
    "     \n",
    "    return sm\n",
    "print(squaresum(n))"
   ]
  },
  {
   "cell_type": "markdown",
   "id": "11b48e90",
   "metadata": {},
   "source": [
    "# 38. Python Program to find cube sum of first n natural numbers"
   ]
  },
  {
   "cell_type": "code",
   "execution_count": 88,
   "id": "df57cb16",
   "metadata": {},
   "outputs": [
    {
     "name": "stdout",
     "output_type": "stream",
     "text": [
      "Enter any natural number: 5\n",
      "Cube Sum of squares first 5 natural numbers is 225\n"
     ]
    }
   ],
   "source": [
    "# Formula = [n2 × (n + 1)2]/4\n",
    "\n",
    "n = eval(input(\"Enter any natural number: \"))\n",
    "def cubesum(n) :\n",
    "    return ((n * n) * (n + 1)*(n + 1)) / 4\n",
    "print(f\"Cube Sum of squares first {n} natural numbers is {int(cubesum(n))}\")"
   ]
  },
  {
   "cell_type": "code",
   "execution_count": 85,
   "id": "d7c25354",
   "metadata": {},
   "outputs": [
    {
     "name": "stdout",
     "output_type": "stream",
     "text": [
      "225\n"
     ]
    }
   ],
   "source": [
    "n = 5\n",
    "def cubesum(n) :\n",
    "    sm = 0\n",
    "    for i in range(1, n+1) :\n",
    "        sm = sm + (i * i *i)\n",
    "     \n",
    "    return sm\n",
    "print(cubesum(n))"
   ]
  },
  {
   "cell_type": "markdown",
   "id": "424fcac1",
   "metadata": {},
   "source": [
    "# 39. Python Program to find simple interest and compound interest\n"
   ]
  },
  {
   "cell_type": "markdown",
   "id": "9e6b1981",
   "metadata": {},
   "source": [
    "# Simple interest"
   ]
  },
  {
   "cell_type": "code",
   "execution_count": 96,
   "id": "ce2ace59",
   "metadata": {},
   "outputs": [
    {
     "name": "stdout",
     "output_type": "stream",
     "text": [
      "Enter principal amount: 3000\n",
      "Enter rate of interest: 1\n",
      "Enter period of time: 7\n",
      "Simple interest is 210.0\n"
     ]
    }
   ],
   "source": [
    "# Simple Interest Formula SI = (P × R ×T) / 100 , Here P=Principal , R = rate of interest , T = time\n",
    "p = eval(input(\"Enter principal amount: \"))\n",
    "r = eval(input(\"Enter rate of interest: \"))\n",
    "t = eval(input(\"Enter period of time: \"))\n",
    "# si = 0\n",
    "def simple_interest(p,t,r):\n",
    "    \n",
    "    si = (p * t * r)/100\n",
    "    return si\n",
    "print(f\"Simple interest is {simple_interest(p,t,r)}\")"
   ]
  },
  {
   "cell_type": "markdown",
   "id": "ab54f3fd",
   "metadata": {},
   "source": [
    "# Compound Interest"
   ]
  },
  {
   "cell_type": "code",
   "execution_count": 115,
   "id": "be76b338",
   "metadata": {},
   "outputs": [
    {
     "name": "stdout",
     "output_type": "stream",
     "text": [
      "Enter principal amount: 3000\n",
      "Enter rate of interest: 10.5\n",
      "Enter period of time: 3\n",
      "Compound interest is 1047.6978749999998\n"
     ]
    }
   ],
   "source": [
    "#Compound interest Formuls first step Amount = Principal(1 + Rate/100) time /  Compound Interest = Amount – Principal \n",
    "p = eval(input(\"Enter principal amount: \"))\n",
    "r = eval(input(\"Enter rate of interest: \"))\n",
    "t = eval(input(\"Enter period of time: \"))\n",
    "\n",
    "def compound_interest(p,t,r):\n",
    "    \n",
    "    Amount = p* (1 + r / 100)**t\n",
    "    CI = Amount - p\n",
    "    return CI\n",
    "print(\"Compound interest is\", compound_interest(p,t,r))"
   ]
  },
  {
   "cell_type": "code",
   "execution_count": 114,
   "id": "d1befbcb",
   "metadata": {},
   "outputs": [
    {
     "name": "stdout",
     "output_type": "stream",
     "text": [
      "Enter principal amount: 3000\n",
      "Enter rate of interest: 10.5\n",
      "Enter period of time: 3\n",
      "Compound interest is 1047\n"
     ]
    }
   ],
   "source": [
    "p = eval(input(\"Enter principal amount: \"))\n",
    "r = eval(input(\"Enter rate of interest: \"))\n",
    "t = eval(input(\"Enter period of time: \"))\n",
    "\n",
    "def compound_interest(p,t,r):\n",
    "    \n",
    "    Amount = p* (pow((1 + r / 100),t))\n",
    "    CI = Amount - p\n",
    "    return CI\n",
    "print(\"Compound interest is\", compound_interest(p,t,r))"
   ]
  },
  {
   "cell_type": "markdown",
   "id": "6f4283b9",
   "metadata": {},
   "source": [
    "# 40. Python program to check whether a number is Prime or not"
   ]
  },
  {
   "cell_type": "code",
   "execution_count": 120,
   "id": "c19a5882",
   "metadata": {},
   "outputs": [
    {
     "name": "stdout",
     "output_type": "stream",
     "text": [
      "Enter any number: 4\n",
      "4 is not prime number\n"
     ]
    }
   ],
   "source": [
    "n = eval(input(\"Enter any number: \"))\n",
    "if n <2:\n",
    "    print(f\"{n} is not prime numnber\")\n",
    "else:\n",
    "    for i in range(2,n):\n",
    "        if  n%i == 0:\n",
    "            print(f\"{n} is not prime number\")\n",
    "            break\n",
    "    else:\n",
    "        print(f\"{n} is prime number\")"
   ]
  }
 ],
 "metadata": {
  "kernelspec": {
   "display_name": "Python 3 (ipykernel)",
   "language": "python",
   "name": "python3"
  },
  "language_info": {
   "codemirror_mode": {
    "name": "ipython",
    "version": 3
   },
   "file_extension": ".py",
   "mimetype": "text/x-python",
   "name": "python",
   "nbconvert_exporter": "python",
   "pygments_lexer": "ipython3",
   "version": "3.11.0"
  }
 },
 "nbformat": 4,
 "nbformat_minor": 5
}
