{
 "cells": [
  {
   "cell_type": "markdown",
   "id": "d06d1e18",
   "metadata": {},
   "source": [
    "### 1. Write a Python program to read an entire text file"
   ]
  },
  {
   "cell_type": "code",
   "execution_count": 4,
   "id": "bab9e5cc",
   "metadata": {},
   "outputs": [
    {
     "name": "stdout",
     "output_type": "stream",
     "text": [
      "Time has come to introduce you a new chapter. \n",
      "Open your eyes discover the mythical creature.\n",
      "There's a wonderful place called tomorrowland.\n",
      "And it's only a dream away.\n",
      "And the moment you get to tomorrowland.\n",
      "You'll forget about today.\n",
      "You'll be walking on clouds.\n",
      "You'll forget every care.\n",
      "And your troubles, like bubbles, will vanish in air.\n",
      "Ask me how do you get to tomorrowland.\n",
      "Close your eyes, make a wish and you're there. \n",
      "\n",
      "\n"
     ]
    }
   ],
   "source": [
    "file = open(\"main.txt\")\n",
    "fn=file.read()\n",
    "print(fn)"
   ]
  },
  {
   "cell_type": "code",
   "execution_count": 5,
   "id": "1f42fb69",
   "metadata": {},
   "outputs": [
    {
     "name": "stdout",
     "output_type": "stream",
     "text": [
      "Time has come to introduce you a new chapter. \n",
      "Open your eyes discover the mythical creature.\n",
      "There's a wonderful place called tomorrowland.\n",
      "And it's only a dream away.\n",
      "And the moment you get to tomorrowland.\n",
      "You'll forget about today.\n",
      "You'll be walking on clouds.\n",
      "You'll forget every care.\n",
      "And your troubles, like bubbles, will vanish in air.\n",
      "Ask me how do you get to tomorrowland.\n",
      "Close your eyes, make a wish and you're there. \n",
      "\n",
      "\n"
     ]
    }
   ],
   "source": [
    "with open(\"main.txt\") as f:\n",
    "    a=f.read()\n",
    "    print(a)"
   ]
  },
  {
   "cell_type": "markdown",
   "id": "0e074284",
   "metadata": {},
   "source": [
    "### 2. Write a Python program to read the first n lines of a file"
   ]
  },
  {
   "cell_type": "code",
   "execution_count": 20,
   "id": "4838ec10",
   "metadata": {},
   "outputs": [
    {
     "name": "stdout",
     "output_type": "stream",
     "text": [
      "Enter n value: 5\n",
      "Time has come to introduce you a new chapter. \n",
      "Open your eyes discover the mythical creature.\n",
      "There's a wonderful place called tomorrowland.\n",
      "And it's only a dream away.\n",
      "And the moment you get to tomorrowland.\n"
     ]
    }
   ],
   "source": [
    "n = int(input(\"Enter n value: \"))\n",
    "with open(\"main.txt\") as f1:\n",
    "    ad=f1.readlines()\n",
    "for line in (ad[:n]):\n",
    "    print(line, end ='')    "
   ]
  },
  {
   "cell_type": "markdown",
   "id": "fe329191",
   "metadata": {},
   "source": [
    "### 3. Write a Python program to append text to a file and display the text\n"
   ]
  },
  {
   "cell_type": "code",
   "execution_count": 25,
   "id": "a68c1b7d",
   "metadata": {},
   "outputs": [
    {
     "name": "stdout",
     "output_type": "stream",
     "text": [
      "An aurora, also commonly known as the polar lights, is a natural light display in Earth's sky.\n"
     ]
    }
   ],
   "source": [
    "txt=\"An aurora, also commonly known as the polar lights, is a natural light display in Earth's sky.\"\n",
    "with open(\"sky.txt\",\"a\") as f2:\n",
    "    f2.write(txt)\n",
    "with open(\"sky.txt\") as fs:\n",
    "    as1=fs.read()\n",
    "    print(as1)"
   ]
  },
  {
   "cell_type": "markdown",
   "id": "2b207863",
   "metadata": {},
   "source": [
    "### 4. Write a Python program to read the last n lines of a file"
   ]
  },
  {
   "cell_type": "code",
   "execution_count": 31,
   "id": "7eb094f4",
   "metadata": {},
   "outputs": [
    {
     "name": "stdout",
     "output_type": "stream",
     "text": [
      "Enter n value: 3\n",
      "Ask me how do you get to tomorrowland.\n",
      "Close your eyes, make a wish and you're there. \n",
      "\n"
     ]
    }
   ],
   "source": [
    "n = int(input(\"Enter n value: \"))\n",
    "with open(\"main.txt\") as f1:\n",
    "    ad=f1.readlines()\n",
    "for line in (ad[-n:]):\n",
    "    print(line, end ='') "
   ]
  },
  {
   "cell_type": "markdown",
   "id": "ad74acea",
   "metadata": {},
   "source": [
    "### 5. Write a Python program to read a file line by line and store it into a list\n"
   ]
  },
  {
   "cell_type": "code",
   "execution_count": 16,
   "id": "46c6bb99",
   "metadata": {},
   "outputs": [
    {
     "name": "stdout",
     "output_type": "stream",
     "text": [
      "[['Time has come to introduce you a new chapter. \\n', 'Open your eyes discover the mythical creature.\\n', \"There's a wonderful place called tomorrowland.\\n\", \"And it's only a dream away.\\n\", 'And the moment you get to tomorrowland.\\n', \"You'll forget about today.\\n\", \"You'll be walking on clouds.\\n\", \"You'll forget every care.\\n\", 'And your troubles, like bubbles, will vanish in air.\\n', 'Ask me how do you get to tomorrowland.\\n', \"Close your eyes, make a wish and you're there. \\n\", '\\n']]\n"
     ]
    }
   ],
   "source": [
    "lst=[]                            \n",
    "with open(\"main.txt\") as f:\n",
    "    x=f.readlines()\n",
    "    lst.append(x)\n",
    "print(lst)  "
   ]
  },
  {
   "cell_type": "code",
   "execution_count": 3,
   "id": "f8a01d8a",
   "metadata": {},
   "outputs": [
    {
     "name": "stdout",
     "output_type": "stream",
     "text": [
      "['Time has come to introduce you a new chapter.', 'Open your eyes discover the mythical creature.', \"There's a wonderful place called tomorrowland.\", \"And it's only a dream away.\", 'And the moment you get to tomorrowland.', \"You'll forget about today.\", \"You'll be walking on clouds.\", \"You'll forget every care.\", 'And your troubles, like bubbles, will vanish in air.', 'Ask me how do you get to tomorrowland.', \"Close your eyes, make a wish and you're there.\", '']\n"
     ]
    }
   ],
   "source": [
    "with open(\"main.txt\") as f:\n",
    "    lst1 = [line.rstrip() for line in f]\n",
    "print(lst1) "
   ]
  },
  {
   "cell_type": "markdown",
   "id": "bee0ef24",
   "metadata": {},
   "source": [
    "### 6. Write a Python program to count the number of lines in a text file"
   ]
  },
  {
   "cell_type": "code",
   "execution_count": 5,
   "id": "ba0e8aec",
   "metadata": {},
   "outputs": [
    {
     "name": "stdout",
     "output_type": "stream",
     "text": [
      "Total Number of lines: 12\n"
     ]
    }
   ],
   "source": [
    "with open(\"main.txt\") as fi1:\n",
    "    Num_lines = len(fi1.readlines())\n",
    "    print('Total Number of lines:', Num_lines)"
   ]
  },
  {
   "cell_type": "code",
   "execution_count": 14,
   "id": "f2cd5054",
   "metadata": {},
   "outputs": [
    {
     "name": "stdout",
     "output_type": "stream",
     "text": [
      "Total Number of lines: 12\n"
     ]
    }
   ],
   "source": [
    "with open(\"main.txt\") as f:\n",
    "    for i, val in enumerate(f):\n",
    "        pass\n",
    "print(f\"Total Number of lines: {i + 1}\")"
   ]
  },
  {
   "cell_type": "markdown",
   "id": "f228f6a2",
   "metadata": {},
   "source": [
    "### 7. Write a Python program to count the frequency of words in a file"
   ]
  },
  {
   "cell_type": "code",
   "execution_count": 70,
   "id": "be8f6ff4",
   "metadata": {},
   "outputs": [
    {
     "name": "stdout",
     "output_type": "stream",
     "text": [
      "{'An': 1, 'aurora,': 1, 'also': 1, 'commonly': 1, 'known': 1, 'as': 1, 'the': 1, 'polar': 1, 'lights,': 1, 'is': 1, 'a': 1, 'natural': 1, 'light': 1, 'display': 1, 'in': 1, \"Earth's\": 1, 'sky.': 1}\n"
     ]
    }
   ],
   "source": [
    "with open(\"sky.txt\") as f:    \n",
    "    a=f.read() \n",
    "lst = a.split()\n",
    "word_occurence_dict = {}\n",
    "for i in lst:\n",
    "    word_occurence_dict[i] = lst.count(i)\n",
    "print(word_occurence_dict)"
   ]
  },
  {
   "cell_type": "markdown",
   "id": "b3504df4",
   "metadata": {},
   "source": [
    "### 8. Write a Python program to copy the contents of a file to another file"
   ]
  },
  {
   "cell_type": "code",
   "execution_count": 19,
   "id": "bc6eb9c1",
   "metadata": {},
   "outputs": [],
   "source": [
    "with open(\"main.txt\") as f:\n",
    "    a1=f.readlines()\n",
    "    \n",
    "with open(\"sub_file.txt\",\"a\") as f1:\n",
    "     for lines in a1:\n",
    "            f1.write(lines)   "
   ]
  },
  {
   "cell_type": "code",
   "execution_count": 16,
   "id": "ef557bd9",
   "metadata": {},
   "outputs": [
    {
     "data": {
      "text/plain": [
       "'New_file.txt'"
      ]
     },
     "execution_count": 16,
     "metadata": {},
     "output_type": "execute_result"
    }
   ],
   "source": [
    "import shutil\n",
    "\n",
    "shutil.copyfile('main.txt','New_file.txt')"
   ]
  },
  {
   "cell_type": "markdown",
   "id": "366a2674",
   "metadata": {},
   "source": [
    "### 9. Write a Python script to display the various Date Time formats - Go to the editor\n",
    "\n"
   ]
  },
  {
   "cell_type": "raw",
   "id": "6a831dd3",
   "metadata": {},
   "source": [
    "a) Current date and time\n",
    "b) Current year\n",
    "c) Month of year\n",
    "d) Week number of the year\n",
    "e) Weekday of the week\n",
    "f) Day of year\n",
    "g) Day of the month\n",
    "h) Day of week"
   ]
  },
  {
   "cell_type": "code",
   "execution_count": 2,
   "id": "1639563a",
   "metadata": {},
   "outputs": [],
   "source": [
    "import datetime"
   ]
  },
  {
   "cell_type": "code",
   "execution_count": 10,
   "id": "425a911a",
   "metadata": {},
   "outputs": [
    {
     "name": "stdout",
     "output_type": "stream",
     "text": [
      "2023-04-21 23:45:27.169578\n"
     ]
    }
   ],
   "source": [
    "# a) Current date and time\n",
    "curr_dt = datetime.datetime.now()\n",
    "print(curr_dt)"
   ]
  },
  {
   "cell_type": "code",
   "execution_count": 11,
   "id": "f7fcfc5c",
   "metadata": {},
   "outputs": [
    {
     "name": "stdout",
     "output_type": "stream",
     "text": [
      "Current year :2023\n"
     ]
    }
   ],
   "source": [
    "# b) Current year\n",
    "curr_year = datetime.datetime.now().year\n",
    "print(f\"Current year :{curr_year}\")"
   ]
  },
  {
   "cell_type": "code",
   "execution_count": 12,
   "id": "c8ff31e7",
   "metadata": {},
   "outputs": [
    {
     "name": "stdout",
     "output_type": "stream",
     "text": [
      "Month of year: 4\n"
     ]
    }
   ],
   "source": [
    "# c) Month of year\n",
    "month_year = datetime.datetime.now().month\n",
    "print(f\"Month of year: {month_year}\")"
   ]
  },
  {
   "cell_type": "code",
   "execution_count": 15,
   "id": "1cb5f866",
   "metadata": {},
   "outputs": [
    {
     "name": "stdout",
     "output_type": "stream",
     "text": [
      "Week number of the year: 16\n"
     ]
    }
   ],
   "source": [
    "# d) Week number of the year\n",
    "curr_dt = datetime.datetime.now()\n",
    "week_nofyr = (curr_dt.strftime(\"%U\")) \n",
    "print(f\"Week number of the year: {week_nofyr}\")"
   ]
  },
  {
   "cell_type": "code",
   "execution_count": 25,
   "id": "35379e22",
   "metadata": {},
   "outputs": [
    {
     "name": "stdout",
     "output_type": "stream",
     "text": [
      "Weekday of the week: 5\n"
     ]
    }
   ],
   "source": [
    "# e) Weekday of the week\n",
    "curr_dt = datetime.datetime.now()\n",
    "weekday_ofwk = (curr_dt.strftime(\"%w\")) \n",
    "print(f\"Weekday of the week: {weekday_ofwk}\")"
   ]
  },
  {
   "cell_type": "code",
   "execution_count": 21,
   "id": "c5d8b99b",
   "metadata": {},
   "outputs": [
    {
     "name": "stdout",
     "output_type": "stream",
     "text": [
      "Day of year: 111\n"
     ]
    }
   ],
   "source": [
    "# f) Day of year\n",
    "curr_dt = datetime.datetime.now()\n",
    "day_ofyr = (curr_dt.strftime(\"%j\")) \n",
    "print(f\"Day of year: {day_ofyr}\")"
   ]
  },
  {
   "cell_type": "code",
   "execution_count": 22,
   "id": "2a986260",
   "metadata": {},
   "outputs": [
    {
     "name": "stdout",
     "output_type": "stream",
     "text": [
      "Day of the month: 21\n"
     ]
    }
   ],
   "source": [
    "# g) Day of the month\n",
    "curr_dt = datetime.datetime.now()\n",
    "day_ofmn = (curr_dt.strftime(\"%d\")) \n",
    "print(f\"Day of the month: {day_ofmn}\")"
   ]
  },
  {
   "cell_type": "code",
   "execution_count": 26,
   "id": "69f81ebb",
   "metadata": {},
   "outputs": [
    {
     "name": "stdout",
     "output_type": "stream",
     "text": [
      "Day of week: Friday\n"
     ]
    }
   ],
   "source": [
    "# h) Day of week\n",
    "curr_dt = datetime.datetime.now()\n",
    "day_ofwk = (curr_dt.strftime(\"%A\")) \n",
    "print(f\"Day of week: {day_ofwk}\")"
   ]
  },
  {
   "cell_type": "markdown",
   "id": "2124efbb",
   "metadata": {},
   "source": [
    "### 10. Write a Python program to determine whether a given year is a leap year"
   ]
  },
  {
   "cell_type": "code",
   "execution_count": 17,
   "id": "27bf407f",
   "metadata": {},
   "outputs": [
    {
     "name": "stdout",
     "output_type": "stream",
     "text": [
      "Enter any Year: 2024\n",
      "2024 is a Leap year\n"
     ]
    }
   ],
   "source": [
    "year = int(input(\"Enter any Year: \")) #working on it\n",
    "\n",
    "if ((year%400 == 0) or ((year%4 == 0 ) and (year%100 != 0))):\n",
    "    print(f\"{year} is a Leap year\")\n",
    "else:\n",
    "    print(f\"{year} is Not a Leap year\")"
   ]
  },
  {
   "cell_type": "markdown",
   "id": "98a013f7",
   "metadata": {},
   "source": [
    "### 11. Write a Python program to convert a string to datetime. Go to the editor\n",
    "\n"
   ]
  },
  {
   "cell_type": "raw",
   "id": "873d4d29",
   "metadata": {},
   "source": [
    "○ Sample String : Jan 1 2014 2:43PM\n",
    "○ Expected Output : 2014-07-01 14:43:00"
   ]
  },
  {
   "cell_type": "code",
   "execution_count": 14,
   "id": "8072a95a",
   "metadata": {},
   "outputs": [
    {
     "name": "stdout",
     "output_type": "stream",
     "text": [
      "Standard format date 2014-01-01 14:43:00\n",
      "Expected Output 2014-07-01 14:43:00\n"
     ]
    }
   ],
   "source": [
    "import datetime\n",
    "\n",
    "date_time = 'Jan 1 2014 2:43PM'\n",
    "std_dt = datetime.datetime.strptime(date_time, '%b %d %Y %I:%M%p')\n",
    "print(f\"Standard format date {std_dt}\")\n",
    "Ex_op=std_dt+datetime.timedelta(days= 181)\n",
    "print(f\"Expected Output {Ex_op}\")"
   ]
  },
  {
   "cell_type": "markdown",
   "id": "dbabb7aa",
   "metadata": {},
   "source": [
    "### 12. Write a Python program to subtract five days from current date"
   ]
  },
  {
   "cell_type": "code",
   "execution_count": 30,
   "id": "a47022b5",
   "metadata": {},
   "outputs": [],
   "source": [
    "import datetime"
   ]
  },
  {
   "cell_type": "code",
   "execution_count": 31,
   "id": "0e4d0c22",
   "metadata": {},
   "outputs": [
    {
     "name": "stdout",
     "output_type": "stream",
     "text": [
      "Current date is: 2023-04-19\n",
      "Substracted five days fron current date is: 2023-04-14\n"
     ]
    }
   ],
   "source": [
    "current_date= datetime.datetime.now().date()\n",
    "print(f\"Current date is: {current_date}\")\n",
    "\n",
    "sub_date= current_date + datetime.timedelta(days=-5)\n",
    "print(f\"Substracted five days fron current date is: {sub_date}\")"
   ]
  },
  {
   "cell_type": "markdown",
   "id": "15b15d5f",
   "metadata": {},
   "source": [
    "### 13. Write a Python program to print yesterday, today, tomorrow\n"
   ]
  },
  {
   "cell_type": "code",
   "execution_count": 33,
   "id": "9df2e585",
   "metadata": {},
   "outputs": [
    {
     "name": "stdout",
     "output_type": "stream",
     "text": [
      "Today's date = 2023-04-19\n",
      "Yesterday's date = 2023-04-18\n",
      "Tomorrow's date = 2023-04-20\n"
     ]
    }
   ],
   "source": [
    "today_date = datetime.datetime.today().date()\n",
    "print(f\"Today's date = {today_date}\")\n",
    "yesterday_date = today_date - timedelta(1)\n",
    "print(f\"Yesterday's date = {yesterday_date}\")\n",
    "tomorrow_date = today_date + timedelta(1)\n",
    "print(f\"Tomorrow's date = {tomorrow_date}\")"
   ]
  },
  {
   "cell_type": "markdown",
   "id": "5b46946c",
   "metadata": {},
   "source": [
    "### 14. Write a Python program to print next 5 days starting from today\n"
   ]
  },
  {
   "cell_type": "code",
   "execution_count": 15,
   "id": "ab447341",
   "metadata": {},
   "outputs": [
    {
     "name": "stdout",
     "output_type": "stream",
     "text": [
      "next5_date 2023-04-19\n",
      "next5_date 2023-04-20\n",
      "next5_date 2023-04-21\n",
      "next5_date 2023-04-22\n",
      "next5_date 2023-04-23\n"
     ]
    }
   ],
   "source": [
    "n = 5\n",
    "for i in range(n):\n",
    "    current_date = datetime.datetime.now().date()\n",
    "   \n",
    "    next5_date = current_date + datetime.timedelta(days=i)\n",
    "    print(\"next5_date\",next5_date)"
   ]
  },
  {
   "cell_type": "markdown",
   "id": "5d5b58d0",
   "metadata": {},
   "source": [
    "### 15. Write a Python program to drop microseconds from DateTime"
   ]
  },
  {
   "cell_type": "code",
   "execution_count": 34,
   "id": "9fb99dad",
   "metadata": {},
   "outputs": [
    {
     "name": "stdout",
     "output_type": "stream",
     "text": [
      "2023-04-19 17:52:30\n"
     ]
    }
   ],
   "source": [
    "curr_date = datetime.datetime.today().replace(microsecond=0)\n",
    "print(curr_date)"
   ]
  },
  {
   "cell_type": "markdown",
   "id": "db94ffab",
   "metadata": {},
   "source": [
    "### 16. Write a Python program to find the date of the first Monday of a given week"
   ]
  },
  {
   "cell_type": "code",
   "execution_count": 7,
   "id": "bdc48e65",
   "metadata": {},
   "outputs": [
    {
     "name": "stdout",
     "output_type": "stream",
     "text": [
      "Date of the first Monday of a given week is: 2023-05-01\n"
     ]
    }
   ],
   "source": [
    "import datetime\n",
    "\n",
    "def get_dt(week,year):\n",
    "    firmon= '1'\n",
    "    dt = datetime.datetime.strptime(year + week + firmon,\"%Y%U%w\").date()\n",
    "    return print(f\"Date of the first Monday of a given week is: {dt}\")\n",
    "\n",
    "get_dt('18','2023')"
   ]
  },
  {
   "cell_type": "markdown",
   "id": "e574b702",
   "metadata": {},
   "source": [
    "### 17. Write a Python program to select all the Sundays of a specified year"
   ]
  },
  {
   "cell_type": "code",
   "execution_count": 16,
   "id": "701f9b97",
   "metadata": {},
   "outputs": [
    {
     "name": "stdout",
     "output_type": "stream",
     "text": [
      "2023-01-01\n",
      "2023-01-01\n",
      "2023-01-08\n",
      "2023-01-15\n",
      "2023-01-22\n",
      "2023-01-29\n",
      "2023-02-05\n",
      "2023-02-12\n",
      "2023-02-19\n",
      "2023-02-26\n",
      "2023-03-05\n",
      "2023-03-12\n",
      "2023-03-19\n",
      "2023-03-26\n",
      "2023-04-02\n",
      "2023-04-09\n",
      "2023-04-16\n",
      "2023-04-23\n",
      "2023-04-30\n",
      "2023-05-07\n",
      "2023-05-14\n",
      "2023-05-21\n",
      "2023-05-28\n",
      "2023-06-04\n",
      "2023-06-11\n",
      "2023-06-18\n",
      "2023-06-25\n",
      "2023-07-02\n",
      "2023-07-09\n",
      "2023-07-16\n",
      "2023-07-23\n",
      "2023-07-30\n",
      "2023-08-06\n",
      "2023-08-13\n",
      "2023-08-20\n",
      "2023-08-27\n",
      "2023-09-03\n",
      "2023-09-10\n",
      "2023-09-17\n",
      "2023-09-24\n",
      "2023-10-01\n",
      "2023-10-08\n",
      "2023-10-15\n",
      "2023-10-22\n",
      "2023-10-29\n",
      "2023-11-05\n",
      "2023-11-12\n",
      "2023-11-19\n",
      "2023-11-26\n",
      "2023-12-03\n",
      "2023-12-10\n",
      "2023-12-17\n",
      "2023-12-24\n"
     ]
    }
   ],
   "source": [
    "import datetime\n",
    "yr='2023'\n",
    "n=52\n",
    "for wk in range(n+1):\n",
    "    print(datetime.datetime.strptime(yr + str(wk) + '0', '%Y%U%w').date())"
   ]
  },
  {
   "cell_type": "markdown",
   "id": "cc02988a",
   "metadata": {},
   "source": [
    "### 18. Write a Python program to create a file and write some text and rename the file name"
   ]
  },
  {
   "cell_type": "code",
   "execution_count": 40,
   "id": "f7eb91a7",
   "metadata": {},
   "outputs": [],
   "source": [
    "import os\n",
    "txt=\"\"\"Python too supports file handling and allows users to handle files i.e., \n",
    "     to read and write files, along with many other file handling options, to operate on files. \"\"\"\n",
    "with open(\"ad.txt\",\"w\") as f5:\n",
    "    f5.write(txt)\n",
    "    \n",
    "#Rename file name\n",
    "os.rename(\"ad.txt\",\"drip1.txt\")"
   ]
  },
  {
   "cell_type": "markdown",
   "id": "ba8af94d",
   "metadata": {},
   "source": [
    "### 19. What are different methods available in the OS module for creating a directory?"
   ]
  },
  {
   "cell_type": "code",
   "execution_count": null,
   "id": "1c901964",
   "metadata": {},
   "outputs": [],
   "source": [
    "The different methods available in the OS module for creating a directory are:\n",
    "    1. os.mkdir()\n",
    "    2. os.makedirs()\n",
    "    \n",
    "1. os.mkdir():\n",
    "    It is method in Python is used to create a directory named path with the specified numeric mode. \n",
    "    This method raises FileExistsError if the directory to be created already exists.\n",
    "\n",
    "Syntax:\n",
    "    os.mkdir(directory_name)\n",
    "    \n",
    "2. os.makedirs():\n",
    "    It is method in Python is used to create a directory recursively. \n",
    "    That means while making leaf directory if any intermediate-level directory is missing, os.makedirs() \n",
    "    method will create them all.\n",
    "    \n",
    "Syntax:\n",
    "    os.makedirs(folder_path) # To create multiple folder"
   ]
  },
  {
   "cell_type": "markdown",
   "id": "9d2012e4",
   "metadata": {},
   "source": [
    "### 20. Explain os.listdir() method."
   ]
  },
  {
   "cell_type": "raw",
   "id": "fab5d0c1",
   "metadata": {},
   "source": [
    "os.listdir():\n",
    "1. It is method in python is used to get the list of all files and directories in the specified directory. \n",
    "2. If we don’t specify any directory, then list of files and directories in the current working directory will be returned.\n",
    "3. This method returns the list of all files and directories in the specified path. The return type of this method is list.\n",
    "4. We have to import os library to use the listdir() function."
   ]
  },
  {
   "cell_type": "code",
   "execution_count": 14,
   "id": "ce008fa4",
   "metadata": {},
   "outputs": [
    {
     "data": {
      "text/plain": [
       "['.ipynb_checkpoints',\n",
       " 'Assignment-07(Datetime, OS Module, File and Exception Handling).pdf',\n",
       " 'Assignment-7.ipynb',\n",
       " 'drip1.txt',\n",
       " 'main.txt',\n",
       " 'New_file.txt',\n",
       " 'new_txt.txt',\n",
       " 'sky.txt',\n",
       " 'sub_file.txt']"
      ]
     },
     "execution_count": 14,
     "metadata": {},
     "output_type": "execute_result"
    }
   ],
   "source": [
    "Syntax:\n",
    "import os\n",
    "os.listdir(path)\n",
    "path (optional) : path of the directory"
   ]
  },
  {
   "cell_type": "markdown",
   "id": "4f4b5be1",
   "metadata": {},
   "source": [
    "### 21. What are different methods for removing directories and files in Python?\n"
   ]
  },
  {
   "cell_type": "code",
   "execution_count": null,
   "id": "0df8cc5c",
   "metadata": {},
   "outputs": [],
   "source": [
    "We have to import os to use os module functions and import shutil to use shutil functions\n",
    "----------------------------------------------------------------------------------------------------------------------\n",
    "\n",
    "1. os.remove():\n",
    "    It is method in Python is used to remove or delete a file path. \n",
    "    This method can not remove or delete a directory. \n",
    "    If the specified path is a directory then OSError will be raised by the method.\n",
    "    \n",
    "Syntax:\n",
    "    os.remove(file_name) # if file not exists then it will raise an error\n",
    "------------------------------------------------------------------------------------------------------------------------    \n",
    "2. os.rmdir():\n",
    "    It is method in Python is used to remove or delete an empty directory. \n",
    "    OSError will be raised if the specified path is not an empty directory.\n",
    "    \n",
    "Syntax:\n",
    "    os.rmdir(folder_path) # if dir/folder if not present then it will raise an file not found error\n",
    "    if folder not empty then it will not be removed and will raise error\n",
    "------------------------------------------------------------------------------------------------------------------------\n",
    "3. shutil.rmtree():  \n",
    "    It is used to delete an entire non empty and empty directory tree, a path must point to a directory.\n",
    "\n",
    "Syntax:\n",
    "    shutil.rmtree(folder_path) # removing not empty folder       "
   ]
  },
  {
   "cell_type": "markdown",
   "id": "e492b098",
   "metadata": {},
   "source": [
    "### 22. What are exceptions in Python?\n"
   ]
  },
  {
   "cell_type": "code",
   "execution_count": null,
   "id": "35a3c595",
   "metadata": {},
   "outputs": [],
   "source": [
    "Exceptions:\n",
    "    \n",
    "1. An exception is a Python object that represents an error.\n",
    "2. When a Python script raises an exception, it must either handle the exception immediately otherwise it terminates \n",
    "   and quits.\n",
    "3. An exception is an unexpected event that occurs during program execution."
   ]
  },
  {
   "cell_type": "markdown",
   "id": "de2d5c89",
   "metadata": {},
   "source": [
    "### 23. What are Built-in exceptions?"
   ]
  },
  {
   "cell_type": "code",
   "execution_count": null,
   "id": "ca03dba6",
   "metadata": {},
   "outputs": [],
   "source": [
    "Built-in exceptions:\n",
    "    The built-in exceptions can be generated by the interpreter or built-in functions.\n",
    "    There are several built-in exceptions in Python that are raised when errors occur. \n",
    "These built-in exceptions can be viewed using the local() built-in functions as follows :\n",
    "\n",
    ">>> locals()['__builtins__']\n",
    "\n",
    "\n",
    "Exception                          Description\n",
    "\n",
    "ArithmeticError--       Raised when an error occurs in numeric calculations\n",
    "AttributeError --       Raised when attribute reference or assignment fails\n",
    "Exception--             Base class for all exceptions\n",
    "ImportError--           Raised when an imported module does not exist\n",
    "IndentationError--      Raised when indentation is not correct\n",
    "KeyError--              Raised when a key does not exist in a dictionary\n",
    "NameError--             Raised when a variable does not exist\n",
    "OSError--               Raised when a system related operation causes an error\n",
    "StopIteration--         Raised when the next() method of an iterator has no further values\n",
    "SyntaxError--           Raised when a syntax error occurs\n",
    "filenotfounderror--     Raised when the file is not present in the path or file does not exist.\n",
    "fileexistserror--       Raised when file is already present in path, it occur when we use 'x' mode.\n",
    "typerror--              Occurs when the data type of objects in an operation is inappropriate.\n",
    "index error--           Raised when index item in a Python list that is out of range."
   ]
  },
  {
   "cell_type": "markdown",
   "id": "9c49a5e9",
   "metadata": {},
   "source": [
    "### 24. What are User-defined Exceptions?\n"
   ]
  },
  {
   "cell_type": "code",
   "execution_count": null,
   "id": "eab4a6b7",
   "metadata": {},
   "outputs": [],
   "source": [
    "User-defined Exceptions:\n",
    "1.Exceptions need to be derived from the Exception class, either directly or indirectly. \n",
    "   Although not mandatory, most of the exceptions are named as names that end in Error.\n",
    "2. User defined exceptions can be implemented by raising an exception explicitly.\n",
    "3. Inbuilt exceptions are raised automatically by a program in python but we can also raise inbuilt exceptions \n",
    "    using the python try except blocks and raise keyword.\n",
    "    \n",
    "We use raise keyword:\n",
    "    Python raise Keyword is used to raise exceptions or errors. \n",
    "    The raise keyword raises an error and stops the control flow of the program. \n",
    "    >> to create own message to an error\n",
    "    \n",
    "Syntax:\n",
    "    raise Exception(user text)"
   ]
  },
  {
   "cell_type": "markdown",
   "id": "9eee3b56",
   "metadata": {},
   "source": [
    "### 25. When would you not use try-except?"
   ]
  },
  {
   "cell_type": "code",
   "execution_count": null,
   "id": "492b7f65",
   "metadata": {},
   "outputs": [],
   "source": [
    "When our code does not have any error or exception, in that case there is no any need to use try-except."
   ]
  },
  {
   "cell_type": "markdown",
   "id": "9fc086f1",
   "metadata": {},
   "source": [
    "### 26. Can try-except catch the error if a file can’t be opened?"
   ]
  },
  {
   "cell_type": "code",
   "execution_count": null,
   "id": "66104c20",
   "metadata": {},
   "outputs": [],
   "source": [
    "Yes, try-except catch the error if a file can’t be opened.\n",
    "When the code in try block gives error then it will execute the except block and raise filenotfounderror."
   ]
  }
 ],
 "metadata": {
  "kernelspec": {
   "display_name": "Python 3 (ipykernel)",
   "language": "python",
   "name": "python3"
  },
  "language_info": {
   "codemirror_mode": {
    "name": "ipython",
    "version": 3
   },
   "file_extension": ".py",
   "mimetype": "text/x-python",
   "name": "python",
   "nbconvert_exporter": "python",
   "pygments_lexer": "ipython3",
   "version": "3.11.0"
  }
 },
 "nbformat": 4,
 "nbformat_minor": 5
}
